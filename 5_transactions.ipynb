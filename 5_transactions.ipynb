{
 "cells": [
  {
   "cell_type": "code",
   "execution_count": 1,
   "id": "3084a6d2",
   "metadata": {},
   "outputs": [],
   "source": [
    "import mysql.connector"
   ]
  },
  {
   "cell_type": "markdown",
   "id": "6636cca3",
   "metadata": {},
   "source": [
    "1. **Task: Bank Transactions**\n",
    "You are tasked with implementing a banking system that allows customers to transfer funds between accounts.\n",
    "Design a SQL transaction to ensure that the amount is deducted from the sender's account and added to the receiver's \n",
    "account in an atomic manner.\n",
    "If any part of the transaction fails, rollback the changes to maintain data integrity."
   ]
  },
  {
   "cell_type": "code",
   "execution_count": 6,
   "id": "d2bed75e",
   "metadata": {},
   "outputs": [],
   "source": [
    "# Lets imagine this kind of table in DB:\n",
    "\n",
    "# CREATE TABLE customers_accounts (\n",
    "#     id INT AUTO_INCREMENT PRIMARY KEY,\n",
    "#     account_number VARCHAR(20),\n",
    "#     balance DECIMAL(10, 2)\n",
    "# );\n",
    "\n",
    "# INSERT INTO customers_accounts (account_number, balance) VALUES\n",
    "# ('A123456', 1000),\n",
    "# ('B987654', 750),\n",
    "# ('C456789', 1500),\n",
    "# ('D111222', 300),\n",
    "# ('E555666', 2000);"
   ]
  },
  {
   "cell_type": "code",
   "execution_count": 4,
   "id": "75978d7f",
   "metadata": {},
   "outputs": [
    {
     "name": "stdout",
     "output_type": "stream",
     "text": [
      "There is not enough money in senders balance\n"
     ]
    },
    {
     "data": {
      "text/plain": [
       "True"
      ]
     },
     "execution_count": 4,
     "metadata": {},
     "output_type": "execute_result"
    }
   ],
   "source": [
    "connection = mysql.connector.connect(user=\"root\",\n",
    "                                     password=\"psw\",\n",
    "                                     host=\"localhost\",\n",
    "                                     database=\"db\")\n",
    "cursor = connection.cursor()\n",
    "\n",
    "# Get sender's current balance\n",
    "cursor.execute(\"SELECT balance FROM customers_accounts WHERE account_number = 'A123456'\")\n",
    "sender_balance = cursor.fetchone()[0]\n",
    "\n",
    "# Check if the sender has enought money in his balance\n",
    "if sender_balance < 1000:\n",
    "    print(\"There is not enough money in senders balance\")\n",
    "    connection.rollback()\n",
    "else:\n",
    "    # reduce sender's balance\n",
    "    cursor.execute(\"UPDATE customers_accounts SET balance = balance - 100  WHERE account_number = 'A123456'\")\n",
    "\n",
    "    # increase receiver's balance\n",
    "    cursor.execute(\"UPDATE customers_accounts SET balance = balance + 100 WHERE account_number = 'B987654'\")\n",
    "    connection.commit()\n",
    "    print(\"Transaction completed!\")\n",
    "\n",
    "cursor.close()\n",
    "connection.close()"
   ]
  },
  {
   "cell_type": "markdown",
   "id": "67c74439",
   "metadata": {},
   "source": [
    "2. **Task: Order Processing**\n",
    "You are developing an online shopping platform.\n",
    "Create a SQL transaction that updates the inventory of products when a customer places an order.\n",
    "Deduct the ordered quantity from the product stock and update the order status.\n",
    "If any part of the transaction fails (e.g., insufficient stock), roll back the changes to ensure consistent data."
   ]
  },
  {
   "cell_type": "code",
   "execution_count": null,
   "id": "bb0db7e2",
   "metadata": {},
   "outputs": [],
   "source": [
    "# CREATE TABLE products (\n",
    "#     id INT AUTO_INCREMENT PRIMARY KEY,\n",
    "#     product_name VARCHAR(100),\n",
    "#     stock_quantity INT\n",
    "# );\n",
    "\n",
    "# CREATE TABLE orders (\n",
    "#     id INT AUTO_INCREMENT PRIMARY KEY,\n",
    "#     customer_name VARCHAR(100),\n",
    "#     product_id INT,\n",
    "#     order_quantity INT,\n",
    "#     order_status VARCHAR(20)\n",
    "# );\n",
    "\n",
    "# INSERT INTO products (product_name, stock_quantity) VALUES\n",
    "# ('Product 1', 100),\n",
    "# ('Product 2', 50),\n",
    "# ('Product 3', 200),\n",
    "# ('Product 4', 75),\n",
    "# ('Product 5', 300);\n",
    "\n",
    "# INSERT INTO orders (customer_name, product_id, order_quantity, order_status) VALUES\n",
    "# ('John Doe', 1, 10, 'Processing'),\n",
    "# ('Alice Smith', 3, 5, 'Processing'),\n",
    "# ('Bob Johnson', 2, 20, 'Processing'),\n",
    "# ('Eva Brown', 4, 15, 'Processing'),\n",
    "# ('Michael Davis', 5, 25, 'Processing');"
   ]
  },
  {
   "cell_type": "code",
   "execution_count": 5,
   "id": "02f208bb",
   "metadata": {},
   "outputs": [
    {
     "name": "stdout",
     "output_type": "stream",
     "text": [
      "There are not enough products in stock\n"
     ]
    },
    {
     "data": {
      "text/plain": [
       "True"
      ]
     },
     "execution_count": 5,
     "metadata": {},
     "output_type": "execute_result"
    }
   ],
   "source": [
    "connection = mysql.connector.connect(user=\"root\",\n",
    "                                     password=\"psw\",\n",
    "                                     host=\"localhost\",\n",
    "                                     database=\"db\")\n",
    "cursor = connection.cursor()\n",
    "\n",
    "# get the amount of the product in stock \n",
    "cursor.execute(\"SELECT stock_quantity FROM products WHERE id = 2\")\n",
    "product_stock = cursor.fetchone()\n",
    "\n",
    "# check if it is enough\n",
    "if 45 > product_stock[0]:\n",
    "    print(\"There are not enough products in stock\")\n",
    "    connection.rollback()\n",
    "else: \n",
    "    # Deduct the ordered quantity \n",
    "    cursor.execute(\"UPDATE products SET stock_quantity = stock_quantity- 45 WHERE id = 2\")\n",
    "\n",
    "    # Update the order status\n",
    "    cursor.execute(\"INSERT INTO orders (customer_name, product_id, order_quantity, order_status) \"\n",
    "                    \"VALUES ('Bob Johnson', 2, 10, 'Completed')\")\n",
    "\n",
    "    connection.commit()\n",
    "    print(\"Order placed successfully!\")\n",
    "\n",
    "cursor.close()\n",
    "connection.close()"
   ]
  },
  {
   "cell_type": "markdown",
   "id": "e1314a9c",
   "metadata": {},
   "source": [
    "3. **Task: Employee Salary Adjustment**\n",
    "Your HR department needs to apply a salary adjustment to all employees based on their performance.\n",
    "Design a SQL transaction that updates the salary of each employee with the corresponding adjustment and logs the changes. \n",
    "If there is any issue while updating salaries, roll back the changes to maintain the previous salary data."
   ]
  },
  {
   "cell_type": "code",
   "execution_count": null,
   "id": "3fe8104e",
   "metadata": {},
   "outputs": [],
   "source": [
    "# CREATE TABLE employees (\n",
    "#     id INT AUTO_INCREMENT PRIMARY KEY,\n",
    "#     employee_name VARCHAR(100),\n",
    "#     salary DECIMAL(10, 2)\n",
    "# );\n",
    "\n",
    "# CREATE TABLE salary_adjustments (\n",
    "#     id INT AUTO_INCREMENT PRIMARY KEY,\n",
    "#     employee_id INT,\n",
    "#     adjustment DECIMAL(10, 2),\n",
    "#     adjustment_reason VARCHAR(255),\n",
    "#     adjusted_at TIMESTAMP DEFAULT CURRENT_TIMESTAMP\n",
    "# );\n",
    "\n",
    "# INSERT INTO employees (employee_name, salary) VALUES\n",
    "# ('John Doe', 50000.00),\n",
    "# ('Alice Smith', 60000.00);"
   ]
  },
  {
   "cell_type": "code",
   "execution_count": 6,
   "id": "a41fda63",
   "metadata": {},
   "outputs": [
    {
     "name": "stdout",
     "output_type": "stream",
     "text": [
      "Salary updated\n"
     ]
    }
   ],
   "source": [
    "connection = mysql.connector.connect(user=\"root\",\n",
    "                                     password=\"psw\",\n",
    "                                     host=\"localhost\",\n",
    "                                     database=\"db\")\n",
    "try: \n",
    "    cursor = connection.cursor()\n",
    "    \n",
    "    employee_id = 2\n",
    "    adjustment = 400\n",
    "    \n",
    "    # get current salary\n",
    "    cursor.execute(\"SELECT salary FROM employees WHERE id = %s\", (employee_id,))\n",
    "    current_salary = cursor.fetchone()[0]\n",
    "\n",
    "    # Calculate the new salary \n",
    "    new_salary = current_salary + adjustment\n",
    "\n",
    "    # Update the salary in the employee table\n",
    "    cursor.execute(\"UPDATE employees SET salary = %s WHERE id = %s\", (new_salary, employee_id))\n",
    "\n",
    "    # Log the changes of salary \n",
    "    cursor.execute(\"INSERT INTO salary_adjustments (employee_id, adjustment, adjustment_reason) \"\n",
    "                           \"VALUES (%s, %s, 'Salary Adjustment')\", (employee_id, adjustment))\n",
    "\n",
    "\n",
    "    connection.commit()\n",
    "    print(\"Salary updated\")\n",
    "    \n",
    "# If there is any issue while updating salaries, rollback the changes to maintain the previous salary data\n",
    "except (Exception, mysql.connector.Error) as error:\n",
    "    connection.rollback()\n",
    "    print(\"Salary updates failed\")\n",
    "    \n",
    "finally:\n",
    "    cursor.close()\n",
    "    connection.close()"
   ]
  },
  {
   "cell_type": "markdown",
   "id": "5466743f",
   "metadata": {},
   "source": [
    "4. **Task: Flight Reservation**\n",
    "You are building a flight reservation system. Create a SQL transaction that reserves a seat for a passenger on a flight.\n",
    "Deduct the seat availability, update the reservation record, and log the booking details.\n",
    "If any part of the transaction fails (e.g., seat already taken), roll back the changes and notify the user of the failure."
   ]
  },
  {
   "cell_type": "code",
   "execution_count": null,
   "id": "87f4c637",
   "metadata": {},
   "outputs": [],
   "source": [
    "# CREATE TABLE flights (\n",
    "#     id INT AUTO_INCREMENT PRIMARY KEY,\n",
    "#     flight_number VARCHAR(20),\n",
    "#     total_seats INT,\n",
    "#     available_seats INT\n",
    "# );\n",
    "\n",
    "# CREATE TABLE bookings (\n",
    "#     id INT AUTO_INCREMENT PRIMARY KEY,\n",
    "#     flight_id INT,\n",
    "#     passenger_id INT,\n",
    "#     seat_number INT,\n",
    "#     booking_time TIMESTAMP DEFAULT CURRENT_TIMESTAMP\n",
    "# );"
   ]
  },
  {
   "cell_type": "code",
   "execution_count": 8,
   "id": "5eeda0b4",
   "metadata": {},
   "outputs": [
    {
     "name": "stdout",
     "output_type": "stream",
     "text": [
      "This seat is not available\n"
     ]
    },
    {
     "data": {
      "text/plain": [
       "True"
      ]
     },
     "execution_count": 8,
     "metadata": {},
     "output_type": "execute_result"
    }
   ],
   "source": [
    "connection = mysql.connector.connect(user=\"root\",\n",
    "                                     password=\"psw\",\n",
    "                                     host=\"localhost\",\n",
    "                                     database=\"db\")\n",
    "cursor = connection.cursor()\n",
    "\n",
    "flight_id = 2\n",
    "passenger_id = 2\n",
    "seat_number = 8\n",
    "\n",
    "# Check available seats\n",
    "cursor.execute(\"SELECT available_seats FROM flights WHERE id = %s\", (flight_id,))\n",
    "available_seats = cursor.fetchone()[0]\n",
    "\n",
    "# Check if the seat is available\n",
    "cursor.execute(\"SELECT COUNT(*) FROM bookings WHERE flight_id = %s AND seat_number = %s\", (flight_id, seat_number))\n",
    "seat_taken = cursor.fetchone()[0]\n",
    "\n",
    "if available_seats <= 0 or seat_taken > 0:\n",
    "    print(\"This seat is not available\")\n",
    "    connection.rollback()\n",
    "else: \n",
    "    # Deduct the seat availability\n",
    "    new_available_seats = available_seats - 1\n",
    "    cursor.execute(\"UPDATE flights SET available_seats = %s WHERE id = %s\", (new_available_seats, flight_id))\n",
    "\n",
    "    # Reserve the seat for the passenger\n",
    "    cursor.execute(\"INSERT INTO bookings (flight_id, passenger_id, seat_number) \"\n",
    "                       \"VALUES (%s, %s, %s)\", (flight_id, passenger_id, seat_number))\n",
    "\n",
    "    connection.commit()\n",
    "    print(\"seat reserved\")\n",
    "\n",
    "cursor.close()\n",
    "connection.close()"
   ]
  },
  {
   "cell_type": "markdown",
   "id": "8cec1c07",
   "metadata": {},
   "source": [
    "5. **Task: Product Returns**\n",
    "You are developing an e-commerce platform. Implement a SQL transaction to process product returns initiated by customers.\n",
    "Update the product's return status, refund the customer's payment, and log the return details.\n",
    "If any part of the transaction fails (e.g., invalid return request), roll back the changes and handle the error gracefully."
   ]
  },
  {
   "cell_type": "code",
   "execution_count": null,
   "id": "226a70ab",
   "metadata": {},
   "outputs": [],
   "source": [
    "# CREATE TABLE return_logs (\n",
    "#     id INT AUTO_INCREMENT PRIMARY KEY,\n",
    "#     customer_id INT NOT NULL,\n",
    "#     product_id INT NOT NULL,\n",
    "#     refund_amount DECIMAL(10, 2) NOT NULL,\n",
    "#     return_date timestamp NOT NULL,\n",
    "#     status VARCHAR(50)\n",
    "# );"
   ]
  },
  {
   "cell_type": "code",
   "execution_count": 17,
   "id": "84e8a524",
   "metadata": {},
   "outputs": [
    {
     "name": "stdout",
     "output_type": "stream",
     "text": [
      "Transaction completed.\n"
     ]
    }
   ],
   "source": [
    "try:\n",
    "    connection = mysql.connector.connect(user=\"root\",\n",
    "                                     password=\"psw\",\n",
    "                                     host=\"localhost\",\n",
    "                                     database=\"db\")\n",
    "    cursor = connection.cursor()\n",
    "    \n",
    "    insert_data = {\n",
    "    'customer_id': 34,\n",
    "    'product_id': 14,\n",
    "    'refund_amount': 100.00\n",
    "    }\n",
    "\n",
    "    # Insert the return details\n",
    "    cursor.execute(\"INSERT INTO return_logs (customer_id, product_id, refund_amount, return_date, status)\"\n",
    "                    \"VALUES (%s, %s, %s, NOW(), %s)\", \n",
    "                   (insert_data['customer_id'], insert_data['product_id'], insert_data['refund_amount'], 'completed'))\n",
    "\n",
    "    connection.commit()\n",
    "    print(\"Transaction completed.\")\n",
    "\n",
    "except mysql.connector.Error as error:\n",
    "    connection.rollback()\n",
    "    print(\"Transaction failed. Error:\", error)\n",
    "\n",
    "finally:\n",
    "    cursor.close()\n",
    "    connection.close()"
   ]
  },
  {
   "cell_type": "markdown",
   "id": "8b483649",
   "metadata": {},
   "source": [
    "6. **Task: Student Enrollment**\n",
    "Design a SQL transaction to handle the enrollment of new students in a university.\n",
    "Update the student enrollment records, assign courses, and update the tuition fee payment status. \n",
    "If any part of the transaction fails (e.g., course limit reached), roll back the changes to ensure no invalid enrollments are recorded."
   ]
  },
  {
   "cell_type": "code",
   "execution_count": null,
   "id": "9248a606",
   "metadata": {},
   "outputs": [],
   "source": [
    "# CREATE TABLE enrollment_records (\n",
    "#     enrollment_id INT AUTO_INCREMENT PRIMARY KEY,\n",
    "#     student_id INT NOT NULL,\n",
    "#     course_id INT NOT NULL,\n",
    "#     payment_status VARCHAR(50) DEFAULT 'pending'\n",
    "# );"
   ]
  },
  {
   "cell_type": "code",
   "execution_count": 21,
   "id": "d31fe0a3",
   "metadata": {},
   "outputs": [
    {
     "name": "stdout",
     "output_type": "stream",
     "text": [
      "Enrollment process completed successfully.\n"
     ]
    }
   ],
   "source": [
    "try:\n",
    "    connection = mysql.connector.connect(user=\"root\",\n",
    "                                     password=\"psw\",\n",
    "                                     host=\"localhost\",\n",
    "                                     database=\"db\")\n",
    "    cursor = connection.cursor()\n",
    "    \n",
    "    # Example data for student enrollment\n",
    "    student_id = 122\n",
    "    course_ids = [101, 102, 103]  # List of course IDs \n",
    "\n",
    "    \n",
    "    # Check if the student is already enrolled in any of the selected courses\n",
    "    for course_id in course_ids:\n",
    "        cursor.execute(\"SELECT enrollment_id FROM enrollment_records WHERE student_id = %s AND course_id = %s\", (student_id, course_id))\n",
    "        existing_enrollment = cursor.fetchone()\n",
    "        if existing_enrollment:\n",
    "            raise Exception(\"Student has already enrolled in the course\")\n",
    "\n",
    "    # Insert new enrollment records\n",
    "    for course_id in course_ids:\n",
    "        cursor.execute(\"INSERT INTO enrollment_records (student_id, course_id) VALUES (%s, %s)\", (student_id, course_id))\n",
    "\n",
    "    # Update payment status \n",
    "    for course_id in course_ids:\n",
    "        cursor.execute(\"UPDATE enrollment_records SET payment_status = 'paid' WHERE student_id = %s AND course_id = %s\", (student_id, course_id))\n",
    "\n",
    "    connection.commit()\n",
    "    print(\"Enrollment process completed successfully.\")\n",
    "\n",
    "except mysql.connector.Error as error:\n",
    "    connection.rollback()\n",
    "    print(\"Enrollment process failed. Error:\", error)\n",
    "\n",
    "finally:\n",
    "    cursor.close()\n",
    "    connection.close()"
   ]
  },
  {
   "cell_type": "markdown",
   "id": "1b3f3d18",
   "metadata": {},
   "source": [
    "Non SQL database:\n",
    "\n",
    "In Python, design your own design of the database (using the files) and perform some practical examples with it. "
   ]
  },
  {
   "cell_type": "code",
   "execution_count": 78,
   "id": "5be71103",
   "metadata": {},
   "outputs": [],
   "source": [
    "import json\n"
   ]
  },
  {
   "cell_type": "code",
   "execution_count": 79,
   "id": "2a1de741",
   "metadata": {},
   "outputs": [],
   "source": [
    "book = {\"id\":1,\"title\":\"book1\",\"author\":\"authorA\",\"year\":1924}\n",
    "\n",
    "books = list()\n",
    "books.append(book)"
   ]
  },
  {
   "cell_type": "code",
   "execution_count": 80,
   "id": "c0309c4e",
   "metadata": {},
   "outputs": [],
   "source": [
    "with open(\"books.json\",\"w\") as json_f:\n",
    "    json.dump(books,json_f)"
   ]
  },
  {
   "cell_type": "code",
   "execution_count": 81,
   "id": "5690f4c2",
   "metadata": {},
   "outputs": [],
   "source": [
    "class BooksDB:\n",
    "    def __init__(self):\n",
    "        self.data = self.load_data()\n",
    "        \n",
    "    def load_data(self):\n",
    "        with open('books.json', 'r') as file:\n",
    "            data = json.load(file)\n",
    "        return data\n",
    "\n",
    "    def save_data(self, data):\n",
    "        with open('books.json', 'w') as file:\n",
    "            json.dump(self.data, file, indent=4)\n",
    "\n",
    "    def add_book(self, title, author, year):\n",
    "        # Generate a new book ID\n",
    "        new_id = 1\n",
    "        if self.data:\n",
    "            new_id = max(book['id'] for book in self.data) + 1\n",
    "\n",
    "        # Add the new book to the database\n",
    "        new_book = {\n",
    "            'id': new_id,\n",
    "            'title': title,\n",
    "            'author': author,\n",
    "            'year': year\n",
    "        }\n",
    "        self.data.append(new_book)\n",
    "\n",
    "        # Save the updated data to the file\n",
    "        self.save_data(self.data)\n",
    "\n",
    "    # Find all books with the given author\n",
    "    def get_books_by_author(self, author):\n",
    "        author_books = [book for book in self.data if book['author'] == author]\n",
    "        return author_books\n"
   ]
  },
  {
   "cell_type": "code",
   "execution_count": 82,
   "id": "f8184cdd",
   "metadata": {},
   "outputs": [],
   "source": [
    "book_db = BooksDB()"
   ]
  },
  {
   "cell_type": "code",
   "execution_count": 83,
   "id": "3b6a8005",
   "metadata": {},
   "outputs": [],
   "source": [
    "# Add new books to the database\n",
    "book_db.add_book(\"Book2\", \"authorB\", 2014)\n",
    "book_db.add_book(\"Book3\", \"authorD\", 2015)"
   ]
  },
  {
   "cell_type": "code",
   "execution_count": 84,
   "id": "356b546e",
   "metadata": {},
   "outputs": [
    {
     "name": "stdout",
     "output_type": "stream",
     "text": [
      "Books by authorA:\n",
      "{'id': 1, 'title': 'book1', 'author': 'authorA', 'year': 1924}\n"
     ]
    }
   ],
   "source": [
    "# find books by author\n",
    "author_a_books = book_db.get_books_by_author(\"authorA\")\n",
    "print(\"Books by authorA:\")\n",
    "for book in author_a_books:\n",
    "    print(book)"
   ]
  },
  {
   "cell_type": "code",
   "execution_count": null,
   "id": "6e527c28",
   "metadata": {},
   "outputs": [],
   "source": []
  }
 ],
 "metadata": {
  "hide_input": false,
  "kernelspec": {
   "display_name": "Python 3 (ipykernel)",
   "language": "python",
   "name": "python3"
  },
  "language_info": {
   "codemirror_mode": {
    "name": "ipython",
    "version": 3
   },
   "file_extension": ".py",
   "mimetype": "text/x-python",
   "name": "python",
   "nbconvert_exporter": "python",
   "pygments_lexer": "ipython3",
   "version": "3.10.4"
  }
 },
 "nbformat": 4,
 "nbformat_minor": 5
}
