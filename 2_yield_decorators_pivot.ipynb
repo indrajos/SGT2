{
 "cells": [
  {
   "cell_type": "markdown",
   "id": "586b952a",
   "metadata": {},
   "source": [
    "### Yield"
   ]
  },
  {
   "cell_type": "markdown",
   "id": "841f6946",
   "metadata": {},
   "source": [
    "1) Create a generator for prime numbers:\n",
    "Write a generator function that generates prime numbers. Each call to the generator should yield the next prime number."
   ]
  },
  {
   "cell_type": "code",
   "execution_count": null,
   "id": "118b3667",
   "metadata": {},
   "outputs": [],
   "source": [
    "def get_primes():\n",
    "    n = 2\n",
    "    primes = set()\n",
    "    while True:\n",
    "        for p in primes:\n",
    "            if n % p == 0:\n",
    "                break\n",
    "        else:\n",
    "            primes.add(n)\n",
    "            yield n\n",
    "        n += 1"
   ]
  },
  {
   "cell_type": "code",
   "execution_count": 91,
   "id": "dacb6abe",
   "metadata": {},
   "outputs": [],
   "source": [
    "primes_gen = get_primes()"
   ]
  },
  {
   "cell_type": "code",
   "execution_count": 95,
   "id": "8091ca71",
   "metadata": {},
   "outputs": [
    {
     "data": {
      "text/plain": [
       "7"
      ]
     },
     "execution_count": 95,
     "metadata": {},
     "output_type": "execute_result"
    }
   ],
   "source": [
    "next(primes_gen)"
   ]
  },
  {
   "cell_type": "markdown",
   "id": "aa34675d",
   "metadata": {},
   "source": [
    "2) Create a generator to generate random numbers within a range:\n",
    "Write a generator function that generates random numbers within a specified range. Each call to the generator should \n",
    "yield a random number."
   ]
  },
  {
   "cell_type": "code",
   "execution_count": null,
   "id": "3823d04e",
   "metadata": {},
   "outputs": [],
   "source": [
    "import random"
   ]
  },
  {
   "cell_type": "code",
   "execution_count": null,
   "id": "94416a5a",
   "metadata": {},
   "outputs": [],
   "source": [
    "def get_random(n):\n",
    "    while True:\n",
    "        yield random.randrange(n)"
   ]
  },
  {
   "cell_type": "code",
   "execution_count": 56,
   "id": "acac5525",
   "metadata": {},
   "outputs": [],
   "source": [
    "result = get_random(100)"
   ]
  },
  {
   "cell_type": "code",
   "execution_count": 57,
   "id": "9b4d97af",
   "metadata": {},
   "outputs": [
    {
     "data": {
      "text/plain": [
       "98"
      ]
     },
     "execution_count": 57,
     "metadata": {},
     "output_type": "execute_result"
    }
   ],
   "source": [
    "next(result)"
   ]
  },
  {
   "cell_type": "markdown",
   "id": "2e32340a",
   "metadata": {},
   "source": [
    "3) Create a generator to generate permutations of a list:\n",
    "Write a generator function that generates all possible permutations of a given list. \n",
    "Each call to the generator should yield a different permutation."
   ]
  },
  {
   "cell_type": "code",
   "execution_count": 122,
   "id": "321749c7",
   "metadata": {},
   "outputs": [],
   "source": [
    "from itertools import permutations"
   ]
  },
  {
   "cell_type": "code",
   "execution_count": 146,
   "id": "a9ad26f6",
   "metadata": {},
   "outputs": [],
   "source": [
    "def gen_permut(elements:list):\n",
    "    elements = tuple(elements)\n",
    "    if len(elements) <= 1:\n",
    "        yield elements\n",
    "        return\n",
    "    for perm in permutations(elements[1:]):\n",
    "        for i in range(len(elements)):\n",
    "            yield perm[:i] + elements[0:1] + perm[i:]"
   ]
  },
  {
   "cell_type": "code",
   "execution_count": 147,
   "id": "d33bb7a0",
   "metadata": {},
   "outputs": [],
   "source": [
    "res = gen_permut([1, 2, 3])"
   ]
  },
  {
   "cell_type": "code",
   "execution_count": 149,
   "id": "8e4d3b28",
   "metadata": {},
   "outputs": [
    {
     "data": {
      "text/plain": [
       "(2, 1, 3)"
      ]
     },
     "execution_count": 149,
     "metadata": {},
     "output_type": "execute_result"
    }
   ],
   "source": [
    "next(res)"
   ]
  },
  {
   "cell_type": "markdown",
   "id": "fd1c5df4",
   "metadata": {},
   "source": [
    "### Decorators"
   ]
  },
  {
   "cell_type": "markdown",
   "id": "0aff36a6",
   "metadata": {},
   "source": [
    "4) Implement a memoization decorator:\n",
    "Write a decorator that caches the result of a function for given input arguments. \n",
    "Apply this decorator to a computationally expensive function and observe the improved performance by reusing cached results."
   ]
  },
  {
   "cell_type": "code",
   "execution_count": 19,
   "id": "88f09e72",
   "metadata": {},
   "outputs": [],
   "source": [
    "def memoization(func):\n",
    "    memory = dict()\n",
    "    def wrapper(*args,**kwargs):\n",
    "        i = (*args, *kwargs.items())\n",
    "        if i in memory:\n",
    "            print('The result was found in cache')\n",
    "            return memory[i]\n",
    "        else:\n",
    "            print('The result just created')\n",
    "            res = func(*args, **kwargs)\n",
    "            memory[i] = res\n",
    "        return res\n",
    "    return wrapper\n",
    "\n",
    "\n",
    "@memoization\n",
    "def calculation(x, y):\n",
    "    return (x*2) + (y*2)"
   ]
  },
  {
   "cell_type": "code",
   "execution_count": 21,
   "id": "9535ad16",
   "metadata": {},
   "outputs": [
    {
     "name": "stdout",
     "output_type": "stream",
     "text": [
      "Result was found in cache\n"
     ]
    },
    {
     "data": {
      "text/plain": [
       "8"
      ]
     },
     "execution_count": 21,
     "metadata": {},
     "output_type": "execute_result"
    }
   ],
   "source": [
    "calculation(2,2)"
   ]
  },
  {
   "cell_type": "markdown",
   "id": "e4a22fe8",
   "metadata": {},
   "source": [
    "5)Implement a retry decorator:\n",
    "Write a decorator that retries the execution of a function a specified number of times in case of failures or exceptions. \n",
    "Apply this decorator to functions that interact with external services to handle temporary failures gracefully."
   ]
  },
  {
   "cell_type": "code",
   "execution_count": 78,
   "id": "9f2c16d9",
   "metadata": {},
   "outputs": [],
   "source": [
    "def retry(attempt_amount):\n",
    "    def decorator(func):\n",
    "        def wrapper():\n",
    "            attempts = 0\n",
    "            while attempts < attempt_amount:\n",
    "                try:\n",
    "                    return func()\n",
    "                except:\n",
    "                    attempts += 1\n",
    "            else:\n",
    "                raise Exception(\"Failed after \" + str(attempt_amount) + \" attempts\")\n",
    "        return wrapper\n",
    "    return decorator\n",
    "\n",
    "@retry(5)\n",
    "def any_func():\n",
    "    #print('ok')\n",
    "    raise Exception(\"one more try\")"
   ]
  },
  {
   "cell_type": "code",
   "execution_count": 79,
   "id": "d7f92099",
   "metadata": {},
   "outputs": [
    {
     "name": "stdout",
     "output_type": "stream",
     "text": [
      "ok\n"
     ]
    }
   ],
   "source": [
    "any_func()"
   ]
  },
  {
   "cell_type": "markdown",
   "id": "747f604a",
   "metadata": {},
   "source": [
    "6) Create a rate-limiting decorator:\n",
    "Write a decorator that limits the rate at which a function can be called. \n",
    "Apply this decorator to functions that should not be invoked more than a certain number of times per second or minute."
   ]
  },
  {
   "cell_type": "code",
   "execution_count": 22,
   "id": "701c5f9c",
   "metadata": {},
   "outputs": [],
   "source": [
    "import time"
   ]
  },
  {
   "cell_type": "code",
   "execution_count": 51,
   "id": "81629e06",
   "metadata": {},
   "outputs": [],
   "source": [
    "def rate_limiting(invoke_times:int, seconds:int):\n",
    "    def decorator(func):\n",
    "        call_counter = 0\n",
    "        latest_time = time.time()\n",
    "\n",
    "        def wrapper(*args, **kwargs):\n",
    "            nonlocal call_counter, latest_time\n",
    "\n",
    "            elapsed_time = time.time() - latest_time\n",
    "\n",
    "            if elapsed_time > seconds:\n",
    "                # then reset counter and time:\n",
    "                call_counter = 0\n",
    "                latest_time = time.time()\n",
    "            \n",
    "            # when call counter reaches the limitation - raise an exception\n",
    "            if call_counter >= invoke_times:\n",
    "                raise Exception(\"Rate limitation.\")\n",
    "        \n",
    "            call_counter += 1\n",
    "            return func(*args, **kwargs)\n",
    "\n",
    "        return wrapper\n",
    "    return decorator\n",
    "\n",
    "\n",
    "@rate_limiting(invoke_times=2, seconds=10)\n",
    "def func_to_call():\n",
    "    print(\"Function executed.\")"
   ]
  },
  {
   "cell_type": "code",
   "execution_count": 56,
   "id": "c233ce95",
   "metadata": {},
   "outputs": [
    {
     "name": "stdout",
     "output_type": "stream",
     "text": [
      "Function executed.\n"
     ]
    }
   ],
   "source": [
    "func_to_call()"
   ]
  },
  {
   "cell_type": "markdown",
   "id": "6eca9c1b",
   "metadata": {},
   "source": [
    "### Pivot"
   ]
  },
  {
   "cell_type": "markdown",
   "id": "d2042b19",
   "metadata": {},
   "source": [
    "7) Pivot a DataFrame based on column values:\n",
    "Take a DataFrame with columns representing categories and values, and pivot it to reshape the data, \n",
    "with the category values as columns and corresponding values in the cells."
   ]
  },
  {
   "cell_type": "code",
   "execution_count": null,
   "id": "e134bed6",
   "metadata": {},
   "outputs": [],
   "source": [
    "import pandas as pd"
   ]
  },
  {
   "cell_type": "code",
   "execution_count": 167,
   "id": "8eba769e",
   "metadata": {},
   "outputs": [
    {
     "data": {
      "text/html": [
       "<div>\n",
       "<style scoped>\n",
       "    .dataframe tbody tr th:only-of-type {\n",
       "        vertical-align: middle;\n",
       "    }\n",
       "\n",
       "    .dataframe tbody tr th {\n",
       "        vertical-align: top;\n",
       "    }\n",
       "\n",
       "    .dataframe thead th {\n",
       "        text-align: right;\n",
       "    }\n",
       "</style>\n",
       "<table border=\"1\" class=\"dataframe\">\n",
       "  <thead>\n",
       "    <tr style=\"text-align: right;\">\n",
       "      <th></th>\n",
       "      <th>Category</th>\n",
       "      <th>Region</th>\n",
       "      <th>Target 2020 Qty</th>\n",
       "      <th>Target 2025 Qty</th>\n",
       "      <th>Target 2030 Qty</th>\n",
       "    </tr>\n",
       "  </thead>\n",
       "  <tbody>\n",
       "    <tr>\n",
       "      <th>0</th>\n",
       "      <td>Office Supplies</td>\n",
       "      <td>North</td>\n",
       "      <td>86996</td>\n",
       "      <td>34120</td>\n",
       "      <td>80677</td>\n",
       "    </tr>\n",
       "    <tr>\n",
       "      <th>1</th>\n",
       "      <td>Technology</td>\n",
       "      <td>North</td>\n",
       "      <td>71392</td>\n",
       "      <td>52291</td>\n",
       "      <td>25565</td>\n",
       "    </tr>\n",
       "    <tr>\n",
       "      <th>2</th>\n",
       "      <td>Office Supplies</td>\n",
       "      <td>Central</td>\n",
       "      <td>39977</td>\n",
       "      <td>98748</td>\n",
       "      <td>57307</td>\n",
       "    </tr>\n",
       "    <tr>\n",
       "      <th>3</th>\n",
       "      <td>Technology</td>\n",
       "      <td>Central</td>\n",
       "      <td>68755</td>\n",
       "      <td>40164</td>\n",
       "      <td>15327</td>\n",
       "    </tr>\n",
       "    <tr>\n",
       "      <th>4</th>\n",
       "      <td>Furniture</td>\n",
       "      <td>Central</td>\n",
       "      <td>31744</td>\n",
       "      <td>16146</td>\n",
       "      <td>64775</td>\n",
       "    </tr>\n",
       "    <tr>\n",
       "      <th>5</th>\n",
       "      <td>Office Supplies</td>\n",
       "      <td>South</td>\n",
       "      <td>50292</td>\n",
       "      <td>88961</td>\n",
       "      <td>86979</td>\n",
       "    </tr>\n",
       "    <tr>\n",
       "      <th>6</th>\n",
       "      <td>Technology</td>\n",
       "      <td>South</td>\n",
       "      <td>40988</td>\n",
       "      <td>91134</td>\n",
       "      <td>86807</td>\n",
       "    </tr>\n",
       "    <tr>\n",
       "      <th>7</th>\n",
       "      <td>Furniture</td>\n",
       "      <td>South</td>\n",
       "      <td>61702</td>\n",
       "      <td>15450</td>\n",
       "      <td>92635</td>\n",
       "    </tr>\n",
       "    <tr>\n",
       "      <th>8</th>\n",
       "      <td>Furniture</td>\n",
       "      <td>North</td>\n",
       "      <td>65298</td>\n",
       "      <td>11127</td>\n",
       "      <td>71559</td>\n",
       "    </tr>\n",
       "  </tbody>\n",
       "</table>\n",
       "</div>"
      ],
      "text/plain": [
       "          Category   Region  Target 2020 Qty  Target 2025 Qty  Target 2030 Qty\n",
       "0  Office Supplies    North            86996            34120            80677\n",
       "1       Technology    North            71392            52291            25565\n",
       "2  Office Supplies  Central            39977            98748            57307\n",
       "3       Technology  Central            68755            40164            15327\n",
       "4        Furniture  Central            31744            16146            64775\n",
       "5  Office Supplies    South            50292            88961            86979\n",
       "6       Technology    South            40988            91134            86807\n",
       "7        Furniture    South            61702            15450            92635\n",
       "8        Furniture    North            65298            11127            71559"
      ]
     },
     "execution_count": 167,
     "metadata": {},
     "output_type": "execute_result"
    }
   ],
   "source": [
    "df = pd.read_csv('Superstore.csv')\n",
    "df"
   ]
  },
  {
   "cell_type": "code",
   "execution_count": 74,
   "id": "d7605d06",
   "metadata": {
    "collapsed": true
   },
   "outputs": [
    {
     "data": {
      "text/html": [
       "<div>\n",
       "<style scoped>\n",
       "    .dataframe tbody tr th:only-of-type {\n",
       "        vertical-align: middle;\n",
       "    }\n",
       "\n",
       "    .dataframe tbody tr th {\n",
       "        vertical-align: top;\n",
       "    }\n",
       "\n",
       "    .dataframe thead tr th {\n",
       "        text-align: left;\n",
       "    }\n",
       "\n",
       "    .dataframe thead tr:last-of-type th {\n",
       "        text-align: right;\n",
       "    }\n",
       "</style>\n",
       "<table border=\"1\" class=\"dataframe\">\n",
       "  <thead>\n",
       "    <tr>\n",
       "      <th></th>\n",
       "      <th colspan=\"3\" halign=\"left\">Target 2020 Qty</th>\n",
       "      <th colspan=\"3\" halign=\"left\">Target 2025 Qty</th>\n",
       "      <th colspan=\"3\" halign=\"left\">Target 2030 Qty</th>\n",
       "    </tr>\n",
       "    <tr>\n",
       "      <th>Region</th>\n",
       "      <th>Central</th>\n",
       "      <th>North</th>\n",
       "      <th>South</th>\n",
       "      <th>Central</th>\n",
       "      <th>North</th>\n",
       "      <th>South</th>\n",
       "      <th>Central</th>\n",
       "      <th>North</th>\n",
       "      <th>South</th>\n",
       "    </tr>\n",
       "    <tr>\n",
       "      <th>Category</th>\n",
       "      <th></th>\n",
       "      <th></th>\n",
       "      <th></th>\n",
       "      <th></th>\n",
       "      <th></th>\n",
       "      <th></th>\n",
       "      <th></th>\n",
       "      <th></th>\n",
       "      <th></th>\n",
       "    </tr>\n",
       "  </thead>\n",
       "  <tbody>\n",
       "    <tr>\n",
       "      <th>Furniture</th>\n",
       "      <td>31744</td>\n",
       "      <td>65298</td>\n",
       "      <td>61702</td>\n",
       "      <td>16146</td>\n",
       "      <td>11127</td>\n",
       "      <td>15450</td>\n",
       "      <td>64775</td>\n",
       "      <td>71559</td>\n",
       "      <td>92635</td>\n",
       "    </tr>\n",
       "    <tr>\n",
       "      <th>Office Supplies</th>\n",
       "      <td>39977</td>\n",
       "      <td>86996</td>\n",
       "      <td>50292</td>\n",
       "      <td>98748</td>\n",
       "      <td>34120</td>\n",
       "      <td>88961</td>\n",
       "      <td>57307</td>\n",
       "      <td>80677</td>\n",
       "      <td>86979</td>\n",
       "    </tr>\n",
       "    <tr>\n",
       "      <th>Technology</th>\n",
       "      <td>68755</td>\n",
       "      <td>71392</td>\n",
       "      <td>40988</td>\n",
       "      <td>40164</td>\n",
       "      <td>52291</td>\n",
       "      <td>91134</td>\n",
       "      <td>15327</td>\n",
       "      <td>25565</td>\n",
       "      <td>86807</td>\n",
       "    </tr>\n",
       "  </tbody>\n",
       "</table>\n",
       "</div>"
      ],
      "text/plain": [
       "                Target 2020 Qty               Target 2025 Qty                \\\n",
       "Region                  Central  North  South         Central  North  South   \n",
       "Category                                                                      \n",
       "Furniture                 31744  65298  61702           16146  11127  15450   \n",
       "Office Supplies           39977  86996  50292           98748  34120  88961   \n",
       "Technology                68755  71392  40988           40164  52291  91134   \n",
       "\n",
       "                Target 2030 Qty                \n",
       "Region                  Central  North  South  \n",
       "Category                                       \n",
       "Furniture                 64775  71559  92635  \n",
       "Office Supplies           57307  80677  86979  \n",
       "Technology                15327  25565  86807  "
      ]
     },
     "execution_count": 74,
     "metadata": {},
     "output_type": "execute_result"
    }
   ],
   "source": [
    "pivot_df = df.pivot(index='Category',\n",
    "                    columns='Region',\n",
    "                    values=['Target 2020 Qty', 'Target 2025 Qty', 'Target 2030 Qty'])\n",
    "pivot_df"
   ]
  },
  {
   "cell_type": "markdown",
   "id": "4f85ef96",
   "metadata": {},
   "source": [
    "8) Aggregate and pivot data:\n",
    "Given a DataFrame with multiple columns, apply aggregation functions (e.g., sum, average) to the values \n",
    "and pivot the data based on specific columns."
   ]
  },
  {
   "cell_type": "code",
   "execution_count": 163,
   "id": "597729f5",
   "metadata": {},
   "outputs": [],
   "source": [
    "sum_df = df.pivot_table(index='Category',\n",
    "                        values=['Target 2020 Qty', 'Target 2025 Qty', 'Target 2030 Qty'], \n",
    "                        aggfunc=[\"sum\",\"mean\"])"
   ]
  },
  {
   "cell_type": "code",
   "execution_count": 165,
   "id": "f2069906",
   "metadata": {},
   "outputs": [
    {
     "data": {
      "text/html": [
       "<div>\n",
       "<style scoped>\n",
       "    .dataframe tbody tr th:only-of-type {\n",
       "        vertical-align: middle;\n",
       "    }\n",
       "\n",
       "    .dataframe tbody tr th {\n",
       "        vertical-align: top;\n",
       "    }\n",
       "\n",
       "    .dataframe thead tr th {\n",
       "        text-align: left;\n",
       "    }\n",
       "\n",
       "    .dataframe thead tr:last-of-type th {\n",
       "        text-align: right;\n",
       "    }\n",
       "</style>\n",
       "<table border=\"1\" class=\"dataframe\">\n",
       "  <thead>\n",
       "    <tr>\n",
       "      <th></th>\n",
       "      <th colspan=\"3\" halign=\"left\">sum</th>\n",
       "      <th colspan=\"3\" halign=\"left\">mean</th>\n",
       "    </tr>\n",
       "    <tr>\n",
       "      <th></th>\n",
       "      <th>Target 2020 Qty</th>\n",
       "      <th>Target 2025 Qty</th>\n",
       "      <th>Target 2030 Qty</th>\n",
       "      <th>Target 2020 Qty</th>\n",
       "      <th>Target 2025 Qty</th>\n",
       "      <th>Target 2030 Qty</th>\n",
       "    </tr>\n",
       "    <tr>\n",
       "      <th>Category</th>\n",
       "      <th></th>\n",
       "      <th></th>\n",
       "      <th></th>\n",
       "      <th></th>\n",
       "      <th></th>\n",
       "      <th></th>\n",
       "    </tr>\n",
       "  </thead>\n",
       "  <tbody>\n",
       "    <tr>\n",
       "      <th>Furniture</th>\n",
       "      <td>158744</td>\n",
       "      <td>42723</td>\n",
       "      <td>228969</td>\n",
       "      <td>52914.67</td>\n",
       "      <td>14241.00</td>\n",
       "      <td>76323.00</td>\n",
       "    </tr>\n",
       "    <tr>\n",
       "      <th>Office Supplies</th>\n",
       "      <td>177265</td>\n",
       "      <td>221829</td>\n",
       "      <td>224963</td>\n",
       "      <td>59088.33</td>\n",
       "      <td>73943.00</td>\n",
       "      <td>74987.67</td>\n",
       "    </tr>\n",
       "    <tr>\n",
       "      <th>Technology</th>\n",
       "      <td>181135</td>\n",
       "      <td>183589</td>\n",
       "      <td>127699</td>\n",
       "      <td>60378.33</td>\n",
       "      <td>61196.33</td>\n",
       "      <td>42566.33</td>\n",
       "    </tr>\n",
       "  </tbody>\n",
       "</table>\n",
       "</div>"
      ],
      "text/plain": [
       "                            sum                                  \\\n",
       "                Target 2020 Qty Target 2025 Qty Target 2030 Qty   \n",
       "Category                                                          \n",
       "Furniture                158744           42723          228969   \n",
       "Office Supplies          177265          221829          224963   \n",
       "Technology               181135          183589          127699   \n",
       "\n",
       "                           mean                                  \n",
       "                Target 2020 Qty Target 2025 Qty Target 2030 Qty  \n",
       "Category                                                         \n",
       "Furniture              52914.67        14241.00        76323.00  \n",
       "Office Supplies        59088.33        73943.00        74987.67  \n",
       "Technology             60378.33        61196.33        42566.33  "
      ]
     },
     "execution_count": 165,
     "metadata": {},
     "output_type": "execute_result"
    }
   ],
   "source": [
    "sum_df.round(2)"
   ]
  },
  {
   "cell_type": "markdown",
   "id": "f6c06146",
   "metadata": {},
   "source": [
    "9) Pivot with multi-index columns:\n",
    "Perform a pivot operation on a DataFrame with multi-index columns, reshaping the data based on specific levels of the \n",
    "column index."
   ]
  },
  {
   "cell_type": "code",
   "execution_count": 203,
   "id": "c8eb35de",
   "metadata": {},
   "outputs": [
    {
     "data": {
      "text/html": [
       "<div>\n",
       "<style scoped>\n",
       "    .dataframe tbody tr th:only-of-type {\n",
       "        vertical-align: middle;\n",
       "    }\n",
       "\n",
       "    .dataframe tbody tr th {\n",
       "        vertical-align: top;\n",
       "    }\n",
       "\n",
       "    .dataframe thead tr th {\n",
       "        text-align: left;\n",
       "    }\n",
       "\n",
       "    .dataframe thead tr:last-of-type th {\n",
       "        text-align: right;\n",
       "    }\n",
       "</style>\n",
       "<table border=\"1\" class=\"dataframe\">\n",
       "  <thead>\n",
       "    <tr>\n",
       "      <th></th>\n",
       "      <th colspan=\"3\" halign=\"left\">Target 2020 Qty</th>\n",
       "      <th colspan=\"3\" halign=\"left\">Target 2025 Qty</th>\n",
       "      <th colspan=\"3\" halign=\"left\">Target 2030 Qty</th>\n",
       "    </tr>\n",
       "    <tr>\n",
       "      <th>Region</th>\n",
       "      <th>Central</th>\n",
       "      <th>North</th>\n",
       "      <th>South</th>\n",
       "      <th>Central</th>\n",
       "      <th>North</th>\n",
       "      <th>South</th>\n",
       "      <th>Central</th>\n",
       "      <th>North</th>\n",
       "      <th>South</th>\n",
       "    </tr>\n",
       "    <tr>\n",
       "      <th>Category</th>\n",
       "      <th></th>\n",
       "      <th></th>\n",
       "      <th></th>\n",
       "      <th></th>\n",
       "      <th></th>\n",
       "      <th></th>\n",
       "      <th></th>\n",
       "      <th></th>\n",
       "      <th></th>\n",
       "    </tr>\n",
       "  </thead>\n",
       "  <tbody>\n",
       "    <tr>\n",
       "      <th>Furniture</th>\n",
       "      <td>31744</td>\n",
       "      <td>65298</td>\n",
       "      <td>61702</td>\n",
       "      <td>16146</td>\n",
       "      <td>11127</td>\n",
       "      <td>15450</td>\n",
       "      <td>64775</td>\n",
       "      <td>71559</td>\n",
       "      <td>92635</td>\n",
       "    </tr>\n",
       "    <tr>\n",
       "      <th>Office Supplies</th>\n",
       "      <td>39977</td>\n",
       "      <td>86996</td>\n",
       "      <td>50292</td>\n",
       "      <td>98748</td>\n",
       "      <td>34120</td>\n",
       "      <td>88961</td>\n",
       "      <td>57307</td>\n",
       "      <td>80677</td>\n",
       "      <td>86979</td>\n",
       "    </tr>\n",
       "    <tr>\n",
       "      <th>Technology</th>\n",
       "      <td>68755</td>\n",
       "      <td>71392</td>\n",
       "      <td>40988</td>\n",
       "      <td>40164</td>\n",
       "      <td>52291</td>\n",
       "      <td>91134</td>\n",
       "      <td>15327</td>\n",
       "      <td>25565</td>\n",
       "      <td>86807</td>\n",
       "    </tr>\n",
       "  </tbody>\n",
       "</table>\n",
       "</div>"
      ],
      "text/plain": [
       "                Target 2020 Qty               Target 2025 Qty                \\\n",
       "Region                  Central  North  South         Central  North  South   \n",
       "Category                                                                      \n",
       "Furniture                 31744  65298  61702           16146  11127  15450   \n",
       "Office Supplies           39977  86996  50292           98748  34120  88961   \n",
       "Technology                68755  71392  40988           40164  52291  91134   \n",
       "\n",
       "                Target 2030 Qty                \n",
       "Region                  Central  North  South  \n",
       "Category                                       \n",
       "Furniture                 64775  71559  92635  \n",
       "Office Supplies           57307  80677  86979  \n",
       "Technology                15327  25565  86807  "
      ]
     },
     "execution_count": 203,
     "metadata": {},
     "output_type": "execute_result"
    }
   ],
   "source": [
    "multi = df.set_index(['Category', 'Region']).unstack()\n",
    "multi"
   ]
  },
  {
   "cell_type": "code",
   "execution_count": 204,
   "id": "a7affae1",
   "metadata": {},
   "outputs": [
    {
     "data": {
      "text/html": [
       "<div>\n",
       "<style scoped>\n",
       "    .dataframe tbody tr th:only-of-type {\n",
       "        vertical-align: middle;\n",
       "    }\n",
       "\n",
       "    .dataframe tbody tr th {\n",
       "        vertical-align: top;\n",
       "    }\n",
       "\n",
       "    .dataframe thead tr th {\n",
       "        text-align: left;\n",
       "    }\n",
       "\n",
       "    .dataframe thead tr:last-of-type th {\n",
       "        text-align: right;\n",
       "    }\n",
       "</style>\n",
       "<table border=\"1\" class=\"dataframe\">\n",
       "  <thead>\n",
       "    <tr>\n",
       "      <th></th>\n",
       "      <th colspan=\"3\" halign=\"left\">Target 2020 Qty</th>\n",
       "      <th colspan=\"3\" halign=\"left\">Target 2025 Qty</th>\n",
       "      <th colspan=\"3\" halign=\"left\">Target 2030 Qty</th>\n",
       "    </tr>\n",
       "    <tr>\n",
       "      <th>Category</th>\n",
       "      <th>Furniture</th>\n",
       "      <th>Office Supplies</th>\n",
       "      <th>Technology</th>\n",
       "      <th>Furniture</th>\n",
       "      <th>Office Supplies</th>\n",
       "      <th>Technology</th>\n",
       "      <th>Furniture</th>\n",
       "      <th>Office Supplies</th>\n",
       "      <th>Technology</th>\n",
       "    </tr>\n",
       "    <tr>\n",
       "      <th>Region</th>\n",
       "      <th></th>\n",
       "      <th></th>\n",
       "      <th></th>\n",
       "      <th></th>\n",
       "      <th></th>\n",
       "      <th></th>\n",
       "      <th></th>\n",
       "      <th></th>\n",
       "      <th></th>\n",
       "    </tr>\n",
       "  </thead>\n",
       "  <tbody>\n",
       "    <tr>\n",
       "      <th>Central</th>\n",
       "      <td>31744</td>\n",
       "      <td>39977</td>\n",
       "      <td>68755</td>\n",
       "      <td>16146</td>\n",
       "      <td>98748</td>\n",
       "      <td>40164</td>\n",
       "      <td>64775</td>\n",
       "      <td>57307</td>\n",
       "      <td>15327</td>\n",
       "    </tr>\n",
       "    <tr>\n",
       "      <th>North</th>\n",
       "      <td>65298</td>\n",
       "      <td>86996</td>\n",
       "      <td>71392</td>\n",
       "      <td>11127</td>\n",
       "      <td>34120</td>\n",
       "      <td>52291</td>\n",
       "      <td>71559</td>\n",
       "      <td>80677</td>\n",
       "      <td>25565</td>\n",
       "    </tr>\n",
       "    <tr>\n",
       "      <th>South</th>\n",
       "      <td>61702</td>\n",
       "      <td>50292</td>\n",
       "      <td>40988</td>\n",
       "      <td>15450</td>\n",
       "      <td>88961</td>\n",
       "      <td>91134</td>\n",
       "      <td>92635</td>\n",
       "      <td>86979</td>\n",
       "      <td>86807</td>\n",
       "    </tr>\n",
       "  </tbody>\n",
       "</table>\n",
       "</div>"
      ],
      "text/plain": [
       "         Target 2020 Qty                            Target 2025 Qty  \\\n",
       "Category       Furniture Office Supplies Technology       Furniture   \n",
       "Region                                                                \n",
       "Central            31744           39977      68755           16146   \n",
       "North              65298           86996      71392           11127   \n",
       "South              61702           50292      40988           15450   \n",
       "\n",
       "                                    Target 2030 Qty                             \n",
       "Category Office Supplies Technology       Furniture Office Supplies Technology  \n",
       "Region                                                                          \n",
       "Central            98748      40164           64775           57307      15327  \n",
       "North              34120      52291           71559           80677      25565  \n",
       "South              88961      91134           92635           86979      86807  "
      ]
     },
     "execution_count": 204,
     "metadata": {},
     "output_type": "execute_result"
    }
   ],
   "source": [
    "multi0 = df.set_index(['Category', 'Region']).unstack(level=0)\n",
    "multi0"
   ]
  },
  {
   "cell_type": "markdown",
   "id": "5488e744",
   "metadata": {},
   "source": [
    "10) Take any data (your choice) and visualize the data using Ploty library. You can select any plot type,\n",
    "but you need to comment (write a comment in code) why the selected type of plot represents the data best"
   ]
  },
  {
   "cell_type": "code",
   "execution_count": 205,
   "id": "bf47c67f",
   "metadata": {},
   "outputs": [],
   "source": [
    "import plotly.graph_objects as go"
   ]
  },
  {
   "cell_type": "code",
   "execution_count": 217,
   "id": "4db169c7",
   "metadata": {},
   "outputs": [
    {
     "data": {
      "application/vnd.plotly.v1+json": {
       "config": {
        "plotlyServerURL": "https://plot.ly"
       },
       "data": [
        {
         "name": "Furniture",
         "type": "bar",
         "x": [
          "Central",
          "South",
          "North"
         ],
         "y": [
          31744,
          61702,
          65298
         ]
        },
        {
         "name": "Office Supplies",
         "type": "bar",
         "x": [
          "North",
          "Central",
          "South"
         ],
         "y": [
          86996,
          39977,
          50292
         ]
        },
        {
         "name": "Technology",
         "type": "bar",
         "x": [
          "North",
          "Central",
          "South"
         ],
         "y": [
          71392,
          68755,
          40988
         ]
        }
       ],
       "layout": {
        "barmode": "stack",
        "template": {
         "data": {
          "bar": [
           {
            "error_x": {
             "color": "#2a3f5f"
            },
            "error_y": {
             "color": "#2a3f5f"
            },
            "marker": {
             "line": {
              "color": "#E5ECF6",
              "width": 0.5
             },
             "pattern": {
              "fillmode": "overlay",
              "size": 10,
              "solidity": 0.2
             }
            },
            "type": "bar"
           }
          ],
          "barpolar": [
           {
            "marker": {
             "line": {
              "color": "#E5ECF6",
              "width": 0.5
             },
             "pattern": {
              "fillmode": "overlay",
              "size": 10,
              "solidity": 0.2
             }
            },
            "type": "barpolar"
           }
          ],
          "carpet": [
           {
            "aaxis": {
             "endlinecolor": "#2a3f5f",
             "gridcolor": "white",
             "linecolor": "white",
             "minorgridcolor": "white",
             "startlinecolor": "#2a3f5f"
            },
            "baxis": {
             "endlinecolor": "#2a3f5f",
             "gridcolor": "white",
             "linecolor": "white",
             "minorgridcolor": "white",
             "startlinecolor": "#2a3f5f"
            },
            "type": "carpet"
           }
          ],
          "choropleth": [
           {
            "colorbar": {
             "outlinewidth": 0,
             "ticks": ""
            },
            "type": "choropleth"
           }
          ],
          "contour": [
           {
            "colorbar": {
             "outlinewidth": 0,
             "ticks": ""
            },
            "colorscale": [
             [
              0,
              "#0d0887"
             ],
             [
              0.1111111111111111,
              "#46039f"
             ],
             [
              0.2222222222222222,
              "#7201a8"
             ],
             [
              0.3333333333333333,
              "#9c179e"
             ],
             [
              0.4444444444444444,
              "#bd3786"
             ],
             [
              0.5555555555555556,
              "#d8576b"
             ],
             [
              0.6666666666666666,
              "#ed7953"
             ],
             [
              0.7777777777777778,
              "#fb9f3a"
             ],
             [
              0.8888888888888888,
              "#fdca26"
             ],
             [
              1,
              "#f0f921"
             ]
            ],
            "type": "contour"
           }
          ],
          "contourcarpet": [
           {
            "colorbar": {
             "outlinewidth": 0,
             "ticks": ""
            },
            "type": "contourcarpet"
           }
          ],
          "heatmap": [
           {
            "colorbar": {
             "outlinewidth": 0,
             "ticks": ""
            },
            "colorscale": [
             [
              0,
              "#0d0887"
             ],
             [
              0.1111111111111111,
              "#46039f"
             ],
             [
              0.2222222222222222,
              "#7201a8"
             ],
             [
              0.3333333333333333,
              "#9c179e"
             ],
             [
              0.4444444444444444,
              "#bd3786"
             ],
             [
              0.5555555555555556,
              "#d8576b"
             ],
             [
              0.6666666666666666,
              "#ed7953"
             ],
             [
              0.7777777777777778,
              "#fb9f3a"
             ],
             [
              0.8888888888888888,
              "#fdca26"
             ],
             [
              1,
              "#f0f921"
             ]
            ],
            "type": "heatmap"
           }
          ],
          "heatmapgl": [
           {
            "colorbar": {
             "outlinewidth": 0,
             "ticks": ""
            },
            "colorscale": [
             [
              0,
              "#0d0887"
             ],
             [
              0.1111111111111111,
              "#46039f"
             ],
             [
              0.2222222222222222,
              "#7201a8"
             ],
             [
              0.3333333333333333,
              "#9c179e"
             ],
             [
              0.4444444444444444,
              "#bd3786"
             ],
             [
              0.5555555555555556,
              "#d8576b"
             ],
             [
              0.6666666666666666,
              "#ed7953"
             ],
             [
              0.7777777777777778,
              "#fb9f3a"
             ],
             [
              0.8888888888888888,
              "#fdca26"
             ],
             [
              1,
              "#f0f921"
             ]
            ],
            "type": "heatmapgl"
           }
          ],
          "histogram": [
           {
            "marker": {
             "pattern": {
              "fillmode": "overlay",
              "size": 10,
              "solidity": 0.2
             }
            },
            "type": "histogram"
           }
          ],
          "histogram2d": [
           {
            "colorbar": {
             "outlinewidth": 0,
             "ticks": ""
            },
            "colorscale": [
             [
              0,
              "#0d0887"
             ],
             [
              0.1111111111111111,
              "#46039f"
             ],
             [
              0.2222222222222222,
              "#7201a8"
             ],
             [
              0.3333333333333333,
              "#9c179e"
             ],
             [
              0.4444444444444444,
              "#bd3786"
             ],
             [
              0.5555555555555556,
              "#d8576b"
             ],
             [
              0.6666666666666666,
              "#ed7953"
             ],
             [
              0.7777777777777778,
              "#fb9f3a"
             ],
             [
              0.8888888888888888,
              "#fdca26"
             ],
             [
              1,
              "#f0f921"
             ]
            ],
            "type": "histogram2d"
           }
          ],
          "histogram2dcontour": [
           {
            "colorbar": {
             "outlinewidth": 0,
             "ticks": ""
            },
            "colorscale": [
             [
              0,
              "#0d0887"
             ],
             [
              0.1111111111111111,
              "#46039f"
             ],
             [
              0.2222222222222222,
              "#7201a8"
             ],
             [
              0.3333333333333333,
              "#9c179e"
             ],
             [
              0.4444444444444444,
              "#bd3786"
             ],
             [
              0.5555555555555556,
              "#d8576b"
             ],
             [
              0.6666666666666666,
              "#ed7953"
             ],
             [
              0.7777777777777778,
              "#fb9f3a"
             ],
             [
              0.8888888888888888,
              "#fdca26"
             ],
             [
              1,
              "#f0f921"
             ]
            ],
            "type": "histogram2dcontour"
           }
          ],
          "mesh3d": [
           {
            "colorbar": {
             "outlinewidth": 0,
             "ticks": ""
            },
            "type": "mesh3d"
           }
          ],
          "parcoords": [
           {
            "line": {
             "colorbar": {
              "outlinewidth": 0,
              "ticks": ""
             }
            },
            "type": "parcoords"
           }
          ],
          "pie": [
           {
            "automargin": true,
            "type": "pie"
           }
          ],
          "scatter": [
           {
            "fillpattern": {
             "fillmode": "overlay",
             "size": 10,
             "solidity": 0.2
            },
            "type": "scatter"
           }
          ],
          "scatter3d": [
           {
            "line": {
             "colorbar": {
              "outlinewidth": 0,
              "ticks": ""
             }
            },
            "marker": {
             "colorbar": {
              "outlinewidth": 0,
              "ticks": ""
             }
            },
            "type": "scatter3d"
           }
          ],
          "scattercarpet": [
           {
            "marker": {
             "colorbar": {
              "outlinewidth": 0,
              "ticks": ""
             }
            },
            "type": "scattercarpet"
           }
          ],
          "scattergeo": [
           {
            "marker": {
             "colorbar": {
              "outlinewidth": 0,
              "ticks": ""
             }
            },
            "type": "scattergeo"
           }
          ],
          "scattergl": [
           {
            "marker": {
             "colorbar": {
              "outlinewidth": 0,
              "ticks": ""
             }
            },
            "type": "scattergl"
           }
          ],
          "scattermapbox": [
           {
            "marker": {
             "colorbar": {
              "outlinewidth": 0,
              "ticks": ""
             }
            },
            "type": "scattermapbox"
           }
          ],
          "scatterpolar": [
           {
            "marker": {
             "colorbar": {
              "outlinewidth": 0,
              "ticks": ""
             }
            },
            "type": "scatterpolar"
           }
          ],
          "scatterpolargl": [
           {
            "marker": {
             "colorbar": {
              "outlinewidth": 0,
              "ticks": ""
             }
            },
            "type": "scatterpolargl"
           }
          ],
          "scatterternary": [
           {
            "marker": {
             "colorbar": {
              "outlinewidth": 0,
              "ticks": ""
             }
            },
            "type": "scatterternary"
           }
          ],
          "surface": [
           {
            "colorbar": {
             "outlinewidth": 0,
             "ticks": ""
            },
            "colorscale": [
             [
              0,
              "#0d0887"
             ],
             [
              0.1111111111111111,
              "#46039f"
             ],
             [
              0.2222222222222222,
              "#7201a8"
             ],
             [
              0.3333333333333333,
              "#9c179e"
             ],
             [
              0.4444444444444444,
              "#bd3786"
             ],
             [
              0.5555555555555556,
              "#d8576b"
             ],
             [
              0.6666666666666666,
              "#ed7953"
             ],
             [
              0.7777777777777778,
              "#fb9f3a"
             ],
             [
              0.8888888888888888,
              "#fdca26"
             ],
             [
              1,
              "#f0f921"
             ]
            ],
            "type": "surface"
           }
          ],
          "table": [
           {
            "cells": {
             "fill": {
              "color": "#EBF0F8"
             },
             "line": {
              "color": "white"
             }
            },
            "header": {
             "fill": {
              "color": "#C8D4E3"
             },
             "line": {
              "color": "white"
             }
            },
            "type": "table"
           }
          ]
         },
         "layout": {
          "annotationdefaults": {
           "arrowcolor": "#2a3f5f",
           "arrowhead": 0,
           "arrowwidth": 1
          },
          "autotypenumbers": "strict",
          "coloraxis": {
           "colorbar": {
            "outlinewidth": 0,
            "ticks": ""
           }
          },
          "colorscale": {
           "diverging": [
            [
             0,
             "#8e0152"
            ],
            [
             0.1,
             "#c51b7d"
            ],
            [
             0.2,
             "#de77ae"
            ],
            [
             0.3,
             "#f1b6da"
            ],
            [
             0.4,
             "#fde0ef"
            ],
            [
             0.5,
             "#f7f7f7"
            ],
            [
             0.6,
             "#e6f5d0"
            ],
            [
             0.7,
             "#b8e186"
            ],
            [
             0.8,
             "#7fbc41"
            ],
            [
             0.9,
             "#4d9221"
            ],
            [
             1,
             "#276419"
            ]
           ],
           "sequential": [
            [
             0,
             "#0d0887"
            ],
            [
             0.1111111111111111,
             "#46039f"
            ],
            [
             0.2222222222222222,
             "#7201a8"
            ],
            [
             0.3333333333333333,
             "#9c179e"
            ],
            [
             0.4444444444444444,
             "#bd3786"
            ],
            [
             0.5555555555555556,
             "#d8576b"
            ],
            [
             0.6666666666666666,
             "#ed7953"
            ],
            [
             0.7777777777777778,
             "#fb9f3a"
            ],
            [
             0.8888888888888888,
             "#fdca26"
            ],
            [
             1,
             "#f0f921"
            ]
           ],
           "sequentialminus": [
            [
             0,
             "#0d0887"
            ],
            [
             0.1111111111111111,
             "#46039f"
            ],
            [
             0.2222222222222222,
             "#7201a8"
            ],
            [
             0.3333333333333333,
             "#9c179e"
            ],
            [
             0.4444444444444444,
             "#bd3786"
            ],
            [
             0.5555555555555556,
             "#d8576b"
            ],
            [
             0.6666666666666666,
             "#ed7953"
            ],
            [
             0.7777777777777778,
             "#fb9f3a"
            ],
            [
             0.8888888888888888,
             "#fdca26"
            ],
            [
             1,
             "#f0f921"
            ]
           ]
          },
          "colorway": [
           "#636efa",
           "#EF553B",
           "#00cc96",
           "#ab63fa",
           "#FFA15A",
           "#19d3f3",
           "#FF6692",
           "#B6E880",
           "#FF97FF",
           "#FECB52"
          ],
          "font": {
           "color": "#2a3f5f"
          },
          "geo": {
           "bgcolor": "white",
           "lakecolor": "white",
           "landcolor": "#E5ECF6",
           "showlakes": true,
           "showland": true,
           "subunitcolor": "white"
          },
          "hoverlabel": {
           "align": "left"
          },
          "hovermode": "closest",
          "mapbox": {
           "style": "light"
          },
          "paper_bgcolor": "white",
          "plot_bgcolor": "#E5ECF6",
          "polar": {
           "angularaxis": {
            "gridcolor": "white",
            "linecolor": "white",
            "ticks": ""
           },
           "bgcolor": "#E5ECF6",
           "radialaxis": {
            "gridcolor": "white",
            "linecolor": "white",
            "ticks": ""
           }
          },
          "scene": {
           "xaxis": {
            "backgroundcolor": "#E5ECF6",
            "gridcolor": "white",
            "gridwidth": 2,
            "linecolor": "white",
            "showbackground": true,
            "ticks": "",
            "zerolinecolor": "white"
           },
           "yaxis": {
            "backgroundcolor": "#E5ECF6",
            "gridcolor": "white",
            "gridwidth": 2,
            "linecolor": "white",
            "showbackground": true,
            "ticks": "",
            "zerolinecolor": "white"
           },
           "zaxis": {
            "backgroundcolor": "#E5ECF6",
            "gridcolor": "white",
            "gridwidth": 2,
            "linecolor": "white",
            "showbackground": true,
            "ticks": "",
            "zerolinecolor": "white"
           }
          },
          "shapedefaults": {
           "line": {
            "color": "#2a3f5f"
           }
          },
          "ternary": {
           "aaxis": {
            "gridcolor": "white",
            "linecolor": "white",
            "ticks": ""
           },
           "baxis": {
            "gridcolor": "white",
            "linecolor": "white",
            "ticks": ""
           },
           "bgcolor": "#E5ECF6",
           "caxis": {
            "gridcolor": "white",
            "linecolor": "white",
            "ticks": ""
           }
          },
          "title": {
           "x": 0.05
          },
          "xaxis": {
           "automargin": true,
           "gridcolor": "white",
           "linecolor": "white",
           "ticks": "",
           "title": {
            "standoff": 15
           },
           "zerolinecolor": "white",
           "zerolinewidth": 2
          },
          "yaxis": {
           "automargin": true,
           "gridcolor": "white",
           "linecolor": "white",
           "ticks": "",
           "title": {
            "standoff": 15
           },
           "zerolinecolor": "white",
           "zerolinewidth": 2
          }
         }
        },
        "title": {
         "text": "Target quantity in 2020"
        },
        "xaxis": {
         "title": {
          "text": "Region"
         }
        },
        "yaxis": {
         "tickformat": "Target 2020 Qty"
        }
       }
      },
      "text/html": [
       "<div>                            <div id=\"9065a189-0cea-40c6-9964-d2ada38d8bae\" class=\"plotly-graph-div\" style=\"height:525px; width:100%;\"></div>            <script type=\"text/javascript\">                require([\"plotly\"], function(Plotly) {                    window.PLOTLYENV=window.PLOTLYENV || {};                                    if (document.getElementById(\"9065a189-0cea-40c6-9964-d2ada38d8bae\")) {                    Plotly.newPlot(                        \"9065a189-0cea-40c6-9964-d2ada38d8bae\",                        [{\"name\":\"Furniture\",\"x\":[\"Central\",\"South\",\"North\"],\"y\":[31744,61702,65298],\"type\":\"bar\"},{\"name\":\"Office Supplies\",\"x\":[\"North\",\"Central\",\"South\"],\"y\":[86996,39977,50292],\"type\":\"bar\"},{\"name\":\"Technology\",\"x\":[\"North\",\"Central\",\"South\"],\"y\":[71392,68755,40988],\"type\":\"bar\"}],                        {\"template\":{\"data\":{\"histogram2dcontour\":[{\"type\":\"histogram2dcontour\",\"colorbar\":{\"outlinewidth\":0,\"ticks\":\"\"},\"colorscale\":[[0.0,\"#0d0887\"],[0.1111111111111111,\"#46039f\"],[0.2222222222222222,\"#7201a8\"],[0.3333333333333333,\"#9c179e\"],[0.4444444444444444,\"#bd3786\"],[0.5555555555555556,\"#d8576b\"],[0.6666666666666666,\"#ed7953\"],[0.7777777777777778,\"#fb9f3a\"],[0.8888888888888888,\"#fdca26\"],[1.0,\"#f0f921\"]]}],\"choropleth\":[{\"type\":\"choropleth\",\"colorbar\":{\"outlinewidth\":0,\"ticks\":\"\"}}],\"histogram2d\":[{\"type\":\"histogram2d\",\"colorbar\":{\"outlinewidth\":0,\"ticks\":\"\"},\"colorscale\":[[0.0,\"#0d0887\"],[0.1111111111111111,\"#46039f\"],[0.2222222222222222,\"#7201a8\"],[0.3333333333333333,\"#9c179e\"],[0.4444444444444444,\"#bd3786\"],[0.5555555555555556,\"#d8576b\"],[0.6666666666666666,\"#ed7953\"],[0.7777777777777778,\"#fb9f3a\"],[0.8888888888888888,\"#fdca26\"],[1.0,\"#f0f921\"]]}],\"heatmap\":[{\"type\":\"heatmap\",\"colorbar\":{\"outlinewidth\":0,\"ticks\":\"\"},\"colorscale\":[[0.0,\"#0d0887\"],[0.1111111111111111,\"#46039f\"],[0.2222222222222222,\"#7201a8\"],[0.3333333333333333,\"#9c179e\"],[0.4444444444444444,\"#bd3786\"],[0.5555555555555556,\"#d8576b\"],[0.6666666666666666,\"#ed7953\"],[0.7777777777777778,\"#fb9f3a\"],[0.8888888888888888,\"#fdca26\"],[1.0,\"#f0f921\"]]}],\"heatmapgl\":[{\"type\":\"heatmapgl\",\"colorbar\":{\"outlinewidth\":0,\"ticks\":\"\"},\"colorscale\":[[0.0,\"#0d0887\"],[0.1111111111111111,\"#46039f\"],[0.2222222222222222,\"#7201a8\"],[0.3333333333333333,\"#9c179e\"],[0.4444444444444444,\"#bd3786\"],[0.5555555555555556,\"#d8576b\"],[0.6666666666666666,\"#ed7953\"],[0.7777777777777778,\"#fb9f3a\"],[0.8888888888888888,\"#fdca26\"],[1.0,\"#f0f921\"]]}],\"contourcarpet\":[{\"type\":\"contourcarpet\",\"colorbar\":{\"outlinewidth\":0,\"ticks\":\"\"}}],\"contour\":[{\"type\":\"contour\",\"colorbar\":{\"outlinewidth\":0,\"ticks\":\"\"},\"colorscale\":[[0.0,\"#0d0887\"],[0.1111111111111111,\"#46039f\"],[0.2222222222222222,\"#7201a8\"],[0.3333333333333333,\"#9c179e\"],[0.4444444444444444,\"#bd3786\"],[0.5555555555555556,\"#d8576b\"],[0.6666666666666666,\"#ed7953\"],[0.7777777777777778,\"#fb9f3a\"],[0.8888888888888888,\"#fdca26\"],[1.0,\"#f0f921\"]]}],\"surface\":[{\"type\":\"surface\",\"colorbar\":{\"outlinewidth\":0,\"ticks\":\"\"},\"colorscale\":[[0.0,\"#0d0887\"],[0.1111111111111111,\"#46039f\"],[0.2222222222222222,\"#7201a8\"],[0.3333333333333333,\"#9c179e\"],[0.4444444444444444,\"#bd3786\"],[0.5555555555555556,\"#d8576b\"],[0.6666666666666666,\"#ed7953\"],[0.7777777777777778,\"#fb9f3a\"],[0.8888888888888888,\"#fdca26\"],[1.0,\"#f0f921\"]]}],\"mesh3d\":[{\"type\":\"mesh3d\",\"colorbar\":{\"outlinewidth\":0,\"ticks\":\"\"}}],\"scatter\":[{\"fillpattern\":{\"fillmode\":\"overlay\",\"size\":10,\"solidity\":0.2},\"type\":\"scatter\"}],\"parcoords\":[{\"type\":\"parcoords\",\"line\":{\"colorbar\":{\"outlinewidth\":0,\"ticks\":\"\"}}}],\"scatterpolargl\":[{\"type\":\"scatterpolargl\",\"marker\":{\"colorbar\":{\"outlinewidth\":0,\"ticks\":\"\"}}}],\"bar\":[{\"error_x\":{\"color\":\"#2a3f5f\"},\"error_y\":{\"color\":\"#2a3f5f\"},\"marker\":{\"line\":{\"color\":\"#E5ECF6\",\"width\":0.5},\"pattern\":{\"fillmode\":\"overlay\",\"size\":10,\"solidity\":0.2}},\"type\":\"bar\"}],\"scattergeo\":[{\"type\":\"scattergeo\",\"marker\":{\"colorbar\":{\"outlinewidth\":0,\"ticks\":\"\"}}}],\"scatterpolar\":[{\"type\":\"scatterpolar\",\"marker\":{\"colorbar\":{\"outlinewidth\":0,\"ticks\":\"\"}}}],\"histogram\":[{\"marker\":{\"pattern\":{\"fillmode\":\"overlay\",\"size\":10,\"solidity\":0.2}},\"type\":\"histogram\"}],\"scattergl\":[{\"type\":\"scattergl\",\"marker\":{\"colorbar\":{\"outlinewidth\":0,\"ticks\":\"\"}}}],\"scatter3d\":[{\"type\":\"scatter3d\",\"line\":{\"colorbar\":{\"outlinewidth\":0,\"ticks\":\"\"}},\"marker\":{\"colorbar\":{\"outlinewidth\":0,\"ticks\":\"\"}}}],\"scattermapbox\":[{\"type\":\"scattermapbox\",\"marker\":{\"colorbar\":{\"outlinewidth\":0,\"ticks\":\"\"}}}],\"scatterternary\":[{\"type\":\"scatterternary\",\"marker\":{\"colorbar\":{\"outlinewidth\":0,\"ticks\":\"\"}}}],\"scattercarpet\":[{\"type\":\"scattercarpet\",\"marker\":{\"colorbar\":{\"outlinewidth\":0,\"ticks\":\"\"}}}],\"carpet\":[{\"aaxis\":{\"endlinecolor\":\"#2a3f5f\",\"gridcolor\":\"white\",\"linecolor\":\"white\",\"minorgridcolor\":\"white\",\"startlinecolor\":\"#2a3f5f\"},\"baxis\":{\"endlinecolor\":\"#2a3f5f\",\"gridcolor\":\"white\",\"linecolor\":\"white\",\"minorgridcolor\":\"white\",\"startlinecolor\":\"#2a3f5f\"},\"type\":\"carpet\"}],\"table\":[{\"cells\":{\"fill\":{\"color\":\"#EBF0F8\"},\"line\":{\"color\":\"white\"}},\"header\":{\"fill\":{\"color\":\"#C8D4E3\"},\"line\":{\"color\":\"white\"}},\"type\":\"table\"}],\"barpolar\":[{\"marker\":{\"line\":{\"color\":\"#E5ECF6\",\"width\":0.5},\"pattern\":{\"fillmode\":\"overlay\",\"size\":10,\"solidity\":0.2}},\"type\":\"barpolar\"}],\"pie\":[{\"automargin\":true,\"type\":\"pie\"}]},\"layout\":{\"autotypenumbers\":\"strict\",\"colorway\":[\"#636efa\",\"#EF553B\",\"#00cc96\",\"#ab63fa\",\"#FFA15A\",\"#19d3f3\",\"#FF6692\",\"#B6E880\",\"#FF97FF\",\"#FECB52\"],\"font\":{\"color\":\"#2a3f5f\"},\"hovermode\":\"closest\",\"hoverlabel\":{\"align\":\"left\"},\"paper_bgcolor\":\"white\",\"plot_bgcolor\":\"#E5ECF6\",\"polar\":{\"bgcolor\":\"#E5ECF6\",\"angularaxis\":{\"gridcolor\":\"white\",\"linecolor\":\"white\",\"ticks\":\"\"},\"radialaxis\":{\"gridcolor\":\"white\",\"linecolor\":\"white\",\"ticks\":\"\"}},\"ternary\":{\"bgcolor\":\"#E5ECF6\",\"aaxis\":{\"gridcolor\":\"white\",\"linecolor\":\"white\",\"ticks\":\"\"},\"baxis\":{\"gridcolor\":\"white\",\"linecolor\":\"white\",\"ticks\":\"\"},\"caxis\":{\"gridcolor\":\"white\",\"linecolor\":\"white\",\"ticks\":\"\"}},\"coloraxis\":{\"colorbar\":{\"outlinewidth\":0,\"ticks\":\"\"}},\"colorscale\":{\"sequential\":[[0.0,\"#0d0887\"],[0.1111111111111111,\"#46039f\"],[0.2222222222222222,\"#7201a8\"],[0.3333333333333333,\"#9c179e\"],[0.4444444444444444,\"#bd3786\"],[0.5555555555555556,\"#d8576b\"],[0.6666666666666666,\"#ed7953\"],[0.7777777777777778,\"#fb9f3a\"],[0.8888888888888888,\"#fdca26\"],[1.0,\"#f0f921\"]],\"sequentialminus\":[[0.0,\"#0d0887\"],[0.1111111111111111,\"#46039f\"],[0.2222222222222222,\"#7201a8\"],[0.3333333333333333,\"#9c179e\"],[0.4444444444444444,\"#bd3786\"],[0.5555555555555556,\"#d8576b\"],[0.6666666666666666,\"#ed7953\"],[0.7777777777777778,\"#fb9f3a\"],[0.8888888888888888,\"#fdca26\"],[1.0,\"#f0f921\"]],\"diverging\":[[0,\"#8e0152\"],[0.1,\"#c51b7d\"],[0.2,\"#de77ae\"],[0.3,\"#f1b6da\"],[0.4,\"#fde0ef\"],[0.5,\"#f7f7f7\"],[0.6,\"#e6f5d0\"],[0.7,\"#b8e186\"],[0.8,\"#7fbc41\"],[0.9,\"#4d9221\"],[1,\"#276419\"]]},\"xaxis\":{\"gridcolor\":\"white\",\"linecolor\":\"white\",\"ticks\":\"\",\"title\":{\"standoff\":15},\"zerolinecolor\":\"white\",\"automargin\":true,\"zerolinewidth\":2},\"yaxis\":{\"gridcolor\":\"white\",\"linecolor\":\"white\",\"ticks\":\"\",\"title\":{\"standoff\":15},\"zerolinecolor\":\"white\",\"automargin\":true,\"zerolinewidth\":2},\"scene\":{\"xaxis\":{\"backgroundcolor\":\"#E5ECF6\",\"gridcolor\":\"white\",\"linecolor\":\"white\",\"showbackground\":true,\"ticks\":\"\",\"zerolinecolor\":\"white\",\"gridwidth\":2},\"yaxis\":{\"backgroundcolor\":\"#E5ECF6\",\"gridcolor\":\"white\",\"linecolor\":\"white\",\"showbackground\":true,\"ticks\":\"\",\"zerolinecolor\":\"white\",\"gridwidth\":2},\"zaxis\":{\"backgroundcolor\":\"#E5ECF6\",\"gridcolor\":\"white\",\"linecolor\":\"white\",\"showbackground\":true,\"ticks\":\"\",\"zerolinecolor\":\"white\",\"gridwidth\":2}},\"shapedefaults\":{\"line\":{\"color\":\"#2a3f5f\"}},\"annotationdefaults\":{\"arrowcolor\":\"#2a3f5f\",\"arrowhead\":0,\"arrowwidth\":1},\"geo\":{\"bgcolor\":\"white\",\"landcolor\":\"#E5ECF6\",\"subunitcolor\":\"white\",\"showland\":true,\"showlakes\":true,\"lakecolor\":\"white\"},\"title\":{\"x\":0.05},\"mapbox\":{\"style\":\"light\"}}},\"yaxis\":{\"tickformat\":\"Target 2020 Qty\"},\"barmode\":\"stack\",\"title\":{\"text\":\"Target quantity in 2020\"},\"xaxis\":{\"title\":{\"text\":\"Region\"}}},                        {\"responsive\": true}                    ).then(function(){\n",
       "                            \n",
       "var gd = document.getElementById('9065a189-0cea-40c6-9964-d2ada38d8bae');\n",
       "var x = new MutationObserver(function (mutations, observer) {{\n",
       "        var display = window.getComputedStyle(gd).display;\n",
       "        if (!display || display === 'none') {{\n",
       "            console.log([gd, 'removed!']);\n",
       "            Plotly.purge(gd);\n",
       "            observer.disconnect();\n",
       "        }}\n",
       "}});\n",
       "\n",
       "// Listen for the removal of the full notebook cells\n",
       "var notebookContainer = gd.closest('#notebook-container');\n",
       "if (notebookContainer) {{\n",
       "    x.observe(notebookContainer, {childList: true});\n",
       "}}\n",
       "\n",
       "// Listen for the clearing of the current output cell\n",
       "var outputEl = gd.closest('.output');\n",
       "if (outputEl) {{\n",
       "    x.observe(outputEl, {childList: true});\n",
       "}}\n",
       "\n",
       "                        })                };                });            </script>        </div>"
      ]
     },
     "metadata": {},
     "output_type": "display_data"
    }
   ],
   "source": [
    "data = [go.Bar(name=group, x=dfg['Region'], y=dfg['Target 2020 Qty']) for group, dfg in df.groupby(by='Category')]\n",
    "\n",
    "x = go.Figure(data)\n",
    "x.update_layout(barmode='stack', title='Target quantity in 2020', xaxis_title='Region', \n",
    "                yaxis=dict(tickformat='Target 2020 Qty',))\n",
    "x.show()"
   ]
  },
  {
   "cell_type": "markdown",
   "id": "a937feb1",
   "metadata": {},
   "source": [
    "#### I chose a simple bar chart to visualize the target quantity in 2020 grouped by category and displayed by region. Also, there can be used a line chart, but a bar chart better represents data in this situation.  I couldn't use a pie chart or scatter plot for this type of data."
   ]
  }
 ],
 "metadata": {
  "hide_input": false,
  "kernelspec": {
   "display_name": "Python 3 (ipykernel)",
   "language": "python",
   "name": "python3"
  },
  "language_info": {
   "codemirror_mode": {
    "name": "ipython",
    "version": 3
   },
   "file_extension": ".py",
   "mimetype": "text/x-python",
   "name": "python",
   "nbconvert_exporter": "python",
   "pygments_lexer": "ipython3",
   "version": "3.10.4"
  }
 },
 "nbformat": 4,
 "nbformat_minor": 5
}
