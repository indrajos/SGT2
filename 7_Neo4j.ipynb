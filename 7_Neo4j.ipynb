{
 "cells": [
  {
   "cell_type": "code",
   "execution_count": 2,
   "id": "fb7fcb5a",
   "metadata": {},
   "outputs": [],
   "source": [
    "from neo4j import GraphDatabase"
   ]
  },
  {
   "cell_type": "code",
   "execution_count": 46,
   "id": "b3a803b1",
   "metadata": {},
   "outputs": [],
   "source": [
    "uri = \"neo4j+ssc://f1a01e09.databases.neo4j.io\"\n",
    "username = \"neo4j\"\n",
    "password = \"xxx\""
   ]
  },
  {
   "cell_type": "code",
   "execution_count": 48,
   "id": "a11bf6ed",
   "metadata": {},
   "outputs": [],
   "source": [
    "driver = GraphDatabase.driver(uri,auth=(username,password))"
   ]
  },
  {
   "cell_type": "code",
   "execution_count": 49,
   "id": "0c1a39e2",
   "metadata": {},
   "outputs": [],
   "source": [
    "with driver.session() as session:\n",
    "    pass;"
   ]
  },
  {
   "cell_type": "markdown",
   "id": "c417226b",
   "metadata": {},
   "source": [
    "1. Graph Creation:\n",
    "    \n",
    "Build a graph database to represent a social network, with nodes for users and relationships for friendships.\n",
    "\n",
    "Create nodes for users and relationships to model their interactions."
   ]
  },
  {
   "cell_type": "code",
   "execution_count": 21,
   "id": "8f28ae46",
   "metadata": {},
   "outputs": [],
   "source": [
    "def create_user(tx, username, age):\n",
    "    tx.run(\"CREATE (:User {username: $username, age: $age})\", username=username, age=age)\n",
    "\n",
    "\n",
    "with driver.session() as session:\n",
    "    session.execute_write(create_user, \"Julia\", 37)\n",
    "    session.execute_write(create_user, \"Simon\", 32)\n",
    "    session.execute_write(create_user, \"Monika\", 35)\n",
    "    session.execute_write(create_user, \"John\", 33)\n",
    "    session.execute_write(create_user, \"Anna\", 44)\n",
    "    session.execute_write(create_user, \"Roberts\", 56)"
   ]
  },
  {
   "cell_type": "code",
   "execution_count": null,
   "id": "f9456aa3",
   "metadata": {},
   "outputs": [],
   "source": [
    "def create_friendship(transaction,name1,name2):\n",
    "    transaction.run(\"MATCH (person1:Person {name:$name1}),(person2:Person {name:$name2}) \n",
    "                    CREATE (person1)-[:FRIEND_OF]->(person2)\",name1=name1,name2=name2)\n"
   ]
  },
  {
   "cell_type": "code",
   "execution_count": 31,
   "id": "6abbeee7",
   "metadata": {},
   "outputs": [],
   "source": [
    "# Create relationships\n",
    "def create_friendship(tx, username1, username2):\n",
    "    tx.run(\"MATCH (user1:User {username: $username1}), (user2:User {username: $username2}) \"\n",
    "           \"CREATE (user1)-[:FRIEND]->(user2)\", username1=username1, username2=username2)\n",
    "\n",
    "\n",
    "with driver.session() as session:\n",
    "    session.execute_write(create_friendship, \"Julia\", \"Simon\")\n",
    "    session.execute_write(create_friendship, \"Julia\", \"Monika\")\n",
    "    session.execute_write(create_friendship, \"Monika\", \"Simon\")\n",
    "    session.execute_write(create_friendship, \"Monika\", \"John\")\n",
    "    session.execute_write(create_friendship, \"John\", \"Anna\")\n",
    "    session.execute_write(create_friendship, \"Anna\", \"John\")"
   ]
  },
  {
   "cell_type": "code",
   "execution_count": 30,
   "id": "8711b732",
   "metadata": {},
   "outputs": [
    {
     "name": "stdout",
     "output_type": "stream",
     "text": [
      "[{'username': 'Simon', 'age': 32}]\n"
     ]
    }
   ],
   "source": [
    "def get_person(tx,username):\n",
    "    result = tx.run(\"MATCH (user:User {username:$username}) RETURN user.username,user.age\",username=username)\n",
    "    return [{\"username\":record[\"user.username\"],\"age\":record[\"user.age\"]} for record in result]\n",
    "\n",
    "with driver.session() as session:\n",
    "    result = session.execute_read(get_person,\"Simon\")\n",
    "    print(result)"
   ]
  },
  {
   "cell_type": "code",
   "execution_count": 41,
   "id": "b3da1b97",
   "metadata": {},
   "outputs": [],
   "source": [
    "# model user interactions\n",
    "def create_hobbies(tx, name):\n",
    "    tx.run(\"CREATE (h:hobbie {name: $name})\", name=name)\n",
    "\n",
    "with driver.session() as session:\n",
    "     session.execute_write(create_hobbies, 'cycling')\n",
    "    session.execute_write(create_hobbies, 'reading')\n",
    "    session.execute_write(create_hobbies, 'painting')"
   ]
  },
  {
   "cell_type": "code",
   "execution_count": 42,
   "id": "ddbb3e82",
   "metadata": {},
   "outputs": [],
   "source": [
    "def users_hobbies(tx, username, name):\n",
    "    tx.run(\"MATCH (user:User {username: $username}), (h:hobbie {name: $name})\"\n",
    "            \"CREATE (user)-[:LIKES]->(h)\", username=username, name=name)\n",
    "    \n",
    "with driver.session() as session:\n",
    "    session.execute_write(users_hobbies, 'Julia', 'cycling')\n",
    "    session.execute_write(users_hobbies, 'Monika', 'cycling')\n",
    "    session.execute_write(users_hobbies, 'Simon', 'cycling')\n",
    "    session.execute_write(users_hobbies, 'Julia', 'cycling')\n",
    "    session.execute_write(users_hobbies, 'Anna', 'reading')\n",
    "    session.execute_write(users_hobbies, 'Roberts', 'reading')\n",
    "    session.execute_write(users_hobbies, 'Anna', 'painting')\n",
    "    session.execute_write(users_hobbies, 'Monika', 'reading')"
   ]
  },
  {
   "cell_type": "markdown",
   "id": "ef91ed57",
   "metadata": {},
   "source": [
    "2. Querying Graph Data:\n",
    "    \n",
    "Write a Cypher query to find all friends of a given user up to a certain depth (degree of separation).\n",
    "\n",
    "Retrieve common friends between two users in the graph."
   ]
  },
  {
   "cell_type": "code",
   "execution_count": 37,
   "id": "74750eca",
   "metadata": {},
   "outputs": [],
   "source": [
    "# Define the queries\n",
    "find_friends = \"\"\"\n",
    "MATCH (user:User {username: 'Monika'})-[:FRIEND*1..depth]-(friend)\n",
    "WHERE user <> friend\n",
    "RETURN DISTINCT friend.username\n",
    "\"\"\"\n",
    "\n",
    "common_friends = \"\"\"\n",
    "MATCH (user1:User {username: 'Julia'})-[:FRIEND]-(commonFriend)\n",
    "MATCH (user2:User {username: 'Monika'})-[:FRIEND]-(commonFriend)\n",
    "RETURN DISTINCT commonFriend.username\n",
    "\"\"\"\n",
    "\n",
    "depth = 2  \n",
    "with driver.session() as session:\n",
    "    result1 = session.run(find_friends.replace('depth', str(depth)))\n",
    "    result2 = session.run(common_friends)\n",
    "\n",
    "    friends_result = [record[\"friend.username\"] for record in result1]\n",
    "    common_friends_result = [record[\"commonFriend.username\"] for record in result2]"
   ]
  },
  {
   "cell_type": "code",
   "execution_count": 43,
   "id": "5563b352",
   "metadata": {},
   "outputs": [
    {
     "name": "stdout",
     "output_type": "stream",
     "text": [
      "Friends up to depth 2 : ['John', 'Simon', 'Julia', 'Anna']\n",
      "Common Friends: ['Simon']\n"
     ]
    }
   ],
   "source": [
    "# Display the results\n",
    "print(\"Friends up to depth\", depth, \":\", friends_result)\n",
    "print(\"Common Friends:\", common_friends_result)"
   ]
  },
  {
   "cell_type": "markdown",
   "id": "b3ee521b",
   "metadata": {},
   "source": [
    "3. Recommendation System:\n",
    "    \n",
    "Implement a basic recommendation system by finding users who have similar interests based on their interactions.\n",
    "\n",
    "Propose movies, books, or other items that a user might be interested in based on their connections' preferences."
   ]
  },
  {
   "cell_type": "code",
   "execution_count": 81,
   "id": "dc9a7776",
   "metadata": {},
   "outputs": [],
   "source": [
    "def get_similar_user(tx, username):\n",
    "    result = tx.run(\n",
    "        \"MATCH (user:User {username: $username})-[:LIKES]->(hobbie:Hobbie)<-[:LIKES]-(user2:User) \"\n",
    "        \"RETURN user2.username, hobbie.name\",\n",
    "        username=username\n",
    "    )\n",
    "    return [{\"hobbie\": record[\"hobbie.name\"], \"similar_user\": record[\"user2.username\"]} for record in result]\n",
    "\n"
   ]
  },
  {
   "cell_type": "code",
   "execution_count": 82,
   "id": "deb2b5ed",
   "metadata": {},
   "outputs": [
    {
     "name": "stdout",
     "output_type": "stream",
     "text": [
      "[]\n"
     ]
    }
   ],
   "source": [
    "with driver.session() as session:\n",
    "    result = session.execute_read(get_similar_user, username=\"Simon\")\n",
    "    print(result)"
   ]
  },
  {
   "cell_type": "code",
   "execution_count": null,
   "id": "827123e2",
   "metadata": {},
   "outputs": [],
   "source": []
  },
  {
   "cell_type": "code",
   "execution_count": null,
   "id": "df2bd38a",
   "metadata": {},
   "outputs": [],
   "source": [
    "def recommend_item(username):\n",
    "    query = (\n",
    "        \"MATCH (user:User {username: $username})-[:LIKES]->(hobbie:Hobbie)<-[:LIKES]-(user:User)-[:LIKES]->(hobbie:Hobbie) \"\n",
    "        \"WHERE NOT (user)-[:LIKES]->(hobbie) \"\n",
    "        \"RETURN DISTINCT hobbie.name AS suggested_item\"\n",
    "    )\n",
    "    with driver.session() as session:\n",
    "        result = session.run(query, username=username)\n",
    "        return [record[\"suggested_item\"] for record in result]\n"
   ]
  },
  {
   "cell_type": "code",
   "execution_count": null,
   "id": "b5294fba",
   "metadata": {},
   "outputs": [],
   "source": []
  },
  {
   "cell_type": "code",
   "execution_count": 59,
   "id": "5af4e00d",
   "metadata": {},
   "outputs": [],
   "source": []
  },
  {
   "cell_type": "code",
   "execution_count": 60,
   "id": "4c1c465a",
   "metadata": {},
   "outputs": [],
   "source": []
  },
  {
   "cell_type": "code",
   "execution_count": 61,
   "id": "83db648e",
   "metadata": {},
   "outputs": [],
   "source": []
  },
  {
   "cell_type": "code",
   "execution_count": 63,
   "id": "8953d269",
   "metadata": {},
   "outputs": [],
   "source": []
  },
  {
   "cell_type": "markdown",
   "id": "76ce0f75",
   "metadata": {},
   "source": [
    "4. Pathfinding:\n",
    "    \n",
    "Use graph algorithms in Neo4j to find the shortest path between two nodes in the graph.\n",
    "\n",
    "Find the path of mutual friends between two users."
   ]
  },
  {
   "cell_type": "code",
   "execution_count": 85,
   "id": "cc7144e8",
   "metadata": {},
   "outputs": [],
   "source": [
    "def find_shortest_path(tx,username1,username2):\n",
    "    result = tx.run(\n",
    "            \"match (user1:User {username:$username1}),(user2:User {username:$username2}), path= SHORTESTPATH ((user1)-[*]->(user2))\" \n",
    "            \"RETURN nodes(path),relationships(path)\",username1=username1,username2=username2)\n",
    "    return [{\"nodes\":record[\"nodes(path)\"],\"relationships\":record[\"relationships(path)\"]} for record in result]\n"
   ]
  },
  {
   "cell_type": "code",
   "execution_count": 86,
   "id": "5eac21d3",
   "metadata": {},
   "outputs": [],
   "source": [
    "with driver.session() as session:\n",
    "    results = session.execute_read(find_shortest_path,\"Julia\",\"John\")\n",
    "    nodes = results[0][\"nodes\"]\n",
    "    relationships = results[0][\"relationships\"]"
   ]
  },
  {
   "cell_type": "code",
   "execution_count": 88,
   "id": "97f69ad8",
   "metadata": {},
   "outputs": [
    {
     "name": "stdout",
     "output_type": "stream",
     "text": [
      "Julia\n",
      "Monika\n",
      "John\n"
     ]
    }
   ],
   "source": [
    "for node in nodes:\n",
    "    print(node.get(\"username\"))"
   ]
  },
  {
   "cell_type": "code",
   "execution_count": 89,
   "id": "b5e1eec6",
   "metadata": {},
   "outputs": [
    {
     "name": "stdout",
     "output_type": "stream",
     "text": [
      "Julia -> Monika\n",
      "Monika -> John\n"
     ]
    }
   ],
   "source": [
    "for relationship in relationships:\n",
    "    nodes = relationship.nodes\n",
    "    print(nodes[0].get(\"username\"),\"->\",nodes[1].get(\"username\"))"
   ]
  },
  {
   "cell_type": "code",
   "execution_count": 124,
   "id": "930f8d9b",
   "metadata": {},
   "outputs": [],
   "source": [
    "def find_common_friend(tx, username1, username2):\n",
    "    query = (\n",
    "        \"MATCH (user1:User {username: $username1})-[:FRIEND]-(commonFriend:User)-[:FRIEND]-(user2:User {username: $username2})\"\n",
    "        \"RETURN commonFriend.username AS common_friend\"\n",
    "    )\n",
    "    result = tx.run(query, username1=username1, username2=username2)\n",
    "    return result.single()[\"common_friend\"]"
   ]
  },
  {
   "cell_type": "code",
   "execution_count": 128,
   "id": "c0e1af43",
   "metadata": {},
   "outputs": [
    {
     "name": "stdout",
     "output_type": "stream",
     "text": [
      "Common Friend: Monika\n"
     ]
    },
    {
     "name": "stderr",
     "output_type": "stream",
     "text": [
      "C:\\Users\\SN\\AppData\\Local\\Programs\\Python\\Python310\\lib\\site-packages\\neo4j\\_sync\\work\\result.py:465: UserWarning: Expected a result with a single record, but found multiple.\n",
      "  warn(\"Expected a result with a single record, \"\n"
     ]
    }
   ],
   "source": [
    "with driver.session() as session:\n",
    "    common_friend = session.execute_read(find_common_friend, 'Julia', 'John')\n",
    "\n",
    "if common_friend is not None:\n",
    "    print(\"Common Friend:\", common_friend)\n",
    "else:\n",
    "    print(\"No common friend found.\")"
   ]
  },
  {
   "cell_type": "code",
   "execution_count": null,
   "id": "a5fe2725",
   "metadata": {},
   "outputs": [],
   "source": [
    "driver.close()"
   ]
  }
 ],
 "metadata": {
  "hide_input": false,
  "kernelspec": {
   "display_name": "Python 3 (ipykernel)",
   "language": "python",
   "name": "python3"
  },
  "language_info": {
   "codemirror_mode": {
    "name": "ipython",
    "version": 3
   },
   "file_extension": ".py",
   "mimetype": "text/x-python",
   "name": "python",
   "nbconvert_exporter": "python",
   "pygments_lexer": "ipython3",
   "version": "3.10.4"
  }
 },
 "nbformat": 4,
 "nbformat_minor": 5
}
