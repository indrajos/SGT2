{
 "cells": [
  {
   "cell_type": "markdown",
   "id": "5c22d61a",
   "metadata": {},
   "source": [
    "TASK:\n",
    "\n",
    "  1)Take one of the previous SQL databases created by you\n",
    "  \n",
    "  2)In Python, write the code which extracts the tables from that DB"
   ]
  },
  {
   "cell_type": "code",
   "execution_count": 1,
   "id": "fca8eafd",
   "metadata": {},
   "outputs": [],
   "source": [
    "import mysql.connector\n",
    "import json\n",
    "from pymongo.mongo_client import MongoClient\n",
    "from pymongo.server_api import ServerApi"
   ]
  },
  {
   "cell_type": "code",
   "execution_count": 2,
   "id": "3f6d7e85",
   "metadata": {},
   "outputs": [],
   "source": [
    "# For this task, I choose weather DB. There are two tables: tempreture and wind. To extract those two tables I joined them.\n",
    "connection = mysql.connector.connect(user=\"root\",\n",
    "                                     password=\"psw\",\n",
    "                                     host=\"localhost\",\n",
    "                                     database=\"weather\")\n",
    "cursor = connection.cursor()\n",
    "\n",
    "query = \"\"\"SELECT t.Dates, t.`Temperature mean`, t.`Temperature max`, t.`Temperature min`, \n",
    "            f.Rain, f.Snowfall, f.`Wind direction`  \n",
    "            FROM temperature t \n",
    "            INNER JOIN fall f \n",
    "            ON t.Dates = f.Dates \"\"\"\n",
    "\n",
    "cursor.execute(query)\n",
    "# extract all rows from selected query\n",
    "rows = cursor.fetchall()\n",
    "\n",
    "# extract column names\n",
    "column_names = [desc[0] for desc in cursor.description]\n",
    "\n",
    "# put column names and data to the list\n",
    "weather_list = []\n",
    "for row in rows:\n",
    "    data_dict = dict(zip(column_names, row))\n",
    "    weather_list.append(data_dict)\n",
    "\n",
    "cursor.close()\n",
    "connection.close()"
   ]
  },
  {
   "cell_type": "code",
   "execution_count": 5,
   "id": "bc518a9d",
   "metadata": {},
   "outputs": [],
   "source": [
    "# create json file with information from the list (mysql DB)\n",
    "# it will be used creating collection in Mongo DB\n",
    "\n",
    "with open('weather.json', 'w') as json_file:\n",
    "    json.dump(weather_list, json_file, indent=4)"
   ]
  },
  {
   "cell_type": "markdown",
   "id": "d2df4a59",
   "metadata": {},
   "source": [
    "TASK\n",
    "\n",
    "  3)Load the data from these tables as the collections to MongoDB collections (create them before)"
   ]
  },
  {
   "cell_type": "code",
   "execution_count": 18,
   "id": "0a6c9591",
   "metadata": {},
   "outputs": [
    {
     "name": "stdout",
     "output_type": "stream",
     "text": [
      "Pinged your deployment. You successfully connected to MongoDB!\n"
     ]
    }
   ],
   "source": [
    "uri = \"your_uri"\n",
    "\n",
    "client = MongoClient(uri, server_api=ServerApi('1'))\n",
    "\n",
    "try:\n",
    "    client.admin.command('ping')\n",
    "    print(\"Pinged your deployment. You successfully connected to MongoDB!\")\n",
    "except Exception as e:\n",
    "    print(e)"
   ]
  },
  {
   "cell_type": "code",
   "execution_count": 19,
   "id": "6ce776a9",
   "metadata": {},
   "outputs": [],
   "source": [
    "db = client[\"global\"]\n",
    "collection = db[\"weather\"]"
   ]
  },
  {
   "cell_type": "code",
   "execution_count": 20,
   "id": "8957d185",
   "metadata": {},
   "outputs": [],
   "source": [
    "results = collection.find()"
   ]
  },
  {
   "cell_type": "markdown",
   "id": "7e44abab",
   "metadata": {},
   "source": [
    "TASK\n",
    "\n",
    "  3.1) Create unique index, so it matches the key value in the initial SQL database"
   ]
  },
  {
   "cell_type": "code",
   "execution_count": 25,
   "id": "051d6143",
   "metadata": {},
   "outputs": [
    {
     "data": {
      "text/plain": [
       "'Dates_1'"
      ]
     },
     "execution_count": 25,
     "metadata": {},
     "output_type": "execute_result"
    }
   ],
   "source": [
    "# Create a unique index on the \"Dates\" field\n",
    "index_key = [(\"Dates\")]\n",
    "index_options = {\"unique\": True}\n",
    "collection.create_index(index_key, **index_options)"
   ]
  },
  {
   "cell_type": "markdown",
   "id": "a5d6b6a0",
   "metadata": {},
   "source": [
    "TASK\n",
    "\n",
    "4)Insert at least 3 entries to these collections"
   ]
  },
  {
   "cell_type": "code",
   "execution_count": 28,
   "id": "42e734d6",
   "metadata": {},
   "outputs": [
    {
     "data": {
      "text/plain": [
       "<pymongo.results.InsertManyResult at 0x27a277a58d0>"
      ]
     },
     "execution_count": 28,
     "metadata": {},
     "output_type": "execute_result"
    }
   ],
   "source": [
    "entries = [\n",
    "    {\n",
    "        \"Dates\": \"2023-06-19\",\n",
    "        \"Temperature mean\": 11.4,\n",
    "        \"Temperature max\": 12.9,\n",
    "        \"Temperature min\": 9.0,\n",
    "        \"Rain\": 4.6,\n",
    "        \"Snowfall\": 0.0,\n",
    "        \"Wind direction\": 249.0\n",
    "    },\n",
    "    {\n",
    "        \"Dates\": \"2023-06-20\",\n",
    "        \"Temperature mean\": 13.2,\n",
    "        \"Temperature max\": 15.6,\n",
    "        \"Temperature min\": 10.1,\n",
    "        \"Rain\": 2.8,\n",
    "        \"Snowfall\": 0.0,\n",
    "        \"Wind direction\": 192.0\n",
    "    },\n",
    "    {\n",
    "        \"Dates\": \"2023-06-21\",\n",
    "        \"Temperature mean\": 9.8,\n",
    "        \"Temperature max\": 11.7,\n",
    "        \"Temperature min\": 7.2,\n",
    "        \"Rain\": 6.3,\n",
    "        \"Snowfall\": 0.0,\n",
    "        \"Wind direction\": 310.0\n",
    "    }\n",
    "]\n",
    "\n",
    "# Insert the entries into the collection\n",
    "collection.insert_many(entries)"
   ]
  },
  {
   "cell_type": "markdown",
   "id": "d19ff021",
   "metadata": {},
   "source": [
    "TASK\n",
    "\n",
    "5)Perform at least 3 selections based on different (MIXED - \"one or another\",\"one and another\", etc.) filter"
   ]
  },
  {
   "cell_type": "code",
   "execution_count": 30,
   "id": "3c99ff36",
   "metadata": {
    "collapsed": true
   },
   "outputs": [
    {
     "name": "stdout",
     "output_type": "stream",
     "text": [
      "{'_id': ObjectId('64d13fc57ad046045826540f'), 'Dates': '2023-01-02', 'Temperature mean': 6.9, 'Temperature max': 9, 'Temperature min': 4.8, 'Rain': 7.6, 'Snowfall': 0, 'Wind direction': 222}\n",
      "{'_id': ObjectId('64d13fc57ad0460458265412'), 'Dates': '2023-01-05', 'Temperature mean': 0, 'Temperature max': 3.2, 'Temperature min': -6.7, 'Rain': 8.9, 'Snowfall': 4.48, 'Wind direction': 74}\n",
      "{'_id': ObjectId('64d13fc57ad046045826541c'), 'Dates': '2023-01-15', 'Temperature mean': 2.5, 'Temperature max': 3.3, 'Temperature min': 2, 'Rain': 8.2, 'Snowfall': 0.42, 'Wind direction': 183}\n",
      "{'_id': ObjectId('64d13fc57ad046045826541f'), 'Dates': '2023-01-18', 'Temperature mean': 2.5, 'Temperature max': 5.8, 'Temperature min': 1, 'Rain': 6.8, 'Snowfall': 0.91, 'Wind direction': 129}\n",
      "{'_id': ObjectId('64d13fc57ad046045826543e'), 'Dates': '2023-02-18', 'Temperature mean': 3.4, 'Temperature max': 4.7, 'Temperature min': 1.7, 'Rain': 7.9, 'Snowfall': 0, 'Wind direction': 258}\n",
      "{'_id': ObjectId('64d13fc57ad0460458265453'), 'Dates': '2023-03-11', 'Temperature mean': 0.6, 'Temperature max': 4.4, 'Temperature min': -2.8, 'Rain': 5.3, 'Snowfall': 0.63, 'Wind direction': 184}\n",
      "{'_id': ObjectId('64d13fc57ad046045826545f'), 'Dates': '2023-03-23', 'Temperature mean': 10.2, 'Temperature max': 15.2, 'Temperature min': 7.3, 'Rain': 3.6, 'Snowfall': 0, 'Wind direction': 218}\n",
      "{'_id': ObjectId('64d13fc57ad0460458265462'), 'Dates': '2023-03-26', 'Temperature mean': 7.2, 'Temperature max': 10.6, 'Temperature min': 4.9, 'Rain': 6.4, 'Snowfall': 0, 'Wind direction': 233}\n",
      "{'_id': ObjectId('64d13fc57ad0460458265467'), 'Dates': '2023-03-31', 'Temperature mean': 6.1, 'Temperature max': 9.9, 'Temperature min': 3.8, 'Rain': 7, 'Snowfall': 0, 'Wind direction': 170}\n",
      "{'_id': ObjectId('64d13fc57ad0460458265468'), 'Dates': '2023-04-01', 'Temperature mean': 6.2, 'Temperature max': 10.9, 'Temperature min': 2.6, 'Rain': 6.5, 'Snowfall': 0, 'Wind direction': 23}\n",
      "{'_id': ObjectId('64d13fc57ad046045826546f'), 'Dates': '2023-04-08', 'Temperature mean': 10, 'Temperature max': 14.1, 'Temperature min': 6.9, 'Rain': 5.2, 'Snowfall': 0, 'Wind direction': 28}\n",
      "{'_id': ObjectId('64d13fc57ad0460458265470'), 'Dates': '2023-04-09', 'Temperature mean': 9.1, 'Temperature max': 15.4, 'Temperature min': 2.3, 'Rain': 5.3, 'Snowfall': 0, 'Wind direction': 104}\n",
      "{'_id': ObjectId('64d13fc57ad0460458265471'), 'Dates': '2023-04-10', 'Temperature mean': 10, 'Temperature max': 16.6, 'Temperature min': 2.2, 'Rain': 0.2, 'Snowfall': 0, 'Wind direction': 89}\n",
      "{'_id': ObjectId('64d13fc57ad0460458265472'), 'Dates': '2023-04-11', 'Temperature mean': 10.4, 'Temperature max': 15.5, 'Temperature min': 4.7, 'Rain': 0.1, 'Snowfall': 0, 'Wind direction': 151}\n",
      "{'_id': ObjectId('64d13fc57ad0460458265473'), 'Dates': '2023-04-12', 'Temperature mean': 11.1, 'Temperature max': 16.2, 'Temperature min': 6.2, 'Rain': 1, 'Snowfall': 0, 'Wind direction': 105}\n",
      "{'_id': ObjectId('64d13fc57ad046045826547a'), 'Dates': '2023-04-19', 'Temperature mean': 10.8, 'Temperature max': 15.7, 'Temperature min': 6, 'Rain': 2.5, 'Snowfall': 0, 'Wind direction': 57}\n",
      "{'_id': ObjectId('64d13fc57ad046045826547b'), 'Dates': '2023-04-20', 'Temperature mean': 11.5, 'Temperature max': 16.3, 'Temperature min': 6.8, 'Rain': 0, 'Snowfall': 0, 'Wind direction': 49}\n",
      "{'_id': ObjectId('64d13fc57ad046045826547c'), 'Dates': '2023-04-21', 'Temperature mean': 11, 'Temperature max': 15.9, 'Temperature min': 5.1, 'Rain': 0, 'Snowfall': 0, 'Wind direction': 13}\n",
      "{'_id': ObjectId('64d13fc57ad046045826547d'), 'Dates': '2023-04-22', 'Temperature mean': 11.8, 'Temperature max': 16.2, 'Temperature min': 6.1, 'Rain': 0, 'Snowfall': 0, 'Wind direction': 305}\n",
      "{'_id': ObjectId('64d13fc57ad046045826547e'), 'Dates': '2023-04-23', 'Temperature mean': 13.3, 'Temperature max': 18.3, 'Temperature min': 8, 'Rain': 0, 'Snowfall': 0, 'Wind direction': 187}\n",
      "{'_id': ObjectId('64d13fc57ad046045826547f'), 'Dates': '2023-04-24', 'Temperature mean': 13.9, 'Temperature max': 18.9, 'Temperature min': 8.8, 'Rain': 0, 'Snowfall': 0, 'Wind direction': 164}\n",
      "{'_id': ObjectId('64d13fc57ad0460458265480'), 'Dates': '2023-04-25', 'Temperature mean': 13.1, 'Temperature max': 17.3, 'Temperature min': 8.7, 'Rain': 0.7, 'Snowfall': 0, 'Wind direction': 152}\n",
      "{'_id': ObjectId('64d13fc57ad0460458265481'), 'Dates': '2023-04-26', 'Temperature mean': 6.7, 'Temperature max': 9.6, 'Temperature min': 5.2, 'Rain': 6.2, 'Snowfall': 0, 'Wind direction': 304}\n",
      "{'_id': ObjectId('64d13fc57ad0460458265487'), 'Dates': '2023-05-02', 'Temperature mean': 10.7, 'Temperature max': 16.6, 'Temperature min': 6.5, 'Rain': 1.8, 'Snowfall': 0, 'Wind direction': 205}\n",
      "{'_id': ObjectId('64d13fc57ad046045826548e'), 'Dates': '2023-05-09', 'Temperature mean': 10.1, 'Temperature max': 15.7, 'Temperature min': 2.1, 'Rain': 0, 'Snowfall': 0, 'Wind direction': 143}\n",
      "{'_id': ObjectId('64d13fc57ad046045826548f'), 'Dates': '2023-05-10', 'Temperature mean': 10.9, 'Temperature max': 16.2, 'Temperature min': 3, 'Rain': 0, 'Snowfall': 0, 'Wind direction': 138}\n",
      "{'_id': ObjectId('64d13fc57ad0460458265490'), 'Dates': '2023-05-11', 'Temperature mean': 11.9, 'Temperature max': 17.4, 'Temperature min': 3.5, 'Rain': 0, 'Snowfall': 0, 'Wind direction': 139}\n",
      "{'_id': ObjectId('64d13fc57ad0460458265491'), 'Dates': '2023-05-12', 'Temperature mean': 15.1, 'Temperature max': 19.7, 'Temperature min': 7.6, 'Rain': 0, 'Snowfall': 0, 'Wind direction': 28}\n",
      "{'_id': ObjectId('64d13fc57ad0460458265492'), 'Dates': '2023-05-13', 'Temperature mean': 16.2, 'Temperature max': 21.1, 'Temperature min': 10.8, 'Rain': 0, 'Snowfall': 0, 'Wind direction': 66}\n",
      "{'_id': ObjectId('64d13fc57ad0460458265493'), 'Dates': '2023-05-14', 'Temperature mean': 17.1, 'Temperature max': 22.3, 'Temperature min': 10.5, 'Rain': 0, 'Snowfall': 0, 'Wind direction': 80}\n",
      "{'_id': ObjectId('64d13fc57ad0460458265494'), 'Dates': '2023-05-15', 'Temperature mean': 18, 'Temperature max': 23.1, 'Temperature min': 11.2, 'Rain': 0, 'Snowfall': 0, 'Wind direction': 126}\n",
      "{'_id': ObjectId('64d13fc57ad0460458265495'), 'Dates': '2023-05-16', 'Temperature mean': 14.9, 'Temperature max': 18.1, 'Temperature min': 11.9, 'Rain': 6.3, 'Snowfall': 0, 'Wind direction': 188}\n",
      "{'_id': ObjectId('64d13fc57ad0460458265496'), 'Dates': '2023-05-17', 'Temperature mean': 12, 'Temperature max': 14.4, 'Temperature min': 8.9, 'Rain': 11.9, 'Snowfall': 0, 'Wind direction': 340}\n",
      "{'_id': ObjectId('64d13fc57ad0460458265498'), 'Dates': '2023-05-19', 'Temperature mean': 13.4, 'Temperature max': 17.4, 'Temperature min': 9.7, 'Rain': 0, 'Snowfall': 0, 'Wind direction': 35}\n",
      "{'_id': ObjectId('64d13fc57ad0460458265499'), 'Dates': '2023-05-20', 'Temperature mean': 14.8, 'Temperature max': 19.2, 'Temperature min': 9.5, 'Rain': 0, 'Snowfall': 0, 'Wind direction': 72}\n",
      "{'_id': ObjectId('64d13fc57ad046045826549a'), 'Dates': '2023-05-21', 'Temperature mean': 15, 'Temperature max': 20.1, 'Temperature min': 7.3, 'Rain': 0, 'Snowfall': 0, 'Wind direction': 61}\n",
      "{'_id': ObjectId('64d13fc57ad046045826549b'), 'Dates': '2023-05-22', 'Temperature mean': 15.5, 'Temperature max': 19.9, 'Temperature min': 9.3, 'Rain': 0, 'Snowfall': 0, 'Wind direction': 53}\n",
      "{'_id': ObjectId('64d13fc57ad046045826549c'), 'Dates': '2023-05-23', 'Temperature mean': 16.7, 'Temperature max': 21.1, 'Temperature min': 9.8, 'Rain': 0, 'Snowfall': 0, 'Wind direction': 122}\n",
      "{'_id': ObjectId('64d13fc57ad046045826549d'), 'Dates': '2023-05-24', 'Temperature mean': 18.4, 'Temperature max': 23.1, 'Temperature min': 12.4, 'Rain': 0, 'Snowfall': 0, 'Wind direction': 55}\n",
      "{'_id': ObjectId('64d13fc57ad046045826549e'), 'Dates': '2023-05-25', 'Temperature mean': 19.7, 'Temperature max': 23.7, 'Temperature min': 15.3, 'Rain': 0, 'Snowfall': 0, 'Wind direction': 295}\n",
      "{'_id': ObjectId('64d13fc57ad046045826549f'), 'Dates': '2023-05-26', 'Temperature mean': 16.1, 'Temperature max': 20, 'Temperature min': 12, 'Rain': 0, 'Snowfall': 0, 'Wind direction': 301}\n",
      "{'_id': ObjectId('64d13fc57ad04604582654a0'), 'Dates': '2023-05-27', 'Temperature mean': 12.8, 'Temperature max': 16.3, 'Temperature min': 9.1, 'Rain': 0, 'Snowfall': 0, 'Wind direction': 0}\n",
      "{'_id': ObjectId('64d13fc57ad04604582654a1'), 'Dates': '2023-05-28', 'Temperature mean': 13.6, 'Temperature max': 18.4, 'Temperature min': 7, 'Rain': 0, 'Snowfall': 0, 'Wind direction': 357}\n",
      "{'_id': ObjectId('64d13fc57ad04604582654a2'), 'Dates': '2023-05-29', 'Temperature mean': 15.6, 'Temperature max': 20.3, 'Temperature min': 7.4, 'Rain': 0, 'Snowfall': 0, 'Wind direction': 242}\n",
      "{'_id': ObjectId('64d13fc57ad04604582654a3'), 'Dates': '2023-05-30', 'Temperature mean': 15.7, 'Temperature max': 19.6, 'Temperature min': 11.4, 'Rain': 0, 'Snowfall': 0, 'Wind direction': 330}\n",
      "{'_id': ObjectId('64d13fc57ad04604582654a4'), 'Dates': '2023-05-31', 'Temperature mean': 14.7, 'Temperature max': 19.9, 'Temperature min': 8.2, 'Rain': 0, 'Snowfall': 0, 'Wind direction': 287}\n",
      "{'_id': ObjectId('64d13fc57ad04604582654a5'), 'Dates': '2023-06-01', 'Temperature mean': 15.9, 'Temperature max': 19.7, 'Temperature min': 10.7, 'Rain': 0, 'Snowfall': 0, 'Wind direction': 338}\n",
      "{'_id': ObjectId('64d13fc57ad04604582654a8'), 'Dates': '2023-06-04', 'Temperature mean': 13, 'Temperature max': 17.8, 'Temperature min': 6.6, 'Rain': 0, 'Snowfall': 0, 'Wind direction': 258}\n",
      "{'_id': ObjectId('64d13fc57ad04604582654a9'), 'Dates': '2023-06-05', 'Temperature mean': 13.6, 'Temperature max': 17.8, 'Temperature min': 7.9, 'Rain': 0, 'Snowfall': 0, 'Wind direction': 326}\n",
      "{'_id': ObjectId('64d13fc57ad04604582654aa'), 'Dates': '2023-06-06', 'Temperature mean': 15.9, 'Temperature max': 21.9, 'Temperature min': 7.1, 'Rain': 0, 'Snowfall': 0, 'Wind direction': 125}\n",
      "{'_id': ObjectId('64d13fc57ad04604582654ab'), 'Dates': '2023-06-07', 'Temperature mean': 18.8, 'Temperature max': 24.8, 'Temperature min': 9.9, 'Rain': 0, 'Snowfall': 0, 'Wind direction': 357}\n",
      "{'_id': ObjectId('64d13fc57ad04604582654ac'), 'Dates': '2023-06-08', 'Temperature mean': 20.4, 'Temperature max': 26, 'Temperature min': 11.5, 'Rain': 0, 'Snowfall': 0, 'Wind direction': 189}\n",
      "{'_id': ObjectId('64d13fc57ad04604582654ad'), 'Dates': '2023-06-09', 'Temperature mean': 20.2, 'Temperature max': 24.9, 'Temperature min': 15.7, 'Rain': 0.5, 'Snowfall': 0, 'Wind direction': 9}\n",
      "{'_id': ObjectId('64d13fc57ad04604582654ae'), 'Dates': '2023-06-10', 'Temperature mean': 16.6, 'Temperature max': 19.9, 'Temperature min': 13.2, 'Rain': 0, 'Snowfall': 0, 'Wind direction': 57}\n",
      "{'_id': ObjectId('64d13fc57ad04604582654af'), 'Dates': '2023-06-11', 'Temperature mean': 16, 'Temperature max': 20.2, 'Temperature min': 11.3, 'Rain': 0, 'Snowfall': 0, 'Wind direction': 69}\n",
      "{'_id': ObjectId('64d13fc57ad04604582654b0'), 'Dates': '2023-06-12', 'Temperature mean': 15.5, 'Temperature max': 19.7, 'Temperature min': 10.5, 'Rain': 0, 'Snowfall': 0, 'Wind direction': 76}\n",
      "{'_id': ObjectId('64d13fc57ad04604582654b1'), 'Dates': '2023-06-13', 'Temperature mean': 17.7, 'Temperature max': 22.3, 'Temperature min': 12.5, 'Rain': 0, 'Snowfall': 0, 'Wind direction': 69}\n",
      "{'_id': ObjectId('64d13fc57ad04604582654b2'), 'Dates': '2023-06-14', 'Temperature mean': 18.3, 'Temperature max': 22.1, 'Temperature min': 12.4, 'Rain': 1, 'Snowfall': 0, 'Wind direction': 69}\n",
      "{'_id': ObjectId('64d13fc57ad04604582654b3'), 'Dates': '2023-06-15', 'Temperature mean': 21.5, 'Temperature max': 26.4, 'Temperature min': 17.2, 'Rain': 0, 'Snowfall': 0, 'Wind direction': 94}\n",
      "{'_id': ObjectId('64d13fc57ad04604582654b4'), 'Dates': '2023-06-16', 'Temperature mean': 20.9, 'Temperature max': 25.6, 'Temperature min': 15.3, 'Rain': 1, 'Snowfall': 0, 'Wind direction': 60}\n",
      "{'_id': ObjectId('64d13fc57ad04604582654b5'), 'Dates': '2023-06-17', 'Temperature mean': 21.4, 'Temperature max': 26.2, 'Temperature min': 17.8, 'Rain': 2.2, 'Snowfall': 0, 'Wind direction': 99}\n",
      "{'_id': ObjectId('64d13fc57ad04604582654b6'), 'Dates': '2023-06-18', 'Temperature mean': None, 'Temperature max': 18.3, 'Temperature min': 18, 'Rain': None, 'Snowfall': None, 'Wind direction': None}\n",
      "{'_id': ObjectId('64d21f1b05053950d4f4e748'), 'Dates': '2023-06-20', 'Temperature mean': 13.2, 'Temperature max': 15.6, 'Temperature min': 10.1, 'Rain': 2.8, 'Snowfall': 0.0, 'Wind direction': 192.0}\n",
      "{'_id': ObjectId('64d21f1b05053950d4f4e749'), 'Dates': '2023-06-21', 'Temperature mean': 9.8, 'Temperature max': 11.7, 'Temperature min': 7.2, 'Rain': 6.3, 'Snowfall': 0.0, 'Wind direction': 310.0}\n"
     ]
    }
   ],
   "source": [
    "# \"one or another\" filter\n",
    "# get data where either the \"Temperature max\" is greater than or equal to 15, \n",
    "# or the \"Rain\" is greater than or equal to 5.\n",
    "query1 = {\n",
    "    \"$or\": [\n",
    "        {\"Temperature max\": {\"$gte\": 15}},\n",
    "        {\"Rain\": {\"$gte\": 5}}\n",
    "    ]\n",
    "}\n",
    "result1 = collection.find(query1)\n",
    "\n",
    "for doc in result1:\n",
    "    print(doc)"
   ]
  },
  {
   "cell_type": "code",
   "execution_count": 31,
   "id": "c1f2803c",
   "metadata": {
    "collapsed": true
   },
   "outputs": [
    {
     "name": "stdout",
     "output_type": "stream",
     "text": [
      "{'_id': ObjectId('64d13fc57ad046045826540e'), 'Dates': '2023-01-01', 'Temperature mean': 11.4, 'Temperature max': 12.9, 'Temperature min': 9, 'Rain': 4.6, 'Snowfall': 0, 'Wind direction': 249}\n",
      "{'_id': ObjectId('64d13fc57ad046045826545f'), 'Dates': '2023-03-23', 'Temperature mean': 10.2, 'Temperature max': 15.2, 'Temperature min': 7.3, 'Rain': 3.6, 'Snowfall': 0, 'Wind direction': 218}\n",
      "{'_id': ObjectId('64d13fc57ad0460458265460'), 'Dates': '2023-03-24', 'Temperature mean': 10.2, 'Temperature max': 13.4, 'Temperature min': 7.5, 'Rain': 4.4, 'Snowfall': 0, 'Wind direction': 227}\n",
      "{'_id': ObjectId('64d13fc57ad046045826546f'), 'Dates': '2023-04-08', 'Temperature mean': 10, 'Temperature max': 14.1, 'Temperature min': 6.9, 'Rain': 5.2, 'Snowfall': 0, 'Wind direction': 28}\n",
      "{'_id': ObjectId('64d13fc57ad0460458265471'), 'Dates': '2023-04-10', 'Temperature mean': 10, 'Temperature max': 16.6, 'Temperature min': 2.2, 'Rain': 0.2, 'Snowfall': 0, 'Wind direction': 89}\n",
      "{'_id': ObjectId('64d13fc57ad0460458265472'), 'Dates': '2023-04-11', 'Temperature mean': 10.4, 'Temperature max': 15.5, 'Temperature min': 4.7, 'Rain': 0.1, 'Snowfall': 0, 'Wind direction': 151}\n",
      "{'_id': ObjectId('64d13fc57ad0460458265473'), 'Dates': '2023-04-12', 'Temperature mean': 11.1, 'Temperature max': 16.2, 'Temperature min': 6.2, 'Rain': 1, 'Snowfall': 0, 'Wind direction': 105}\n",
      "{'_id': ObjectId('64d13fc57ad046045826547a'), 'Dates': '2023-04-19', 'Temperature mean': 10.8, 'Temperature max': 15.7, 'Temperature min': 6, 'Rain': 2.5, 'Snowfall': 0, 'Wind direction': 57}\n",
      "{'_id': ObjectId('64d13fc57ad046045826547b'), 'Dates': '2023-04-20', 'Temperature mean': 11.5, 'Temperature max': 16.3, 'Temperature min': 6.8, 'Rain': 0, 'Snowfall': 0, 'Wind direction': 49}\n",
      "{'_id': ObjectId('64d13fc57ad046045826547c'), 'Dates': '2023-04-21', 'Temperature mean': 11, 'Temperature max': 15.9, 'Temperature min': 5.1, 'Rain': 0, 'Snowfall': 0, 'Wind direction': 13}\n",
      "{'_id': ObjectId('64d13fc57ad046045826547d'), 'Dates': '2023-04-22', 'Temperature mean': 11.8, 'Temperature max': 16.2, 'Temperature min': 6.1, 'Rain': 0, 'Snowfall': 0, 'Wind direction': 305}\n",
      "{'_id': ObjectId('64d13fc57ad046045826547e'), 'Dates': '2023-04-23', 'Temperature mean': 13.3, 'Temperature max': 18.3, 'Temperature min': 8, 'Rain': 0, 'Snowfall': 0, 'Wind direction': 187}\n",
      "{'_id': ObjectId('64d13fc57ad046045826547f'), 'Dates': '2023-04-24', 'Temperature mean': 13.9, 'Temperature max': 18.9, 'Temperature min': 8.8, 'Rain': 0, 'Snowfall': 0, 'Wind direction': 164}\n",
      "{'_id': ObjectId('64d13fc57ad0460458265480'), 'Dates': '2023-04-25', 'Temperature mean': 13.1, 'Temperature max': 17.3, 'Temperature min': 8.7, 'Rain': 0.7, 'Snowfall': 0, 'Wind direction': 152}\n",
      "{'_id': ObjectId('64d13fc57ad0460458265487'), 'Dates': '2023-05-02', 'Temperature mean': 10.7, 'Temperature max': 16.6, 'Temperature min': 6.5, 'Rain': 1.8, 'Snowfall': 0, 'Wind direction': 205}\n",
      "{'_id': ObjectId('64d13fc57ad046045826548e'), 'Dates': '2023-05-09', 'Temperature mean': 10.1, 'Temperature max': 15.7, 'Temperature min': 2.1, 'Rain': 0, 'Snowfall': 0, 'Wind direction': 143}\n",
      "{'_id': ObjectId('64d13fc57ad046045826548f'), 'Dates': '2023-05-10', 'Temperature mean': 10.9, 'Temperature max': 16.2, 'Temperature min': 3, 'Rain': 0, 'Snowfall': 0, 'Wind direction': 138}\n",
      "{'_id': ObjectId('64d13fc57ad0460458265490'), 'Dates': '2023-05-11', 'Temperature mean': 11.9, 'Temperature max': 17.4, 'Temperature min': 3.5, 'Rain': 0, 'Snowfall': 0, 'Wind direction': 139}\n",
      "{'_id': ObjectId('64d13fc57ad0460458265491'), 'Dates': '2023-05-12', 'Temperature mean': 15.1, 'Temperature max': 19.7, 'Temperature min': 7.6, 'Rain': 0, 'Snowfall': 0, 'Wind direction': 28}\n",
      "{'_id': ObjectId('64d13fc57ad0460458265492'), 'Dates': '2023-05-13', 'Temperature mean': 16.2, 'Temperature max': 21.1, 'Temperature min': 10.8, 'Rain': 0, 'Snowfall': 0, 'Wind direction': 66}\n",
      "{'_id': ObjectId('64d13fc57ad0460458265493'), 'Dates': '2023-05-14', 'Temperature mean': 17.1, 'Temperature max': 22.3, 'Temperature min': 10.5, 'Rain': 0, 'Snowfall': 0, 'Wind direction': 80}\n",
      "{'_id': ObjectId('64d13fc57ad0460458265496'), 'Dates': '2023-05-17', 'Temperature mean': 12, 'Temperature max': 14.4, 'Temperature min': 8.9, 'Rain': 11.9, 'Snowfall': 0, 'Wind direction': 340}\n",
      "{'_id': ObjectId('64d13fc57ad0460458265497'), 'Dates': '2023-05-18', 'Temperature mean': 10.5, 'Temperature max': 14.3, 'Temperature min': 7.5, 'Rain': 0.2, 'Snowfall': 0, 'Wind direction': 359}\n",
      "{'_id': ObjectId('64d13fc57ad0460458265498'), 'Dates': '2023-05-19', 'Temperature mean': 13.4, 'Temperature max': 17.4, 'Temperature min': 9.7, 'Rain': 0, 'Snowfall': 0, 'Wind direction': 35}\n",
      "{'_id': ObjectId('64d13fc57ad0460458265499'), 'Dates': '2023-05-20', 'Temperature mean': 14.8, 'Temperature max': 19.2, 'Temperature min': 9.5, 'Rain': 0, 'Snowfall': 0, 'Wind direction': 72}\n",
      "{'_id': ObjectId('64d13fc57ad046045826549a'), 'Dates': '2023-05-21', 'Temperature mean': 15, 'Temperature max': 20.1, 'Temperature min': 7.3, 'Rain': 0, 'Snowfall': 0, 'Wind direction': 61}\n",
      "{'_id': ObjectId('64d13fc57ad046045826549b'), 'Dates': '2023-05-22', 'Temperature mean': 15.5, 'Temperature max': 19.9, 'Temperature min': 9.3, 'Rain': 0, 'Snowfall': 0, 'Wind direction': 53}\n",
      "{'_id': ObjectId('64d13fc57ad046045826549c'), 'Dates': '2023-05-23', 'Temperature mean': 16.7, 'Temperature max': 21.1, 'Temperature min': 9.8, 'Rain': 0, 'Snowfall': 0, 'Wind direction': 122}\n",
      "{'_id': ObjectId('64d13fc57ad04604582654a0'), 'Dates': '2023-05-27', 'Temperature mean': 12.8, 'Temperature max': 16.3, 'Temperature min': 9.1, 'Rain': 0, 'Snowfall': 0, 'Wind direction': 0}\n",
      "{'_id': ObjectId('64d13fc57ad04604582654a1'), 'Dates': '2023-05-28', 'Temperature mean': 13.6, 'Temperature max': 18.4, 'Temperature min': 7, 'Rain': 0, 'Snowfall': 0, 'Wind direction': 357}\n",
      "{'_id': ObjectId('64d13fc57ad04604582654a2'), 'Dates': '2023-05-29', 'Temperature mean': 15.6, 'Temperature max': 20.3, 'Temperature min': 7.4, 'Rain': 0, 'Snowfall': 0, 'Wind direction': 242}\n",
      "{'_id': ObjectId('64d13fc57ad04604582654a4'), 'Dates': '2023-05-31', 'Temperature mean': 14.7, 'Temperature max': 19.9, 'Temperature min': 8.2, 'Rain': 0, 'Snowfall': 0, 'Wind direction': 287}\n",
      "{'_id': ObjectId('64d13fc57ad04604582654a5'), 'Dates': '2023-06-01', 'Temperature mean': 15.9, 'Temperature max': 19.7, 'Temperature min': 10.7, 'Rain': 0, 'Snowfall': 0, 'Wind direction': 338}\n",
      "{'_id': ObjectId('64d13fc57ad04604582654a6'), 'Dates': '2023-06-02', 'Temperature mean': 10.8, 'Temperature max': 14.5, 'Temperature min': 7.9, 'Rain': 1.6, 'Snowfall': 0, 'Wind direction': 7}\n",
      "{'_id': ObjectId('64d13fc57ad04604582654a7'), 'Dates': '2023-06-03', 'Temperature mean': 10.2, 'Temperature max': 13.7, 'Temperature min': 5.7, 'Rain': 0, 'Snowfall': 0, 'Wind direction': 309}\n",
      "{'_id': ObjectId('64d13fc57ad04604582654a8'), 'Dates': '2023-06-04', 'Temperature mean': 13, 'Temperature max': 17.8, 'Temperature min': 6.6, 'Rain': 0, 'Snowfall': 0, 'Wind direction': 258}\n",
      "{'_id': ObjectId('64d13fc57ad04604582654a9'), 'Dates': '2023-06-05', 'Temperature mean': 13.6, 'Temperature max': 17.8, 'Temperature min': 7.9, 'Rain': 0, 'Snowfall': 0, 'Wind direction': 326}\n",
      "{'_id': ObjectId('64d13fc57ad04604582654aa'), 'Dates': '2023-06-06', 'Temperature mean': 15.9, 'Temperature max': 21.9, 'Temperature min': 7.1, 'Rain': 0, 'Snowfall': 0, 'Wind direction': 125}\n",
      "{'_id': ObjectId('64d13fc57ad04604582654ab'), 'Dates': '2023-06-07', 'Temperature mean': 18.8, 'Temperature max': 24.8, 'Temperature min': 9.9, 'Rain': 0, 'Snowfall': 0, 'Wind direction': 357}\n",
      "{'_id': ObjectId('64d13fc57ad04604582654b0'), 'Dates': '2023-06-12', 'Temperature mean': 15.5, 'Temperature max': 19.7, 'Temperature min': 10.5, 'Rain': 0, 'Snowfall': 0, 'Wind direction': 76}\n",
      "{'_id': ObjectId('64d21f1b05053950d4f4e747'), 'Dates': '2023-06-19', 'Temperature mean': 11.4, 'Temperature max': 12.9, 'Temperature min': 9.0, 'Rain': 4.6, 'Snowfall': 0.0, 'Wind direction': 249.0}\n",
      "{'_id': ObjectId('64d21f1b05053950d4f4e748'), 'Dates': '2023-06-20', 'Temperature mean': 13.2, 'Temperature max': 15.6, 'Temperature min': 10.1, 'Rain': 2.8, 'Snowfall': 0.0, 'Wind direction': 192.0}\n"
     ]
    }
   ],
   "source": [
    "# \"one and another\" filter\n",
    "# get where both the \"Temperature mean\" is greater than or equal to 10 \n",
    "# and the \"Temperature min\" is less than or equal to 11.\n",
    "query2 = {\n",
    "    \"$and\": [\n",
    "        {\"Temperature mean\": {\"$gte\": 10}},\n",
    "        {\"Temperature min\": {\"$lte\": 11}}\n",
    "    ]\n",
    "}\n",
    "result2 = collection.find(query2)\n",
    "\n",
    "for doc in result2:\n",
    "    print(doc)"
   ]
  },
  {
   "cell_type": "code",
   "execution_count": 33,
   "id": "34ee84a7",
   "metadata": {
    "collapsed": true
   },
   "outputs": [
    {
     "name": "stdout",
     "output_type": "stream",
     "text": [
      "{'_id': ObjectId('64d13fc57ad046045826540e'), 'Dates': '2023-01-01', 'Temperature mean': 11.4, 'Temperature max': 12.9, 'Temperature min': 9, 'Rain': 4.6, 'Snowfall': 0, 'Wind direction': 249}\n",
      "{'_id': ObjectId('64d13fc57ad0460458265456'), 'Dates': '2023-03-14', 'Temperature mean': 7.2, 'Temperature max': 10.4, 'Temperature min': 5.8, 'Rain': 3.3, 'Snowfall': 0, 'Wind direction': 199}\n",
      "{'_id': ObjectId('64d13fc57ad046045826545b'), 'Dates': '2023-03-19', 'Temperature mean': 6.4, 'Temperature max': 11.2, 'Temperature min': 2.5, 'Rain': 0, 'Snowfall': 0, 'Wind direction': 181}\n",
      "{'_id': ObjectId('64d13fc57ad046045826545c'), 'Dates': '2023-03-20', 'Temperature mean': 7.1, 'Temperature max': 12.4, 'Temperature min': 3, 'Rain': 0.3, 'Snowfall': 0, 'Wind direction': 189}\n",
      "{'_id': ObjectId('64d13fc57ad046045826545e'), 'Dates': '2023-03-22', 'Temperature mean': 6.5, 'Temperature max': 10.8, 'Temperature min': 1.7, 'Rain': 0, 'Snowfall': 0, 'Wind direction': 214}\n",
      "{'_id': ObjectId('64d13fc57ad046045826545f'), 'Dates': '2023-03-23', 'Temperature mean': 10.2, 'Temperature max': 15.2, 'Temperature min': 7.3, 'Rain': 3.6, 'Snowfall': 0, 'Wind direction': 218}\n",
      "{'_id': ObjectId('64d13fc57ad0460458265460'), 'Dates': '2023-03-24', 'Temperature mean': 10.2, 'Temperature max': 13.4, 'Temperature min': 7.5, 'Rain': 4.4, 'Snowfall': 0, 'Wind direction': 227}\n",
      "{'_id': ObjectId('64d13fc57ad0460458265461'), 'Dates': '2023-03-25', 'Temperature mean': 9.8, 'Temperature max': 13.5, 'Temperature min': 5.6, 'Rain': 1.5, 'Snowfall': 0, 'Wind direction': 239}\n",
      "{'_id': ObjectId('64d13fc57ad046045826546d'), 'Dates': '2023-04-06', 'Temperature mean': 6.3, 'Temperature max': 12.8, 'Temperature min': 0.4, 'Rain': 0.5, 'Snowfall': 0, 'Wind direction': 40}\n",
      "{'_id': ObjectId('64d13fc57ad046045826546e'), 'Dates': '2023-04-07', 'Temperature mean': 9.5, 'Temperature max': 14.6, 'Temperature min': 4.8, 'Rain': 1.3, 'Snowfall': 0, 'Wind direction': 83}\n",
      "{'_id': ObjectId('64d13fc57ad046045826546f'), 'Dates': '2023-04-08', 'Temperature mean': 10, 'Temperature max': 14.1, 'Temperature min': 6.9, 'Rain': 5.2, 'Snowfall': 0, 'Wind direction': 28}\n",
      "{'_id': ObjectId('64d13fc57ad0460458265470'), 'Dates': '2023-04-09', 'Temperature mean': 9.1, 'Temperature max': 15.4, 'Temperature min': 2.3, 'Rain': 5.3, 'Snowfall': 0, 'Wind direction': 104}\n",
      "{'_id': ObjectId('64d13fc57ad0460458265471'), 'Dates': '2023-04-10', 'Temperature mean': 10, 'Temperature max': 16.6, 'Temperature min': 2.2, 'Rain': 0.2, 'Snowfall': 0, 'Wind direction': 89}\n",
      "{'_id': ObjectId('64d13fc57ad0460458265472'), 'Dates': '2023-04-11', 'Temperature mean': 10.4, 'Temperature max': 15.5, 'Temperature min': 4.7, 'Rain': 0.1, 'Snowfall': 0, 'Wind direction': 151}\n",
      "{'_id': ObjectId('64d13fc57ad0460458265473'), 'Dates': '2023-04-12', 'Temperature mean': 11.1, 'Temperature max': 16.2, 'Temperature min': 6.2, 'Rain': 1, 'Snowfall': 0, 'Wind direction': 105}\n",
      "{'_id': ObjectId('64d13fc57ad0460458265474'), 'Dates': '2023-04-13', 'Temperature mean': 9.8, 'Temperature max': 12.6, 'Temperature min': 7.6, 'Rain': 2.7, 'Snowfall': 0, 'Wind direction': 86}\n",
      "{'_id': ObjectId('64d13fc57ad0460458265475'), 'Dates': '2023-04-14', 'Temperature mean': 9.9, 'Temperature max': 12.9, 'Temperature min': 8.3, 'Rain': 0.9, 'Snowfall': 0, 'Wind direction': 98}\n",
      "{'_id': ObjectId('64d13fc57ad0460458265476'), 'Dates': '2023-04-15', 'Temperature mean': 8.3, 'Temperature max': 10.7, 'Temperature min': 6, 'Rain': 0.5, 'Snowfall': 0, 'Wind direction': 105}\n",
      "{'_id': ObjectId('64d13fc57ad0460458265478'), 'Dates': '2023-04-17', 'Temperature mean': 9.4, 'Temperature max': 13, 'Temperature min': 6.6, 'Rain': 1.3, 'Snowfall': 0, 'Wind direction': 116}\n",
      "{'_id': ObjectId('64d13fc57ad0460458265479'), 'Dates': '2023-04-18', 'Temperature mean': 9.2, 'Temperature max': 12.6, 'Temperature min': 5.6, 'Rain': 1.5, 'Snowfall': 0, 'Wind direction': 48}\n",
      "{'_id': ObjectId('64d13fc57ad046045826547a'), 'Dates': '2023-04-19', 'Temperature mean': 10.8, 'Temperature max': 15.7, 'Temperature min': 6, 'Rain': 2.5, 'Snowfall': 0, 'Wind direction': 57}\n",
      "{'_id': ObjectId('64d13fc57ad046045826547b'), 'Dates': '2023-04-20', 'Temperature mean': 11.5, 'Temperature max': 16.3, 'Temperature min': 6.8, 'Rain': 0, 'Snowfall': 0, 'Wind direction': 49}\n",
      "{'_id': ObjectId('64d13fc57ad046045826547c'), 'Dates': '2023-04-21', 'Temperature mean': 11, 'Temperature max': 15.9, 'Temperature min': 5.1, 'Rain': 0, 'Snowfall': 0, 'Wind direction': 13}\n",
      "{'_id': ObjectId('64d13fc57ad046045826547d'), 'Dates': '2023-04-22', 'Temperature mean': 11.8, 'Temperature max': 16.2, 'Temperature min': 6.1, 'Rain': 0, 'Snowfall': 0, 'Wind direction': 305}\n",
      "{'_id': ObjectId('64d13fc57ad046045826547e'), 'Dates': '2023-04-23', 'Temperature mean': 13.3, 'Temperature max': 18.3, 'Temperature min': 8, 'Rain': 0, 'Snowfall': 0, 'Wind direction': 187}\n",
      "{'_id': ObjectId('64d13fc57ad046045826547f'), 'Dates': '2023-04-24', 'Temperature mean': 13.9, 'Temperature max': 18.9, 'Temperature min': 8.8, 'Rain': 0, 'Snowfall': 0, 'Wind direction': 164}\n",
      "{'_id': ObjectId('64d13fc57ad0460458265480'), 'Dates': '2023-04-25', 'Temperature mean': 13.1, 'Temperature max': 17.3, 'Temperature min': 8.7, 'Rain': 0.7, 'Snowfall': 0, 'Wind direction': 152}\n",
      "{'_id': ObjectId('64d13fc57ad0460458265482'), 'Dates': '2023-04-27', 'Temperature mean': 6.6, 'Temperature max': 10.2, 'Temperature min': 3.2, 'Rain': 0.5, 'Snowfall': 0, 'Wind direction': 290}\n",
      "{'_id': ObjectId('64d13fc57ad0460458265483'), 'Dates': '2023-04-28', 'Temperature mean': 6, 'Temperature max': 10.6, 'Temperature min': 0.1, 'Rain': 0.6, 'Snowfall': 0, 'Wind direction': 267}\n",
      "{'_id': ObjectId('64d13fc57ad0460458265484'), 'Dates': '2023-04-29', 'Temperature mean': 7.8, 'Temperature max': 14.2, 'Temperature min': -0.4, 'Rain': 0, 'Snowfall': 0, 'Wind direction': 181}\n",
      "{'_id': ObjectId('64d13fc57ad0460458265485'), 'Dates': '2023-04-30', 'Temperature mean': 9, 'Temperature max': 12.7, 'Temperature min': 6, 'Rain': 3.2, 'Snowfall': 0, 'Wind direction': 259}\n",
      "{'_id': ObjectId('64d13fc57ad0460458265486'), 'Dates': '2023-05-01', 'Temperature mean': 7.8, 'Temperature max': 12.5, 'Temperature min': 1.7, 'Rain': 0, 'Snowfall': 0, 'Wind direction': 261}\n",
      "{'_id': ObjectId('64d13fc57ad0460458265487'), 'Dates': '2023-05-02', 'Temperature mean': 10.7, 'Temperature max': 16.6, 'Temperature min': 6.5, 'Rain': 1.8, 'Snowfall': 0, 'Wind direction': 205}\n",
      "{'_id': ObjectId('64d13fc57ad0460458265488'), 'Dates': '2023-05-03', 'Temperature mean': 7.6, 'Temperature max': 11.6, 'Temperature min': 2.9, 'Rain': 0.1, 'Snowfall': 0, 'Wind direction': 318}\n",
      "{'_id': ObjectId('64d13fc57ad0460458265489'), 'Dates': '2023-05-04', 'Temperature mean': 7.6, 'Temperature max': 12.3, 'Temperature min': 2.6, 'Rain': 0.3, 'Snowfall': 0, 'Wind direction': 323}\n",
      "{'_id': ObjectId('64d13fc57ad046045826548c'), 'Dates': '2023-05-07', 'Temperature mean': 6.8, 'Temperature max': 11.1, 'Temperature min': 1.6, 'Rain': 0, 'Snowfall': 0, 'Wind direction': 83}\n",
      "{'_id': ObjectId('64d13fc57ad046045826548d'), 'Dates': '2023-05-08', 'Temperature mean': 8.3, 'Temperature max': 13.2, 'Temperature min': 1.3, 'Rain': 0, 'Snowfall': 0, 'Wind direction': 88}\n",
      "{'_id': ObjectId('64d13fc57ad046045826548e'), 'Dates': '2023-05-09', 'Temperature mean': 10.1, 'Temperature max': 15.7, 'Temperature min': 2.1, 'Rain': 0, 'Snowfall': 0, 'Wind direction': 143}\n",
      "{'_id': ObjectId('64d13fc57ad046045826548f'), 'Dates': '2023-05-10', 'Temperature mean': 10.9, 'Temperature max': 16.2, 'Temperature min': 3, 'Rain': 0, 'Snowfall': 0, 'Wind direction': 138}\n",
      "{'_id': ObjectId('64d13fc57ad0460458265490'), 'Dates': '2023-05-11', 'Temperature mean': 11.9, 'Temperature max': 17.4, 'Temperature min': 3.5, 'Rain': 0, 'Snowfall': 0, 'Wind direction': 139}\n",
      "{'_id': ObjectId('64d13fc57ad0460458265491'), 'Dates': '2023-05-12', 'Temperature mean': 15.1, 'Temperature max': 19.7, 'Temperature min': 7.6, 'Rain': 0, 'Snowfall': 0, 'Wind direction': 28}\n",
      "{'_id': ObjectId('64d13fc57ad0460458265492'), 'Dates': '2023-05-13', 'Temperature mean': 16.2, 'Temperature max': 21.1, 'Temperature min': 10.8, 'Rain': 0, 'Snowfall': 0, 'Wind direction': 66}\n",
      "{'_id': ObjectId('64d13fc57ad0460458265493'), 'Dates': '2023-05-14', 'Temperature mean': 17.1, 'Temperature max': 22.3, 'Temperature min': 10.5, 'Rain': 0, 'Snowfall': 0, 'Wind direction': 80}\n",
      "{'_id': ObjectId('64d13fc57ad0460458265494'), 'Dates': '2023-05-15', 'Temperature mean': 18, 'Temperature max': 23.1, 'Temperature min': 11.2, 'Rain': 0, 'Snowfall': 0, 'Wind direction': 126}\n",
      "{'_id': ObjectId('64d13fc57ad0460458265497'), 'Dates': '2023-05-18', 'Temperature mean': 10.5, 'Temperature max': 14.3, 'Temperature min': 7.5, 'Rain': 0.2, 'Snowfall': 0, 'Wind direction': 359}\n",
      "{'_id': ObjectId('64d13fc57ad0460458265498'), 'Dates': '2023-05-19', 'Temperature mean': 13.4, 'Temperature max': 17.4, 'Temperature min': 9.7, 'Rain': 0, 'Snowfall': 0, 'Wind direction': 35}\n",
      "{'_id': ObjectId('64d13fc57ad0460458265499'), 'Dates': '2023-05-20', 'Temperature mean': 14.8, 'Temperature max': 19.2, 'Temperature min': 9.5, 'Rain': 0, 'Snowfall': 0, 'Wind direction': 72}\n",
      "{'_id': ObjectId('64d13fc57ad046045826549a'), 'Dates': '2023-05-21', 'Temperature mean': 15, 'Temperature max': 20.1, 'Temperature min': 7.3, 'Rain': 0, 'Snowfall': 0, 'Wind direction': 61}\n",
      "{'_id': ObjectId('64d13fc57ad046045826549b'), 'Dates': '2023-05-22', 'Temperature mean': 15.5, 'Temperature max': 19.9, 'Temperature min': 9.3, 'Rain': 0, 'Snowfall': 0, 'Wind direction': 53}\n",
      "{'_id': ObjectId('64d13fc57ad046045826549c'), 'Dates': '2023-05-23', 'Temperature mean': 16.7, 'Temperature max': 21.1, 'Temperature min': 9.8, 'Rain': 0, 'Snowfall': 0, 'Wind direction': 122}\n",
      "{'_id': ObjectId('64d13fc57ad046045826549d'), 'Dates': '2023-05-24', 'Temperature mean': 18.4, 'Temperature max': 23.1, 'Temperature min': 12.4, 'Rain': 0, 'Snowfall': 0, 'Wind direction': 55}\n",
      "{'_id': ObjectId('64d13fc57ad046045826549e'), 'Dates': '2023-05-25', 'Temperature mean': 19.7, 'Temperature max': 23.7, 'Temperature min': 15.3, 'Rain': 0, 'Snowfall': 0, 'Wind direction': 295}\n",
      "{'_id': ObjectId('64d13fc57ad046045826549f'), 'Dates': '2023-05-26', 'Temperature mean': 16.1, 'Temperature max': 20, 'Temperature min': 12, 'Rain': 0, 'Snowfall': 0, 'Wind direction': 301}\n",
      "{'_id': ObjectId('64d13fc57ad04604582654a0'), 'Dates': '2023-05-27', 'Temperature mean': 12.8, 'Temperature max': 16.3, 'Temperature min': 9.1, 'Rain': 0, 'Snowfall': 0, 'Wind direction': 0}\n",
      "{'_id': ObjectId('64d13fc57ad04604582654a1'), 'Dates': '2023-05-28', 'Temperature mean': 13.6, 'Temperature max': 18.4, 'Temperature min': 7, 'Rain': 0, 'Snowfall': 0, 'Wind direction': 357}\n",
      "{'_id': ObjectId('64d13fc57ad04604582654a2'), 'Dates': '2023-05-29', 'Temperature mean': 15.6, 'Temperature max': 20.3, 'Temperature min': 7.4, 'Rain': 0, 'Snowfall': 0, 'Wind direction': 242}\n",
      "{'_id': ObjectId('64d13fc57ad04604582654a3'), 'Dates': '2023-05-30', 'Temperature mean': 15.7, 'Temperature max': 19.6, 'Temperature min': 11.4, 'Rain': 0, 'Snowfall': 0, 'Wind direction': 330}\n",
      "{'_id': ObjectId('64d13fc57ad04604582654a4'), 'Dates': '2023-05-31', 'Temperature mean': 14.7, 'Temperature max': 19.9, 'Temperature min': 8.2, 'Rain': 0, 'Snowfall': 0, 'Wind direction': 287}\n",
      "{'_id': ObjectId('64d13fc57ad04604582654a5'), 'Dates': '2023-06-01', 'Temperature mean': 15.9, 'Temperature max': 19.7, 'Temperature min': 10.7, 'Rain': 0, 'Snowfall': 0, 'Wind direction': 338}\n",
      "{'_id': ObjectId('64d13fc57ad04604582654a6'), 'Dates': '2023-06-02', 'Temperature mean': 10.8, 'Temperature max': 14.5, 'Temperature min': 7.9, 'Rain': 1.6, 'Snowfall': 0, 'Wind direction': 7}\n",
      "{'_id': ObjectId('64d13fc57ad04604582654a7'), 'Dates': '2023-06-03', 'Temperature mean': 10.2, 'Temperature max': 13.7, 'Temperature min': 5.7, 'Rain': 0, 'Snowfall': 0, 'Wind direction': 309}\n",
      "{'_id': ObjectId('64d13fc57ad04604582654a8'), 'Dates': '2023-06-04', 'Temperature mean': 13, 'Temperature max': 17.8, 'Temperature min': 6.6, 'Rain': 0, 'Snowfall': 0, 'Wind direction': 258}\n",
      "{'_id': ObjectId('64d13fc57ad04604582654a9'), 'Dates': '2023-06-05', 'Temperature mean': 13.6, 'Temperature max': 17.8, 'Temperature min': 7.9, 'Rain': 0, 'Snowfall': 0, 'Wind direction': 326}\n",
      "{'_id': ObjectId('64d13fc57ad04604582654aa'), 'Dates': '2023-06-06', 'Temperature mean': 15.9, 'Temperature max': 21.9, 'Temperature min': 7.1, 'Rain': 0, 'Snowfall': 0, 'Wind direction': 125}\n",
      "{'_id': ObjectId('64d13fc57ad04604582654ab'), 'Dates': '2023-06-07', 'Temperature mean': 18.8, 'Temperature max': 24.8, 'Temperature min': 9.9, 'Rain': 0, 'Snowfall': 0, 'Wind direction': 357}\n",
      "{'_id': ObjectId('64d13fc57ad04604582654ac'), 'Dates': '2023-06-08', 'Temperature mean': 20.4, 'Temperature max': 26, 'Temperature min': 11.5, 'Rain': 0, 'Snowfall': 0, 'Wind direction': 189}\n",
      "{'_id': ObjectId('64d13fc57ad04604582654ad'), 'Dates': '2023-06-09', 'Temperature mean': 20.2, 'Temperature max': 24.9, 'Temperature min': 15.7, 'Rain': 0.5, 'Snowfall': 0, 'Wind direction': 9}\n",
      "{'_id': ObjectId('64d13fc57ad04604582654ae'), 'Dates': '2023-06-10', 'Temperature mean': 16.6, 'Temperature max': 19.9, 'Temperature min': 13.2, 'Rain': 0, 'Snowfall': 0, 'Wind direction': 57}\n",
      "{'_id': ObjectId('64d13fc57ad04604582654af'), 'Dates': '2023-06-11', 'Temperature mean': 16, 'Temperature max': 20.2, 'Temperature min': 11.3, 'Rain': 0, 'Snowfall': 0, 'Wind direction': 69}\n",
      "{'_id': ObjectId('64d13fc57ad04604582654b0'), 'Dates': '2023-06-12', 'Temperature mean': 15.5, 'Temperature max': 19.7, 'Temperature min': 10.5, 'Rain': 0, 'Snowfall': 0, 'Wind direction': 76}\n",
      "{'_id': ObjectId('64d13fc57ad04604582654b1'), 'Dates': '2023-06-13', 'Temperature mean': 17.7, 'Temperature max': 22.3, 'Temperature min': 12.5, 'Rain': 0, 'Snowfall': 0, 'Wind direction': 69}\n",
      "{'_id': ObjectId('64d13fc57ad04604582654b2'), 'Dates': '2023-06-14', 'Temperature mean': 18.3, 'Temperature max': 22.1, 'Temperature min': 12.4, 'Rain': 1, 'Snowfall': 0, 'Wind direction': 69}\n",
      "{'_id': ObjectId('64d13fc57ad04604582654b3'), 'Dates': '2023-06-15', 'Temperature mean': 21.5, 'Temperature max': 26.4, 'Temperature min': 17.2, 'Rain': 0, 'Snowfall': 0, 'Wind direction': 94}\n",
      "{'_id': ObjectId('64d13fc57ad04604582654b4'), 'Dates': '2023-06-16', 'Temperature mean': 20.9, 'Temperature max': 25.6, 'Temperature min': 15.3, 'Rain': 1, 'Snowfall': 0, 'Wind direction': 60}\n",
      "{'_id': ObjectId('64d13fc57ad04604582654b5'), 'Dates': '2023-06-17', 'Temperature mean': 21.4, 'Temperature max': 26.2, 'Temperature min': 17.8, 'Rain': 2.2, 'Snowfall': 0, 'Wind direction': 99}\n",
      "{'_id': ObjectId('64d21f1b05053950d4f4e747'), 'Dates': '2023-06-19', 'Temperature mean': 11.4, 'Temperature max': 12.9, 'Temperature min': 9.0, 'Rain': 4.6, 'Snowfall': 0.0, 'Wind direction': 249.0}\n",
      "{'_id': ObjectId('64d21f1b05053950d4f4e748'), 'Dates': '2023-06-20', 'Temperature mean': 13.2, 'Temperature max': 15.6, 'Temperature min': 10.1, 'Rain': 2.8, 'Snowfall': 0.0, 'Wind direction': 192.0}\n"
     ]
    }
   ],
   "source": [
    "#  combination of \"and\", \"or\" filters\n",
    "# where the \"Temperature max\" is greater than or equal to 10, \n",
    "# and either the \"Rain\" is greater than or equal to 3 or the \"Snowfall\" is equal to 0, \n",
    "# and the \"Rain\" is less than 6.\n",
    "query3 = {\n",
    "    \"$and\": [\n",
    "        {\"Temperature max\": {\"$gte\": 10}},\n",
    "        {\"$or\": [\n",
    "            {\"Rain\": {\"$gte\": 3}},\n",
    "            {\"Snowfall\": {\"$eq\": 0}}\n",
    "        ]},\n",
    "        {\"Rain\": {\"$lt\": 6}}\n",
    "    ]\n",
    "}\n",
    "result3 = collection.find(query3)\n",
    "\n",
    "for doc in result3:\n",
    "    print(doc)\n"
   ]
  },
  {
   "cell_type": "markdown",
   "id": "3c717daa",
   "metadata": {},
   "source": [
    "TASK\n",
    "\n",
    "6)Perform at least 3 update operations"
   ]
  },
  {
   "cell_type": "code",
   "execution_count": 39,
   "id": "8487713b",
   "metadata": {},
   "outputs": [
    {
     "name": "stdout",
     "output_type": "stream",
     "text": [
      "Modified 1 document(s)\n"
     ]
    }
   ],
   "source": [
    "# Update a single document\n",
    "# updates a single document with a specific \"Dates\" value, \n",
    "# modifying the \"Temperature max\" and \"Rain\" fields using the $set operator.\n",
    "query1 = {\"Dates\": \"2023-01-01\"}\n",
    "update1 = {\n",
    "    \"$set\": {\n",
    "        \"Temperature max\": 13.4,\n",
    "        \"Rain\": 5.0\n",
    "    }\n",
    "}\n",
    "result1 = collection.update_one(query1, update1)\n",
    "print(\"Modified\", result1.modified_count, \"document(s)\")"
   ]
  },
  {
   "cell_type": "code",
   "execution_count": 40,
   "id": "844821cf",
   "metadata": {},
   "outputs": [
    {
     "name": "stdout",
     "output_type": "stream",
     "text": [
      "Modified 16 document(s)\n"
     ]
    }
   ],
   "source": [
    "# Update multiple documents\n",
    "# updates multiple documents where the \"Rain\" is greater than or equal to 5, \n",
    "# setting the \"Snowfall\" field to 1.3 for each document.\n",
    "query2 = {\"Rain\": {\"$gte\": 5}}\n",
    "update2 = {\n",
    "    \"$set\": {\n",
    "        \"Snowfall\": 1.3\n",
    "    }\n",
    "}\n",
    "result2 = collection.update_many(query2, update2)\n",
    "print(\"Modified\", result2.modified_count, \"document(s)\")"
   ]
  },
  {
   "cell_type": "code",
   "execution_count": 42,
   "id": "24193367",
   "metadata": {},
   "outputs": [
    {
     "name": "stdout",
     "output_type": "stream",
     "text": [
      "Modified 1 document(s)\n"
     ]
    }
   ],
   "source": [
    "# Replace a document\n",
    "# replaces a document where the \"Temperature mean\" is less than 10 with a new document\n",
    "query3 = {\"Temperature mean\": {\"$lt\": 10}}\n",
    "replacement3 = {\n",
    "    \"Dates\": \"2023-07-04\",\n",
    "    \"Temperature mean\": 9.7,\n",
    "    \"Temperature max\": 11.2,\n",
    "    \"Temperature min\": 7.3,\n",
    "    \"Rain\": 3.8,\n",
    "    \"Snowfall\": 0.1,\n",
    "    \"Wind direction\": 265.0\n",
    "}\n",
    "result3 = collection.replace_one(query3, replacement3)\n",
    "print(\"Modified\", result3.modified_count, \"document(s)\")"
   ]
  },
  {
   "cell_type": "code",
   "execution_count": 43,
   "id": "2e436cc3",
   "metadata": {},
   "outputs": [],
   "source": [
    "client.close()"
   ]
  },
  {
   "cell_type": "code",
   "execution_count": null,
   "id": "d57ceeef",
   "metadata": {},
   "outputs": [],
   "source": []
  }
 ],
 "metadata": {
  "hide_input": false,
  "kernelspec": {
   "display_name": "Python 3 (ipykernel)",
   "language": "python",
   "name": "python3"
  },
  "language_info": {
   "codemirror_mode": {
    "name": "ipython",
    "version": 3
   },
   "file_extension": ".py",
   "mimetype": "text/x-python",
   "name": "python",
   "nbconvert_exporter": "python",
   "pygments_lexer": "ipython3",
   "version": "3.10.4"
  }
 },
 "nbformat": 4,
 "nbformat_minor": 5
}
