{
 "cells": [
  {
   "cell_type": "markdown",
   "id": "55f75f62",
   "metadata": {},
   "source": [
    "#### 1) Map and Filter:"
   ]
  },
  {
   "cell_type": "code",
   "execution_count": 151,
   "id": "7392f09d",
   "metadata": {},
   "outputs": [
    {
     "data": {
      "text/plain": [
       "[9, 36, 49]"
      ]
     },
     "execution_count": 151,
     "metadata": {},
     "output_type": "execute_result"
    }
   ],
   "source": [
    "# Use map to double each element in a list of numbers.\n",
    "numb_list = [3,6,7]\n",
    "sq_numbs = list(map(lambda x:x ** 2,numb_list))\n",
    "sq_numbs"
   ]
  },
  {
   "cell_type": "code",
   "execution_count": 152,
   "id": "7ac728de",
   "metadata": {},
   "outputs": [
    {
     "data": {
      "text/plain": [
       "[3, 7]"
      ]
     },
     "execution_count": 152,
     "metadata": {},
     "output_type": "execute_result"
    }
   ],
   "source": [
    "# Use filter to select only the odd numbers from a list of integers.\n",
    "odd_numbs = list(filter(lambda element: element % 2 != 0 ,numb_list))\n",
    "odd_numbs"
   ]
  },
  {
   "cell_type": "markdown",
   "id": "b736c0f7",
   "metadata": {},
   "source": [
    "#### 2) Pandas:"
   ]
  },
  {
   "cell_type": "code",
   "execution_count": 153,
   "id": "2518be30",
   "metadata": {},
   "outputs": [],
   "source": [
    "# Read a CSV file into a pandas DataFrame and display the first few rows.\n",
    "import pandas as pd"
   ]
  },
  {
   "cell_type": "code",
   "execution_count": 154,
   "id": "12574014",
   "metadata": {},
   "outputs": [
    {
     "data": {
      "text/html": [
       "<div>\n",
       "<style scoped>\n",
       "    .dataframe tbody tr th:only-of-type {\n",
       "        vertical-align: middle;\n",
       "    }\n",
       "\n",
       "    .dataframe tbody tr th {\n",
       "        vertical-align: top;\n",
       "    }\n",
       "\n",
       "    .dataframe thead th {\n",
       "        text-align: right;\n",
       "    }\n",
       "</style>\n",
       "<table border=\"1\" class=\"dataframe\">\n",
       "  <thead>\n",
       "    <tr style=\"text-align: right;\">\n",
       "      <th></th>\n",
       "      <th>Category</th>\n",
       "      <th>Region</th>\n",
       "      <th>Target 2020 Qty</th>\n",
       "      <th>Target 2025 Qty</th>\n",
       "      <th>Target 2030 Qty</th>\n",
       "    </tr>\n",
       "  </thead>\n",
       "  <tbody>\n",
       "    <tr>\n",
       "      <th>0</th>\n",
       "      <td>Office Supplies</td>\n",
       "      <td>North</td>\n",
       "      <td>86996</td>\n",
       "      <td>34120</td>\n",
       "      <td>80677</td>\n",
       "    </tr>\n",
       "    <tr>\n",
       "      <th>1</th>\n",
       "      <td>Technology</td>\n",
       "      <td>North</td>\n",
       "      <td>71392</td>\n",
       "      <td>52291</td>\n",
       "      <td>25565</td>\n",
       "    </tr>\n",
       "    <tr>\n",
       "      <th>2</th>\n",
       "      <td>Office Supplies</td>\n",
       "      <td>Central</td>\n",
       "      <td>39977</td>\n",
       "      <td>98748</td>\n",
       "      <td>57307</td>\n",
       "    </tr>\n",
       "  </tbody>\n",
       "</table>\n",
       "</div>"
      ],
      "text/plain": [
       "          Category   Region  Target 2020 Qty  Target 2025 Qty  Target 2030 Qty\n",
       "0  Office Supplies    North            86996            34120            80677\n",
       "1       Technology    North            71392            52291            25565\n",
       "2  Office Supplies  Central            39977            98748            57307"
      ]
     },
     "execution_count": 154,
     "metadata": {},
     "output_type": "execute_result"
    }
   ],
   "source": [
    "df = pd.read_csv('Superstore.csv')\n",
    "df.head(3)"
   ]
  },
  {
   "cell_type": "code",
   "execution_count": 155,
   "id": "8e8a46a4",
   "metadata": {},
   "outputs": [
    {
     "data": {
      "text/plain": [
       "Region\n",
       "Central    140476\n",
       "North      223686\n",
       "South      152982\n",
       "Name: Target 2020 Qty, dtype: int64"
      ]
     },
     "execution_count": 155,
     "metadata": {},
     "output_type": "execute_result"
    }
   ],
   "source": [
    "# Group a DataFrame by a specific column and calculate the average of another column.\n",
    "df.groupby(by=\"Region\")[\"Target 2020 Qty\"].sum()"
   ]
  },
  {
   "cell_type": "code",
   "execution_count": 156,
   "id": "9e830227",
   "metadata": {},
   "outputs": [
    {
     "data": {
      "text/html": [
       "<div>\n",
       "<style scoped>\n",
       "    .dataframe tbody tr th:only-of-type {\n",
       "        vertical-align: middle;\n",
       "    }\n",
       "\n",
       "    .dataframe tbody tr th {\n",
       "        vertical-align: top;\n",
       "    }\n",
       "\n",
       "    .dataframe thead th {\n",
       "        text-align: right;\n",
       "    }\n",
       "</style>\n",
       "<table border=\"1\" class=\"dataframe\">\n",
       "  <thead>\n",
       "    <tr style=\"text-align: right;\">\n",
       "      <th></th>\n",
       "      <th>Category_x</th>\n",
       "      <th>Region</th>\n",
       "      <th>Target 2020 Qty_x</th>\n",
       "      <th>Target 2025 Qty_x</th>\n",
       "      <th>Target 2030 Qty_x</th>\n",
       "      <th>Category_y</th>\n",
       "      <th>Target 2020 Qty_y</th>\n",
       "      <th>Target 2025 Qty_y</th>\n",
       "      <th>Target 2030 Qty_y</th>\n",
       "    </tr>\n",
       "  </thead>\n",
       "  <tbody>\n",
       "    <tr>\n",
       "      <th>0</th>\n",
       "      <td>Office Supplies</td>\n",
       "      <td>North</td>\n",
       "      <td>86996</td>\n",
       "      <td>34120</td>\n",
       "      <td>80677</td>\n",
       "      <td>Office Supplies</td>\n",
       "      <td>86996</td>\n",
       "      <td>34120</td>\n",
       "      <td>80677</td>\n",
       "    </tr>\n",
       "    <tr>\n",
       "      <th>1</th>\n",
       "      <td>Office Supplies</td>\n",
       "      <td>North</td>\n",
       "      <td>86996</td>\n",
       "      <td>34120</td>\n",
       "      <td>80677</td>\n",
       "      <td>Technology</td>\n",
       "      <td>71392</td>\n",
       "      <td>52291</td>\n",
       "      <td>25565</td>\n",
       "    </tr>\n",
       "    <tr>\n",
       "      <th>2</th>\n",
       "      <td>Office Supplies</td>\n",
       "      <td>North</td>\n",
       "      <td>86996</td>\n",
       "      <td>34120</td>\n",
       "      <td>80677</td>\n",
       "      <td>Furniture</td>\n",
       "      <td>65298</td>\n",
       "      <td>11127</td>\n",
       "      <td>71559</td>\n",
       "    </tr>\n",
       "    <tr>\n",
       "      <th>3</th>\n",
       "      <td>Technology</td>\n",
       "      <td>North</td>\n",
       "      <td>71392</td>\n",
       "      <td>52291</td>\n",
       "      <td>25565</td>\n",
       "      <td>Office Supplies</td>\n",
       "      <td>86996</td>\n",
       "      <td>34120</td>\n",
       "      <td>80677</td>\n",
       "    </tr>\n",
       "    <tr>\n",
       "      <th>4</th>\n",
       "      <td>Technology</td>\n",
       "      <td>North</td>\n",
       "      <td>71392</td>\n",
       "      <td>52291</td>\n",
       "      <td>25565</td>\n",
       "      <td>Technology</td>\n",
       "      <td>71392</td>\n",
       "      <td>52291</td>\n",
       "      <td>25565</td>\n",
       "    </tr>\n",
       "  </tbody>\n",
       "</table>\n",
       "</div>"
      ],
      "text/plain": [
       "        Category_x Region  Target 2020 Qty_x  Target 2025 Qty_x  \\\n",
       "0  Office Supplies  North              86996              34120   \n",
       "1  Office Supplies  North              86996              34120   \n",
       "2  Office Supplies  North              86996              34120   \n",
       "3       Technology  North              71392              52291   \n",
       "4       Technology  North              71392              52291   \n",
       "\n",
       "   Target 2030 Qty_x       Category_y  Target 2020 Qty_y  Target 2025 Qty_y  \\\n",
       "0              80677  Office Supplies              86996              34120   \n",
       "1              80677       Technology              71392              52291   \n",
       "2              80677        Furniture              65298              11127   \n",
       "3              25565  Office Supplies              86996              34120   \n",
       "4              25565       Technology              71392              52291   \n",
       "\n",
       "   Target 2030 Qty_y  \n",
       "0              80677  \n",
       "1              25565  \n",
       "2              71559  \n",
       "3              80677  \n",
       "4              25565  "
      ]
     },
     "execution_count": 156,
     "metadata": {},
     "output_type": "execute_result"
    }
   ],
   "source": [
    "# Merge two DataFrames based on a common column.\n",
    "df2 = pd.read_csv('Superstore - Copy.csv')\n",
    "new_df = pd.merge(df, df2, on='Region', how='outer')\n",
    "new_df.head()"
   ]
  },
  {
   "cell_type": "markdown",
   "id": "231f4d83",
   "metadata": {},
   "source": [
    "#### 3) Namedtuple:"
   ]
  },
  {
   "cell_type": "code",
   "execution_count": 157,
   "id": "d7db401b",
   "metadata": {},
   "outputs": [
    {
     "data": {
      "text/plain": [
       "Person(name='Jon', age=24, city='Winterfell')"
      ]
     },
     "execution_count": 157,
     "metadata": {},
     "output_type": "execute_result"
    }
   ],
   "source": [
    "# Define a Person named tuple with fields for name, age, and city. Create instances of Person and access their attributes.\n",
    "from collections import namedtuple\n",
    "\n",
    "Person = namedtuple(\"Person\",[\"name\",\"age\",\"city\"])\n",
    "person = Person(\"Jon\",24,\"Winterfell\")\n",
    "person"
   ]
  },
  {
   "cell_type": "code",
   "execution_count": 158,
   "id": "f752b352",
   "metadata": {
    "scrolled": true
   },
   "outputs": [
    {
     "data": {
      "text/plain": [
       "'Jon'"
      ]
     },
     "execution_count": 158,
     "metadata": {},
     "output_type": "execute_result"
    }
   ],
   "source": [
    "getattr(person, 'city')\n",
    "getattr(person, 'age')\n",
    "getattr(person, 'name')"
   ]
  },
  {
   "cell_type": "markdown",
   "id": "6ca37d63",
   "metadata": {},
   "source": [
    "#### 4) Counter:"
   ]
  },
  {
   "cell_type": "code",
   "execution_count": 159,
   "id": "a9c718e1",
   "metadata": {},
   "outputs": [
    {
     "data": {
      "text/plain": [
       "[('strawberry', 5),\n",
       " ('watermelon', 4),\n",
       " ('ice cream', 3),\n",
       " ('salad', 2),\n",
       " ('honey', 1)]"
      ]
     },
     "execution_count": 159,
     "metadata": {},
     "output_type": "execute_result"
    }
   ],
   "source": [
    "# Count the frequency of each word in a given text and display the top 5 most common words.\n",
    "from collections import Counter\n",
    "\n",
    "summer_favorite = Counter(['watermelon','strawberry','ice cream', 'watermelon', 'salad', 'ice cream', 'watermelon', \n",
    "                           'strawberry', 'salad', 'strawberry', 'watermelon', 'strawberry','ice cream', 'strawberry',\n",
    "                          'honey'])\n",
    "summer_favorite.most_common(5)"
   ]
  },
  {
   "cell_type": "code",
   "execution_count": 160,
   "id": "e6ef7da5",
   "metadata": {},
   "outputs": [
    {
     "data": {
      "text/plain": [
       "Counter({'watermelon': 4,\n",
       "         'strawberry': 7,\n",
       "         'ice cream': 3,\n",
       "         'salad': 3,\n",
       "         'honey': 3})"
      ]
     },
     "execution_count": 160,
     "metadata": {},
     "output_type": "execute_result"
    }
   ],
   "source": [
    "# Merge two counters together and calculate the total count of each element.\n",
    "summer_favorite2 = Counter(['strawberry', 'honey', 'salad', 'honey', 'strawberry'])\n",
    "summer_favorite + summer_favorite2"
   ]
  },
  {
   "cell_type": "markdown",
   "id": "1bbcf397",
   "metadata": {},
   "source": [
    "#### 5) Deque:"
   ]
  },
  {
   "cell_type": "code",
   "execution_count": 161,
   "id": "fa33ca06",
   "metadata": {},
   "outputs": [
    {
     "data": {
      "text/plain": [
       "deque([5, 6, 4, 1, 2, 3, 7])"
      ]
     },
     "execution_count": 161,
     "metadata": {},
     "output_type": "execute_result"
    }
   ],
   "source": [
    "# Use a deque to implement a queue and perform enqueue and dequeue operations.\n",
    "from collections import deque\n",
    "que = deque([4,5,6])\n",
    "\n",
    "que.append(1)\n",
    "que.append(2)\n",
    "que.append(3)\n",
    "\n",
    "que.appendleft(6)\n",
    "\n",
    "que.extend([7,8])\n",
    "\n",
    "que.pop()\n",
    "\n",
    "que.popleft()\n",
    "\n",
    "que.insert(3,4)\n",
    "\n",
    "que.remove(4)\n",
    "\n",
    "que"
   ]
  },
  {
   "cell_type": "code",
   "execution_count": 162,
   "id": "8607665c",
   "metadata": {},
   "outputs": [
    {
     "data": {
      "text/plain": [
       "deque([7, 3, 2, 1, 4, 6, 5])"
      ]
     },
     "execution_count": 162,
     "metadata": {},
     "output_type": "execute_result"
    }
   ],
   "source": [
    "# Reverse the order of elements in a deque.\n",
    "que.reverse()\n",
    "\n",
    "que"
   ]
  },
  {
   "cell_type": "markdown",
   "id": "f0ad3466",
   "metadata": {},
   "source": [
    "#### 6 )Defaultdict:"
   ]
  },
  {
   "cell_type": "code",
   "execution_count": 163,
   "id": "8ecf542f",
   "metadata": {},
   "outputs": [
    {
     "data": {
      "text/plain": [
       "defaultdict(list,\n",
       "            {'s': ['strawberry', 'salad'],\n",
       "             'h': ['honey'],\n",
       "             'm': ['money', 'melon'],\n",
       "             'b': ['berry']})"
      ]
     },
     "execution_count": 163,
     "metadata": {},
     "output_type": "execute_result"
    }
   ],
   "source": [
    "# Create a defaultdict that maps a character to a list of words starting with that character.\n",
    "from collections import defaultdict\n",
    "\n",
    "words_dict = defaultdict(list)\n",
    "   \n",
    "words_list = ['strawberry', 'honey', 'salad', 'money', 'berry', 'melon']\n",
    "\n",
    "for i in words_list:\n",
    "    words_dict[i[0]].append(i)\n",
    "\n",
    "words_dict"
   ]
  },
  {
   "cell_type": "code",
   "execution_count": 164,
   "id": "4f3c2873",
   "metadata": {},
   "outputs": [
    {
     "data": {
      "text/plain": [
       "defaultdict(int, {'s': 2, 'h': 1, 'm': 2, 'b': 1})"
      ]
     },
     "execution_count": 164,
     "metadata": {},
     "output_type": "execute_result"
    }
   ],
   "source": [
    "# Calculate the sum of values for each key in a dictionary using a defaultdict.\n",
    "amount_dict = defaultdict(int)\n",
    "\n",
    "my_dict = {'s': ['strawberry', 'salad'],\n",
    "             'h': ['honey'],\n",
    "             'm': ['money', 'melon'],\n",
    "             'b': ['berry']}\n",
    "\n",
    "for k in words_dict.keys():\n",
    "    amount_dict[k] = len(my_dict[k])\n",
    "    \n",
    "amount_dict"
   ]
  },
  {
   "cell_type": "markdown",
   "id": "7bfbfc6c",
   "metadata": {},
   "source": [
    "#### 7) Reduce:"
   ]
  },
  {
   "cell_type": "code",
   "execution_count": 165,
   "id": "f1056fd4",
   "metadata": {},
   "outputs": [
    {
     "data": {
      "text/plain": [
       "87"
      ]
     },
     "execution_count": 165,
     "metadata": {},
     "output_type": "execute_result"
    }
   ],
   "source": [
    "# Use reduce to find the maximum element in a list of numbers.\n",
    "from functools import reduce\n",
    "numbs_list = [9, 77, 23, 14, 87, 66, 54, 39]\n",
    "max_numb = reduce(max, numbs_list)\n",
    "max_numb"
   ]
  },
  {
   "cell_type": "code",
   "execution_count": 166,
   "id": "6cb602ff",
   "metadata": {},
   "outputs": [
    {
     "name": "stdout",
     "output_type": "stream",
     "text": [
      "Combine a list of strings into a single string using reduce\n"
     ]
    }
   ],
   "source": [
    "# Combine a list of strings into a single string using reduce.\n",
    "strings_list = ['Combine', 'a', 'list', 'of', 'strings', 'into', 'a', 'single', 'string', 'using', 'reduce']\n",
    "print(reduce(lambda x,y:x+' '+y, strings_list))"
   ]
  }
 ],
 "metadata": {
  "hide_input": false,
  "kernelspec": {
   "display_name": "Python 3 (ipykernel)",
   "language": "python",
   "name": "python3"
  },
  "language_info": {
   "codemirror_mode": {
    "name": "ipython",
    "version": 3
   },
   "file_extension": ".py",
   "mimetype": "text/x-python",
   "name": "python",
   "nbconvert_exporter": "python",
   "pygments_lexer": "ipython3",
   "version": "3.10.4"
  }
 },
 "nbformat": 4,
 "nbformat_minor": 5
}
