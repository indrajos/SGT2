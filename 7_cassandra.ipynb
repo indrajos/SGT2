{
 "cells": [
  {
   "cell_type": "markdown",
   "id": "14088d16",
   "metadata": {
    "collapsed": true
   },
   "source": [
    "## Cassandra DB"
   ]
  },
  {
   "cell_type": "code",
   "execution_count": 166,
   "id": "db173449",
   "metadata": {},
   "outputs": [],
   "source": [
    "from cassandra.cluster import Cluster\n",
    "import uuid\n",
    "import datetime\n",
    "from decimal import Decimal "
   ]
  },
  {
   "cell_type": "code",
   "execution_count": 167,
   "id": "f1f9a9a4",
   "metadata": {},
   "outputs": [
    {
     "data": {
      "text/plain": [
       "UUID('cf33f87d-76d9-4776-b62a-262ae0bc6680')"
      ]
     },
     "execution_count": 167,
     "metadata": {},
     "output_type": "execute_result"
    }
   ],
   "source": [
    "uuid.uuid4()"
   ]
  },
  {
   "cell_type": "code",
   "execution_count": 168,
   "id": "b61b335c",
   "metadata": {},
   "outputs": [],
   "source": [
    "cluster = Cluster([\"127.0.0.1\"],port=9042)"
   ]
  },
  {
   "cell_type": "code",
   "execution_count": 169,
   "id": "fbad107a",
   "metadata": {},
   "outputs": [],
   "source": [
    "session = cluster.connect()"
   ]
  },
  {
   "cell_type": "markdown",
   "id": "228d7b53",
   "metadata": {},
   "source": [
    "### 1. Data Model Creation:\n",
    "\n",
    "Design a data model for an e-commerce platform to handle products, orders, and user information.\n",
    "\n",
    "Define appropriate column families and primary keys to ensure efficient querying."
   ]
  },
  {
   "cell_type": "code",
   "execution_count": 5,
   "id": "6b306297",
   "metadata": {},
   "outputs": [
    {
     "data": {
      "text/plain": [
       "<cassandra.cluster.ResultSet at 0x2a0c714c5b0>"
      ]
     },
     "execution_count": 5,
     "metadata": {},
     "output_type": "execute_result"
    }
   ],
   "source": [
    "create_keyspace = \"\"\"\n",
    "    CREATE KEYSPACE ecommerce\n",
    "    WITH replication = {'class': 'SimpleStrategy', 'replication_factor': 1};\n",
    "\"\"\"\n",
    "\n",
    "session.execute(create_keyspace)"
   ]
  },
  {
   "cell_type": "code",
   "execution_count": 6,
   "id": "c7412972",
   "metadata": {},
   "outputs": [
    {
     "data": {
      "text/plain": [
       "<cassandra.cluster.ResultSet at 0x2a0c714c5e0>"
      ]
     },
     "execution_count": 6,
     "metadata": {},
     "output_type": "execute_result"
    }
   ],
   "source": [
    "session.execute(\"USE ecommerce\")"
   ]
  },
  {
   "cell_type": "code",
   "execution_count": 102,
   "id": "a1e4fc9b",
   "metadata": {},
   "outputs": [
    {
     "data": {
      "text/plain": [
       "<cassandra.cluster.ResultSet at 0x2a0c7337220>"
      ]
     },
     "execution_count": 102,
     "metadata": {},
     "output_type": "execute_result"
    }
   ],
   "source": [
    "session.execute(\"\"\" \n",
    "CREATE TABLE products_orders (\n",
    "    order_id UUID PRIMARY KEY,\n",
    "    order_date timestamp,\n",
    "    product_id UUID,\n",
    "    product_name text,\n",
    "    unit_price decimal,\n",
    "    user_id UUID,\n",
    "    user_name text,\n",
    "    total decimal,\n",
    "    amount int)\n",
    "    \"\"\")"
   ]
  },
  {
   "cell_type": "markdown",
   "id": "4061d87b",
   "metadata": {},
   "source": [
    "### 2. Data Insertion and Retrieval:\n",
    "\n",
    "Insert sample data into the Cassandra database, including user information and product details."
   ]
  },
  {
   "cell_type": "code",
   "execution_count": 108,
   "id": "5dc56b1f",
   "metadata": {},
   "outputs": [],
   "source": [
    "sample_orders = [\n",
    "    {\n",
    "        'order_id': uuid.uuid4(),\n",
    "        'order_date': datetime.datetime(2023, 8, 17, 10, 0, 0),\n",
    "        'product_id': uuid.uuid4(),\n",
    "        'product_name': 'Laptop',\n",
    "        'unit_price': Decimal('999.99'),\n",
    "        'user_id': uuid.uuid4(),\n",
    "        'user_name': 'John Doe',\n",
    "        'total': Decimal('1499.98'),\n",
    "        'amount': 2\n",
    "    },\n",
    "    {\n",
    "        'order_id': uuid.uuid4(),\n",
    "        'order_date': datetime.datetime(2023, 8, 18, 15, 30, 0),\n",
    "        'product_id': uuid.uuid4(),\n",
    "        'product_name': 'T-Shirt',\n",
    "        'unit_price': Decimal('19.99'),\n",
    "        'user_id': uuid.uuid4(),\n",
    "        'user_name': 'Jane Smith',\n",
    "        'total': Decimal('39.98'),\n",
    "        'amount': 2\n",
    "    },\n",
    "    {\n",
    "        'order_id': uuid.uuid4(),\n",
    "        'order_date': datetime.datetime(2023, 8, 19, 12, 0, 0),\n",
    "        'product_id': uuid.uuid4(),\n",
    "        'product_name': 'Book',\n",
    "        'unit_price': Decimal('14.99'),\n",
    "        'user_id': uuid.uuid4(),\n",
    "        'user_name': 'Alice Johnson',\n",
    "        'total': Decimal('29.98'),\n",
    "        'amount': 2\n",
    "    },\n",
    "    {\n",
    "        'order_id': uuid.uuid4(),\n",
    "        'order_date': datetime.datetime(2023, 8, 20, 9, 0, 0),\n",
    "        'product_id': uuid.uuid4(),\n",
    "        'product_name': 'Smartphone',\n",
    "        'unit_price': Decimal('699.99'),\n",
    "        'user_id': uuid.uuid4(),\n",
    "        'user_name': 'Bob Williams',\n",
    "        'total': Decimal('1399.98'),\n",
    "        'amount': 2\n",
    "    },\n",
    "    {\n",
    "        'order_id': uuid.uuid4(),\n",
    "        'order_date': datetime.datetime(2023, 8, 21, 14, 0, 0),\n",
    "        'product_id': uuid.uuid4(),\n",
    "        'product_name': 'Shoes',\n",
    "        'unit_price': Decimal('59.99'),\n",
    "        'user_id': uuid.uuid4(),\n",
    "        'user_name': 'Eve Davis',\n",
    "        'total': Decimal('119.98'),\n",
    "        'amount': 2\n",
    "    }\n",
    "]"
   ]
  },
  {
   "cell_type": "code",
   "execution_count": 109,
   "id": "bb0d37a0",
   "metadata": {},
   "outputs": [],
   "source": [
    "insert_query = \"\"\"\n",
    "    INSERT INTO products_orders (\n",
    "        order_id, order_date, product_id, product_name,\n",
    "        unit_price, user_id, user_name, total, amount\n",
    "    )\n",
    "    VALUES (?, ?, ?, ?, ?, ?, ?, ?, ?)\n",
    "\"\"\""
   ]
  },
  {
   "cell_type": "code",
   "execution_count": 110,
   "id": "37ab9935",
   "metadata": {},
   "outputs": [],
   "source": [
    "orders_stmt = session.prepare(insert_query)"
   ]
  },
  {
   "cell_type": "code",
   "execution_count": 111,
   "id": "28654cab",
   "metadata": {},
   "outputs": [],
   "source": [
    "for order in sample_orders:\n",
    "    session.execute(\n",
    "        orders_stmt,\n",
    "        (\n",
    "            order['order_id'], order['order_date'], order['product_id'], order['product_name'],\n",
    "            order['unit_price'], order['user_id'], order['user_name'], order['total'], order['amount']\n",
    "        ))"
   ]
  },
  {
   "cell_type": "code",
   "execution_count": 112,
   "id": "c724c396",
   "metadata": {},
   "outputs": [
    {
     "name": "stdout",
     "output_type": "stream",
     "text": [
      "10b047ba-5319-46a8-b479-f0b54db00744 2023-08-19 12:00:00 0996f9cd-a479-4689-a852-df5cdb02148c Book 14.99 3f8fb574-381f-4858-9a6b-41f830b177b4 Alice Johnson 29.98 2\n",
      "94a7216f-687e-4608-9e49-bc348ffa1bbe 2023-08-17 10:00:00 86b6fb06-9295-4ca4-8077-9c38a23da3b3 Laptop 999.99 b9f1bdc4-2578-4fc6-bdd1-0478616d5eba John Doe 1499.98 2\n",
      "bed13552-7793-4462-8039-7899e8628f77 2023-08-20 09:00:00 02c47bde-b4f6-42f1-a3b6-9a5d53d7c5d3 Smartphone 699.99 7eaa35ca-976b-4cc7-982f-5096486682aa Bob Williams 1399.98 2\n",
      "9eb5d7b5-4dba-4a8f-859c-8c25a9351096 2023-08-21 14:00:00 7e591a10-8848-45d9-a641-b1a03ac5d062 Shoes 59.99 00e235ff-10c6-4b86-97be-e402d6cd467c Eve Davis 119.98 2\n",
      "d0cf8cc0-ab81-4892-a15f-c9414b121ef5 2023-08-18 15:30:00 88ff1188-e4f1-4d8c-8977-f718692a214b T-Shirt 19.99 65a97b0d-c7a1-4631-b0a0-3a8252d535a4 Jane Smith 39.98 2\n"
     ]
    }
   ],
   "source": [
    "result = session.execute(\"\"\"SELECT * FROM products_orders\"\"\")\n",
    "for row in result:\n",
    "    print(row.order_id, row.order_date, row.product_id, row.product_name,\n",
    "        row.unit_price, row.user_id, row.user_name, row.total, row.amount)"
   ]
  },
  {
   "cell_type": "markdown",
   "id": "b3d5c676",
   "metadata": {},
   "source": [
    "Retrieve a user's order history using CQL (Cassandra Query Language)."
   ]
  },
  {
   "cell_type": "code",
   "execution_count": 121,
   "id": "579981a2",
   "metadata": {},
   "outputs": [],
   "source": [
    "user_id = '65a97b0d-c7a1-4631-b0a0-3a8252d535a4'  \n",
    "\n",
    "\n",
    "select_query = f\"\"\"\n",
    "    SELECT order_date, user_name, product_name, total, amount\n",
    "    FROM products_orders\n",
    "    WHERE user_id = {user_id} ALLOW FILTERING\n",
    "\"\"\""
   ]
  },
  {
   "cell_type": "code",
   "execution_count": 122,
   "id": "4b67102a",
   "metadata": {},
   "outputs": [],
   "source": [
    "result_set = session.execute(select_query)"
   ]
  },
  {
   "cell_type": "code",
   "execution_count": 123,
   "id": "3c5bebf7",
   "metadata": {},
   "outputs": [
    {
     "name": "stdout",
     "output_type": "stream",
     "text": [
      "Order Date:  2023-08-18 15:30:00\n",
      "User:  Jane Smith\n",
      "Product:  T-Shirt\n",
      "Total:  39.98\n",
      "Amount:  2\n",
      "----------------------\n"
     ]
    }
   ],
   "source": [
    "for row in result_set:\n",
    "    print(\"Order Date: \", row.order_date)\n",
    "    print(\"User: \", row.user_name)\n",
    "    print(\"Product: \", row.product_name)\n",
    "    print(\"Total: \", row.total)\n",
    "    print(\"Amount: \", row.amount)\n",
    "    print(\"----------------------\")"
   ]
  },
  {
   "cell_type": "markdown",
   "id": "abf85b8d",
   "metadata": {},
   "source": [
    "### 3. Time-Series Data:\n",
    "    \n",
    "Design a schema to handle time-series data, such as IoT sensor readings.\n"
   ]
  },
  {
   "cell_type": "code",
   "execution_count": 170,
   "id": "aede8f8a",
   "metadata": {},
   "outputs": [
    {
     "data": {
      "text/plain": [
       "<cassandra.cluster.ResultSet at 0x2a0c80083a0>"
      ]
     },
     "execution_count": 170,
     "metadata": {},
     "output_type": "execute_result"
    }
   ],
   "source": [
    "session.execute(\"\"\"CREATE KEYSPACE IF NOT EXISTS sample_data \n",
    "                WITH replication = {'class': 'SimpleStrategy', 'replication_factor': 1}\"\"\")"
   ]
  },
  {
   "cell_type": "code",
   "execution_count": 171,
   "id": "abafe2c6",
   "metadata": {},
   "outputs": [
    {
     "data": {
      "text/plain": [
       "<cassandra.cluster.ResultSet at 0x2a0c7250880>"
      ]
     },
     "execution_count": 171,
     "metadata": {},
     "output_type": "execute_result"
    }
   ],
   "source": [
    "session.execute(\"USE sample_data\")"
   ]
  },
  {
   "cell_type": "code",
   "execution_count": 204,
   "id": "e54f449e",
   "metadata": {},
   "outputs": [
    {
     "data": {
      "text/plain": [
       "<cassandra.cluster.ResultSet at 0x2a0c740d060>"
      ]
     },
     "execution_count": 204,
     "metadata": {},
     "output_type": "execute_result"
    }
   ],
   "source": [
    "create_table_query = \"\"\"\n",
    "    CREATE TABLE IF NOT EXISTS latest_events_by_device (\n",
    "    device_id  UUID,\n",
    "    current_time  TIMESTAMP,\n",
    "    state      TEXT,\n",
    "    value      TEXT,\n",
    "    PRIMARY KEY((device_id))\n",
    ")\n",
    "\"\"\"\n",
    "session.execute(create_table_query)"
   ]
  },
  {
   "cell_type": "markdown",
   "id": "2523d256",
   "metadata": {},
   "source": [
    "Insert and retrieve time-series data efficiently, using appropriate time-based partitioning."
   ]
  },
  {
   "cell_type": "code",
   "execution_count": 173,
   "id": "461c835e",
   "metadata": {},
   "outputs": [],
   "source": [
    "# Sample data for insertion\n",
    "sample_data = [\n",
    "    {'device_id': uuid.uuid4(), 'current_time': datetime.datetime.now(), 'state': 'active', 'value': '23.5'},\n",
    "    {'device_id': uuid.uuid4(), 'current_time': datetime.datetime.now(), 'state': 'inactive', 'value': '18.2'},\n",
    "    {'device_id': uuid.uuid4(), 'current_time': datetime.datetime.now(), 'state': 'active', 'value': '29.7'},\n",
    "    {'device_id': uuid.uuid4(), 'current_time': datetime.datetime.now(), 'state': 'active', 'value': '14.9'},\n",
    "    {'device_id': uuid.uuid4(), 'current_time': datetime.datetime.now(), 'state': 'inactive', 'value': '10.3'}\n",
    "]\n",
    "\n",
    "# Prepare the insert query\n",
    "insert_query = \"\"\"\n",
    "    INSERT INTO latest_events_by_device (device_id, current_time, state, value)\n",
    "    VALUES (?, ?, ?, ?)\n",
    "\"\"\""
   ]
  },
  {
   "cell_type": "code",
   "execution_count": 174,
   "id": "56f11a92",
   "metadata": {},
   "outputs": [],
   "source": [
    "sample_stmt = session.prepare(insert_query)"
   ]
  },
  {
   "cell_type": "code",
   "execution_count": 175,
   "id": "039e9a79",
   "metadata": {},
   "outputs": [],
   "source": [
    "# Insert data dynamically\n",
    "for event in sample_data:\n",
    "    session.execute(\n",
    "        sample_stmt, (event['device_id'], event['current_time'], event['state'], event['value']))"
   ]
  },
  {
   "cell_type": "code",
   "execution_count": 198,
   "id": "e6d2a238",
   "metadata": {},
   "outputs": [
    {
     "name": "stdout",
     "output_type": "stream",
     "text": [
      "b14d7478-be6c-48dc-b2e8-a6e80867b309 2023-08-20 20:46:55.932000 inactive 18.2\n",
      "1833292a-e61b-455e-b974-070505817715 2023-08-20 20:58:15.214000 active 14.9\n",
      "6542812b-6a9a-4be4-bc77-d7de75eea7da 2023-08-20 20:58:15.214000 active 29.7\n",
      "b0958966-dc6e-4a0f-b3ec-dc2c53d1be19 2023-08-20 20:46:55.932000 inactive 10.3\n",
      "242be36a-669f-4890-8bbe-3bbfd04c5285 2023-08-20 20:46:55.932000 active 29.7\n",
      "eb6a0a7f-bcd4-4e4e-bc7b-45178c947393 2023-08-20 20:58:15.214000 inactive 18.2\n",
      "95d1a5c3-1084-40e6-b0ec-3abace252959 2023-08-20 20:58:15.214000 active 23.5\n",
      "ce9a11b7-7692-45f0-9331-ab2fdbff72d3 2023-08-18 22:24:20.757000 inactive 18.2\n",
      "6aec28df-4766-494e-9842-99b824672820 2023-08-20 20:46:55.932000 active 23.5\n",
      "5aa9f35f-8c2a-4bd2-b8a1-96f1d8a81b6a 2023-08-18 22:24:20.757000 active 29.7\n",
      "a97ff5ab-6ed5-4027-a055-faec7eb48d1a 2023-08-18 22:24:20.757000 active 23.5\n",
      "a5a70044-fdf0-4b59-a5b0-e390a2630fde 2023-08-20 20:58:15.214000 inactive 10.3\n",
      "902eee4c-cfd0-4bcd-9e05-641515d86ac4 2023-08-18 22:24:20.757000 inactive 10.3\n",
      "f4e8d7df-620d-4b17-8b1a-e7d0f933dc94 2023-08-18 22:24:20.757000 active 14.9\n",
      "33d76a93-0752-4130-8d9a-b85a6e10ba13 2023-08-20 20:46:55.932000 active 14.9\n"
     ]
    }
   ],
   "source": [
    "# show the result \n",
    "result = session.execute(\"\"\"SELECT * FROM latest_events_by_device\"\"\")\n",
    "for row in result:\n",
    "    print(row.device_id, row.current_time, row.state, row.value)"
   ]
  },
  {
   "cell_type": "code",
   "execution_count": 202,
   "id": "9b5506e1",
   "metadata": {},
   "outputs": [],
   "source": [
    "# Query for a specific device\n",
    "device_id = '242be36a-669f-4890-8bbe-3bbfd04c5285'\n",
    "\n",
    "result = session.execute(\"\"\"SELECT current_time, state, value \n",
    "                            FROM latest_events_by_device WHERE device_id = {} ALLOW FILTERING\"\"\".format(device_id))"
   ]
  },
  {
   "cell_type": "code",
   "execution_count": 203,
   "id": "446eeff3",
   "metadata": {},
   "outputs": [
    {
     "name": "stdout",
     "output_type": "stream",
     "text": [
      "2023-08-20 20:46:55.932000 active 29.7\n"
     ]
    }
   ],
   "source": [
    "for row in result:\n",
    "    print(row.current_time, row.state, row.value)"
   ]
  },
  {
   "cell_type": "code",
   "execution_count": 205,
   "id": "574366f7",
   "metadata": {},
   "outputs": [],
   "source": [
    "session.shutdown()\n",
    "cluster.shutdown()"
   ]
  },
  {
   "cell_type": "code",
   "execution_count": null,
   "id": "aba0fcd5",
   "metadata": {},
   "outputs": [],
   "source": []
  }
 ],
 "metadata": {
  "hide_input": false,
  "kernelspec": {
   "display_name": "Python 3 (ipykernel)",
   "language": "python",
   "name": "python3"
  },
  "language_info": {
   "codemirror_mode": {
    "name": "ipython",
    "version": 3
   },
   "file_extension": ".py",
   "mimetype": "text/x-python",
   "name": "python",
   "nbconvert_exporter": "python",
   "pygments_lexer": "ipython3",
   "version": "3.10.4"
  }
 },
 "nbformat": 4,
 "nbformat_minor": 5
}
